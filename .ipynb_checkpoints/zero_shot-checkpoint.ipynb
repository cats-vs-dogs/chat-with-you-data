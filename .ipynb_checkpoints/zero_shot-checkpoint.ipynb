{
 "cells": [
  {
   "cell_type": "code",
   "execution_count": 1,
   "id": "c3057dfb-5f39-43c6-8332-13f93693c895",
   "metadata": {
    "execution": {
     "iopub.execute_input": "2023-10-08T07:30:23.270531Z",
     "iopub.status.busy": "2023-10-08T07:30:23.270119Z",
     "iopub.status.idle": "2023-10-08T07:30:24.730507Z",
     "shell.execute_reply": "2023-10-08T07:30:24.729834Z",
     "shell.execute_reply.started": "2023-10-08T07:30:23.270457Z"
    },
    "tags": []
   },
   "outputs": [],
   "source": [
    "from langchain.chat_models import ChatOpenAI\n",
    "# from langchain.llms import OpenAI\n",
    "from langchain import SQLDatabase\n",
    "from langchain_experimental.sql import SQLDatabaseChain\n",
    "from langchain.agents import initialize_agent\n",
    "from langchain.tools import Tool, BaseTool\n",
    "from pydantic.v1 import BaseModel, Field\n",
    "# from langchain.agents import load_tools\n",
    "from langchain.memory import ConversationBufferMemory"
   ]
  },
  {
   "cell_type": "code",
   "execution_count": 2,
   "id": "799e80ad-4d2e-4ded-8816-d198d6ceeead",
   "metadata": {
    "execution": {
     "iopub.execute_input": "2023-10-08T07:30:25.675605Z",
     "iopub.status.busy": "2023-10-08T07:30:25.675222Z",
     "iopub.status.idle": "2023-10-08T07:30:25.684762Z",
     "shell.execute_reply": "2023-10-08T07:30:25.684208Z",
     "shell.execute_reply.started": "2023-10-08T07:30:25.675577Z"
    },
    "tags": []
   },
   "outputs": [],
   "source": [
    "import os\n",
    "from dotenv import load_dotenv\n",
    "load_dotenv()\n",
    "OPENAI_API_KEY = os.getenv('OPENAI_API_KEY')"
   ]
  },
  {
   "cell_type": "code",
   "execution_count": 9,
   "id": "7eafcc6a-9288-453b-ad3e-bdd56459c577",
   "metadata": {
    "execution": {
     "iopub.execute_input": "2023-10-08T07:35:30.736967Z",
     "iopub.status.busy": "2023-10-08T07:35:30.736517Z",
     "iopub.status.idle": "2023-10-08T07:35:30.746483Z",
     "shell.execute_reply": "2023-10-08T07:35:30.745818Z",
     "shell.execute_reply.started": "2023-10-08T07:35:30.736942Z"
    },
    "tags": []
   },
   "outputs": [],
   "source": [
    "import math\n",
    "from scipy.stats import norm\n",
    "\n",
    "def rw_corp(Input_String: str) -> str:\n",
    "\n",
    "    \"\"\" \n",
    "    calculates the risk weight from input parameters \n",
    "    PD, LGD, MATURITY, F_LARGE_FIN and SIZE which are fed into the formula in this particular order \n",
    "    \"\"\"\n",
    "    \n",
    "    PD_s, LGD_s, MATURITY_s, SIZE_s, F_LARGE_FIN_s = Input_String.split(\",\\n\")\n",
    "\n",
    "    PD = float(eval(PD_s.split(\":\")[1].strip()))\n",
    "    LGD = float(eval(LGD_s.split(\":\")[1].strip()))\n",
    "    MATURITY = float(eval(MATURITY_s.split(\":\")[1].strip()))\n",
    "    SIZE = float(eval(SIZE_s.split(\":\")[1].strip()))\n",
    "    F_LARGE_FIN = (F_LARGE_FIN_s.split(\":\")[1].strip())\n",
    "       \n",
    "    pd_final = max(0.0003, PD)\n",
    "    size_final = max(5, min(SIZE, 50))    \n",
    "    r0 = (0.12 * (1.0 - math.exp(-50.0 * pd_final)) / (1.0 - math.exp(-50.0))) + \\\n",
    "        (0.24 * (1.0 - (1 - math.exp(-50.0 * pd_final)) / (1.0 - math.exp(-50.0)))) - \\\n",
    "        (0.04 * (1.0 - (size_final - 5.0) / 45.0))\n",
    "    if F_LARGE_FIN == 'Y':\n",
    "        r = r0 * 1.25\n",
    "    else:\n",
    "        r = r0\n",
    "    b = (0.11852 - 0.05478 * math.log(pd_final)) ** 2\n",
    "    ma = ((1 - 1.5 * b) ** -1) * (1 + (MATURITY - 2.5) * b)    \n",
    "    rw = ((LGD * norm.cdf((1 - r) ** -0.5 * norm.ppf(pd_final) + (r / (1 - r)) ** 0.5 * norm.ppf(0.999)) - pd_final * LGD) * ma) * 12.5 * 1.06\n",
    "    return rw  \n",
    "\n",
    "\n",
    "class RWInput(BaseModel):\n",
    "    Input_String: str = Field(description='This is a string that contains values for the input parameters \\\n",
    "                              PD, LGD, MATURITY, SIZE and F_LARGE_FIN which are fed into the formula in this particular order ')\n",
    "    \n",
    "RWTool = Tool.from_function(\n",
    "    func=rw_corp,\n",
    "    name=\"RWTool\",\n",
    "    description=\"\"\"\n",
    "    This is a custom tool that calculates the risk weight from a set of input parameters:\n",
    "        PD - Probability of Default,\n",
    "        LGD - Loss Given Default,\n",
    "        MATURITY - Remaining maturity of the loan in years,\n",
    "        SIZE - The size of the client in MEUR, usually this is the client's turnover \n",
    "        F_LARGE_FIN - If 'Y' the client is a Large Financial Institution,\n",
    "        \n",
    "        \"\"\",\n",
    "    args_schema=RWInput\n",
    ")"
   ]
  },
  {
   "cell_type": "code",
   "execution_count": 10,
   "id": "ea8a63f4-c8dd-4390-99f0-b08f70512490",
   "metadata": {
    "execution": {
     "iopub.execute_input": "2023-10-08T07:35:31.995438Z",
     "iopub.status.busy": "2023-10-08T07:35:31.995032Z",
     "iopub.status.idle": "2023-10-08T07:35:32.005892Z",
     "shell.execute_reply": "2023-10-08T07:35:32.005316Z",
     "shell.execute_reply.started": "2023-10-08T07:35:31.995412Z"
    },
    "tags": []
   },
   "outputs": [],
   "source": [
    "llm = ChatOpenAI(temperature=0, model=\"gpt-4\")\n",
    "# llm = ChatOpenAI(temperature=0)\n",
    "db = SQLDatabase.from_uri(\"sqlite:///./portfolio_data.db\",\n",
    "                         include_tables=['corporate_portfolio']\n",
    ")\n",
    "db_chain = SQLDatabaseChain.from_llm(llm, db, verbose=True)\n",
    "\n",
    "SQLTool = Tool(\n",
    "        name=\"db_query_tool\",\n",
    "        func=db_chain.run,\n",
    "        description=\"useful for quering a database\"\n",
    ")"
   ]
  },
  {
   "cell_type": "code",
   "execution_count": 11,
   "id": "70e545b3-54da-4cae-a0df-aa415fb9fc16",
   "metadata": {
    "execution": {
     "iopub.execute_input": "2023-10-08T07:35:35.416485Z",
     "iopub.status.busy": "2023-10-08T07:35:35.416078Z",
     "iopub.status.idle": "2023-10-08T07:35:35.421234Z",
     "shell.execute_reply": "2023-10-08T07:35:35.420475Z",
     "shell.execute_reply.started": "2023-10-08T07:35:35.416457Z"
    },
    "tags": []
   },
   "outputs": [],
   "source": [
    "tools = [SQLTool, RWTool]\n",
    "\n",
    "# memory = ConversationBufferMemory(memory_key=\"chat_history\")\n",
    "\n",
    "# agent = initialize_agent(\n",
    "#     agent='conversational-react-description', \n",
    "#     tools=tools, \n",
    "#     llm=llm,\n",
    "#     verbose=True,\n",
    "#     max_iterations=3,\n",
    "#     memory=memory,\n",
    "#     handle_parsing_errors=True\n",
    "# )\n",
    "\n",
    "\n",
    "agent = initialize_agent(\n",
    "    tools, \n",
    "    llm, \n",
    "    # agent=AgentType.ZERO_SHOT_REACT_DESCRIPTION, \n",
    "    agent=\"zero-shot-react-description\", \n",
    "    verbose=True, \n",
    "    handle_parsing_errors=True\n",
    ")"
   ]
  },
  {
   "cell_type": "code",
   "execution_count": 12,
   "id": "794b3a67",
   "metadata": {
    "execution": {
     "iopub.execute_input": "2023-10-08T07:35:36.464714Z",
     "iopub.status.busy": "2023-10-08T07:35:36.464325Z",
     "iopub.status.idle": "2023-10-08T07:35:49.866954Z",
     "shell.execute_reply": "2023-10-08T07:35:49.866160Z",
     "shell.execute_reply.started": "2023-10-08T07:35:36.464689Z"
    },
    "tags": []
   },
   "outputs": [
    {
     "name": "stdout",
     "output_type": "stream",
     "text": [
      "\n",
      "\n",
      "\u001b[1m> Entering new AgentExecutor chain...\u001b[0m\n",
      "\u001b[32;1m\u001b[1;3mI need to query the corporate_portfolio table in the database to get the total RWA (Risk Weighted Assets) and total EAD (Exposure At Default) for the reporting date 31-12-2022.\n",
      "Action: db_query_tool\n",
      "Action Input: SELECT SUM(RWA), SUM(EAD) FROM corporate_portfolio WHERE reporting_date = '31-12-2022'\u001b[0m\n",
      "\n",
      "\u001b[1m> Entering new SQLDatabaseChain chain...\u001b[0m\n",
      "SELECT SUM(RWA), SUM(EAD) FROM corporate_portfolio WHERE reporting_date = '31-12-2022'\n",
      "SQLQuery:\u001b[32;1m\u001b[1;3mSELECT SUM(\"RWA\"), SUM(\"EAD\") FROM corporate_portfolio WHERE \"REPORTING_DATE\" = '2022-12-31'\u001b[0m\n",
      "SQLResult: \u001b[33;1m\u001b[1;3m[(85075812.12498187, 156657332.34921697)]\u001b[0m\n",
      "Answer:\u001b[32;1m\u001b[1;3mThe sum of RWA is 85075812.12 and the sum of EAD is 156657332.35 on 31-12-2022.\u001b[0m\n",
      "\u001b[1m> Finished chain.\u001b[0m\n",
      "\n",
      "Observation: \u001b[36;1m\u001b[1;3mThe sum of RWA is 85075812.12 and the sum of EAD is 156657332.35 on 31-12-2022.\u001b[0m\n",
      "Thought:\u001b[32;1m\u001b[1;3mI now know the final answer\n",
      "Final Answer: The total RWA in the corporate_portfolio table for reporting date 31-12-2022 is 85075812.12 and the total EAD is 156657332.35.\u001b[0m\n",
      "\n",
      "\u001b[1m> Finished chain.\u001b[0m\n"
     ]
    }
   ],
   "source": [
    "# output = agent.run(\"What are total RWA and EAD in table corporate_portfolio?\")\n",
    "output = agent.run(\"What are total RWA and total EAD in the corporate_portfolio table for reporting date 31-12-2022?\")"
   ]
  },
  {
   "cell_type": "code",
   "execution_count": 13,
   "id": "824be0ea-380f-43d0-8ec4-21cdae090c55",
   "metadata": {
    "execution": {
     "iopub.execute_input": "2023-10-08T07:35:51.957777Z",
     "iopub.status.busy": "2023-10-08T07:35:51.957385Z",
     "iopub.status.idle": "2023-10-08T07:36:27.693309Z",
     "shell.execute_reply": "2023-10-08T07:36:27.692506Z",
     "shell.execute_reply.started": "2023-10-08T07:35:51.957752Z"
    },
    "tags": []
   },
   "outputs": [
    {
     "name": "stdout",
     "output_type": "stream",
     "text": [
      "\n",
      "\n",
      "\u001b[1m> Entering new AgentExecutor chain...\u001b[0m\n",
      "\u001b[32;1m\u001b[1;3mFirst, I need to fetch the required information from the corporate_portfolio table for the specified loan id and reporting date.\n",
      "Action: db_query_tool\n",
      "Action Input: SELECT * FROM corporate_portfolio WHERE loan_id = 'dninx621xv9731' AND reporting_date = '31-12-2022'\u001b[0m\n",
      "\n",
      "\u001b[1m> Entering new SQLDatabaseChain chain...\u001b[0m\n",
      "SELECT * FROM corporate_portfolio WHERE loan_id = 'dninx621xv9731' AND reporting_date = '31-12-2022'\n",
      "SQLQuery:\u001b[32;1m\u001b[1;3mSELECT \"REPORTING_DATE\", \"PARTNER_ID\", \"LOAN_ID\", \"PRODUCT\", \"STATUS\", \"EXPOSURE_DRAWN\", \"EXPOSURE_UNDRAWN\", \"EXPOSURE\", \"EAD\", \"EAD_COLL\", \"PD\", \"LGD\", \"SIZE\", \"MATURITY\", \"F_LARGE_FIN\", \"RW\", \"RWA\" FROM corporate_portfolio WHERE \"LOAN_ID\" = '1439964799kgeq68' AND \"REPORTING_DATE\" = '2022-12-31'\u001b[0m\n",
      "SQLResult: \u001b[33;1m\u001b[1;3m[('2022-12-31', 'dninx621xv9731', '1439964799kgeq68', 'CREDIT_CARD', 'Performing', 5141.569897, 4578.250143, 9719.82004, 7061.256068, 0.0, 0.0156611, 0.7026, 2.345659392, 1.41369863, 'N', 1.196209223, 8446.739634)]\u001b[0m\n",
      "Answer:\u001b[32;1m\u001b[1;3mThe details for the loan with ID '1439964799kgeq68' on the date '2022-12-31' are as follows: \n",
      "- Reporting Date: 2022-12-31\n",
      "- Partner ID: dninx621xv9731\n",
      "- Loan ID: 1439964799kgeq68\n",
      "- Product: CREDIT_CARD\n",
      "- Status: Performing\n",
      "- Exposure Drawn: 5141.569897\n",
      "- Exposure Undrawn: 4578.250143\n",
      "- Exposure: 9719.82004\n",
      "- EAD: 7061.256068\n",
      "- EAD Coll: 0.0\n",
      "- PD: 0.0156611\n",
      "- LGD: 0.7026\n",
      "- Size: 2.345659392\n",
      "- Maturity: 1.41369863\n",
      "- F Large Fin: N\n",
      "- RW: 1.196209223\n",
      "- RWA: 8446.739634\u001b[0m\n",
      "\u001b[1m> Finished chain.\u001b[0m\n",
      "\n",
      "Observation: \u001b[36;1m\u001b[1;3mThe details for the loan with ID '1439964799kgeq68' on the date '2022-12-31' are as follows: \n",
      "- Reporting Date: 2022-12-31\n",
      "- Partner ID: dninx621xv9731\n",
      "- Loan ID: 1439964799kgeq68\n",
      "- Product: CREDIT_CARD\n",
      "- Status: Performing\n",
      "- Exposure Drawn: 5141.569897\n",
      "- Exposure Undrawn: 4578.250143\n",
      "- Exposure: 9719.82004\n",
      "- EAD: 7061.256068\n",
      "- EAD Coll: 0.0\n",
      "- PD: 0.0156611\n",
      "- LGD: 0.7026\n",
      "- Size: 2.345659392\n",
      "- Maturity: 1.41369863\n",
      "- F Large Fin: N\n",
      "- RW: 1.196209223\n",
      "- RWA: 8446.739634\u001b[0m\n",
      "Thought:\u001b[32;1m\u001b[1;3mNow that I have the required parameters, I can use the RWTool to calculate the risk weight if the PD doubles.\n",
      "Action: RWTool\n",
      "Action Input: \n",
      "{\n",
      "  \"PD\": 0.0156611 * 2,\n",
      "  \"LGD\": 0.7026,\n",
      "  \"MATURITY\": 1.41369863,\n",
      "  \"SIZE\": 2.345659392,\n",
      "  \"F_LARGE_FIN\": \"N\"\n",
      "}\u001b[0m\n",
      "Observation: \u001b[33;1m\u001b[1;3m1.4635028819790805\u001b[0m\n",
      "Thought:\u001b[32;1m\u001b[1;3mI now know the final answer\n",
      "Final Answer: The risk weight if the PD doubles is approximately 1.4635.\u001b[0m\n",
      "\n",
      "\u001b[1m> Finished chain.\u001b[0m\n"
     ]
    }
   ],
   "source": [
    "output = agent.run(\"Read the information in the corporate_portfolio table for loan id dninx621xv9731 and for reporting date 31-12-2022 and then calculate the RW if PD doubles\")"
   ]
  },
  {
   "cell_type": "code",
   "execution_count": 14,
   "id": "c0a3a491-6bfc-4fc6-9c47-833f877a31ed",
   "metadata": {
    "execution": {
     "iopub.execute_input": "2023-10-08T07:37:40.412726Z",
     "iopub.status.busy": "2023-10-08T07:37:40.412305Z",
     "iopub.status.idle": "2023-10-08T07:38:12.703938Z",
     "shell.execute_reply": "2023-10-08T07:38:12.702985Z",
     "shell.execute_reply.started": "2023-10-08T07:37:40.412700Z"
    },
    "tags": []
   },
   "outputs": [
    {
     "name": "stdout",
     "output_type": "stream",
     "text": [
      "\n",
      "\n",
      "\u001b[1m> Entering new AgentExecutor chain...\u001b[0m\n",
      "\u001b[32;1m\u001b[1;3mFirst, I need to fetch the required information from the corporate_portfolio table for the specified loan id and reporting date.\n",
      "Action: db_query_tool\n",
      "Action Input: SELECT * FROM corporate_portfolio WHERE loan_id = 'dninx621xv9731' AND reporting_date = '31-12-2022'\u001b[0m\n",
      "\n",
      "\u001b[1m> Entering new SQLDatabaseChain chain...\u001b[0m\n",
      "SELECT * FROM corporate_portfolio WHERE loan_id = 'dninx621xv9731' AND reporting_date = '31-12-2022'\n",
      "SQLQuery:\u001b[32;1m\u001b[1;3mSELECT \"REPORTING_DATE\", \"PARTNER_ID\", \"LOAN_ID\", \"PRODUCT\", \"STATUS\", \"EXPOSURE_DRAWN\", \"EXPOSURE_UNDRAWN\", \"EXPOSURE\", \"EAD\", \"EAD_COLL\", \"PD\", \"LGD\", \"SIZE\", \"MATURITY\", \"F_LARGE_FIN\", \"RW\", \"RWA\" FROM corporate_portfolio WHERE \"LOAN_ID\" = '1439964799kgeq68' AND \"REPORTING_DATE\" = '2022-12-31'\u001b[0m\n",
      "SQLResult: \u001b[33;1m\u001b[1;3m[('2022-12-31', 'dninx621xv9731', '1439964799kgeq68', 'CREDIT_CARD', 'Performing', 5141.569897, 4578.250143, 9719.82004, 7061.256068, 0.0, 0.0156611, 0.7026, 2.345659392, 1.41369863, 'N', 1.196209223, 8446.739634)]\u001b[0m\n",
      "Answer:\u001b[32;1m\u001b[1;3mThe details for the loan with ID '1439964799kgeq68' on the date '2022-12-31' are as follows: \n",
      "- Reporting Date: 2022-12-31\n",
      "- Partner ID: dninx621xv9731\n",
      "- Loan ID: 1439964799kgeq68\n",
      "- Product: CREDIT_CARD\n",
      "- Status: Performing\n",
      "- Exposure Drawn: 5141.569897\n",
      "- Exposure Undrawn: 4578.250143\n",
      "- Exposure: 9719.82004\n",
      "- EAD: 7061.256068\n",
      "- EAD Coll: 0.0\n",
      "- PD: 0.0156611\n",
      "- LGD: 0.7026\n",
      "- Size: 2.345659392\n",
      "- Maturity: 1.41369863\n",
      "- F Large Fin: N\n",
      "- RW: 1.196209223\n",
      "- RWA: 8446.739634\u001b[0m\n",
      "\u001b[1m> Finished chain.\u001b[0m\n",
      "\n",
      "Observation: \u001b[36;1m\u001b[1;3mThe details for the loan with ID '1439964799kgeq68' on the date '2022-12-31' are as follows: \n",
      "- Reporting Date: 2022-12-31\n",
      "- Partner ID: dninx621xv9731\n",
      "- Loan ID: 1439964799kgeq68\n",
      "- Product: CREDIT_CARD\n",
      "- Status: Performing\n",
      "- Exposure Drawn: 5141.569897\n",
      "- Exposure Undrawn: 4578.250143\n",
      "- Exposure: 9719.82004\n",
      "- EAD: 7061.256068\n",
      "- EAD Coll: 0.0\n",
      "- PD: 0.0156611\n",
      "- LGD: 0.7026\n",
      "- Size: 2.345659392\n",
      "- Maturity: 1.41369863\n",
      "- F Large Fin: N\n",
      "- RW: 1.196209223\n",
      "- RWA: 8446.739634\u001b[0m\n",
      "Thought:\u001b[32;1m\u001b[1;3mNow that I have the required parameters, I can use the RWTool to calculate the risk weight (RW) if the Loss Given Default (LGD) doubles.\n",
      "Action: RWTool\n",
      "Action Input: \n",
      "{\n",
      "  \"PD\": 0.0156611,\n",
      "  \"LGD\": 0.7026 * 2,  // Doubling the LGD\n",
      "  \"MATURITY\": 1.41369863,\n",
      "  \"SIZE\": 2.345659392,\n",
      "  \"F_LARGE_FIN\": \"N\"\n",
      "}\u001b[0m"
     ]
    },
    {
     "ename": "ValueError",
     "evalue": "not enough values to unpack (expected 5, got 4)",
     "output_type": "error",
     "traceback": [
      "\u001b[0;31m---------------------------------------------------------------------------\u001b[0m",
      "\u001b[0;31mValueError\u001b[0m                                Traceback (most recent call last)",
      "Cell \u001b[0;32mIn [14], line 1\u001b[0m\n\u001b[0;32m----> 1\u001b[0m output \u001b[38;5;241m=\u001b[39m agent\u001b[38;5;241m.\u001b[39mrun(\u001b[38;5;124m\"\u001b[39m\u001b[38;5;124mRead the information in the corporate_portfolio table for loan id dninx621xv9731 and for reporting date 31-12-2022 and then calculate the RW if LGD doubles\u001b[39m\u001b[38;5;124m\"\u001b[39m)\n",
      "File \u001b[0;32m/opt/saturncloud/envs/saturn/lib/python3.9/site-packages/langchain/chains/base.py:501\u001b[0m, in \u001b[0;36mChain.run\u001b[0;34m(self, callbacks, tags, metadata, *args, **kwargs)\u001b[0m\n\u001b[1;32m    499\u001b[0m     \u001b[38;5;28;01mif\u001b[39;00m \u001b[38;5;28mlen\u001b[39m(args) \u001b[38;5;241m!=\u001b[39m \u001b[38;5;241m1\u001b[39m:\n\u001b[1;32m    500\u001b[0m         \u001b[38;5;28;01mraise\u001b[39;00m \u001b[38;5;167;01mValueError\u001b[39;00m(\u001b[38;5;124m\"\u001b[39m\u001b[38;5;124m`run` supports only one positional argument.\u001b[39m\u001b[38;5;124m\"\u001b[39m)\n\u001b[0;32m--> 501\u001b[0m     \u001b[38;5;28;01mreturn\u001b[39;00m \u001b[38;5;28;43mself\u001b[39;49m\u001b[43m(\u001b[49m\u001b[43margs\u001b[49m\u001b[43m[\u001b[49m\u001b[38;5;241;43m0\u001b[39;49m\u001b[43m]\u001b[49m\u001b[43m,\u001b[49m\u001b[43m \u001b[49m\u001b[43mcallbacks\u001b[49m\u001b[38;5;241;43m=\u001b[39;49m\u001b[43mcallbacks\u001b[49m\u001b[43m,\u001b[49m\u001b[43m \u001b[49m\u001b[43mtags\u001b[49m\u001b[38;5;241;43m=\u001b[39;49m\u001b[43mtags\u001b[49m\u001b[43m,\u001b[49m\u001b[43m \u001b[49m\u001b[43mmetadata\u001b[49m\u001b[38;5;241;43m=\u001b[39;49m\u001b[43mmetadata\u001b[49m\u001b[43m)\u001b[49m[\n\u001b[1;32m    502\u001b[0m         _output_key\n\u001b[1;32m    503\u001b[0m     ]\n\u001b[1;32m    505\u001b[0m \u001b[38;5;28;01mif\u001b[39;00m kwargs \u001b[38;5;129;01mand\u001b[39;00m \u001b[38;5;129;01mnot\u001b[39;00m args:\n\u001b[1;32m    506\u001b[0m     \u001b[38;5;28;01mreturn\u001b[39;00m \u001b[38;5;28mself\u001b[39m(kwargs, callbacks\u001b[38;5;241m=\u001b[39mcallbacks, tags\u001b[38;5;241m=\u001b[39mtags, metadata\u001b[38;5;241m=\u001b[39mmetadata)[\n\u001b[1;32m    507\u001b[0m         _output_key\n\u001b[1;32m    508\u001b[0m     ]\n",
      "File \u001b[0;32m/opt/saturncloud/envs/saturn/lib/python3.9/site-packages/langchain/chains/base.py:306\u001b[0m, in \u001b[0;36mChain.__call__\u001b[0;34m(self, inputs, return_only_outputs, callbacks, tags, metadata, run_name, include_run_info)\u001b[0m\n\u001b[1;32m    304\u001b[0m \u001b[38;5;28;01mexcept\u001b[39;00m \u001b[38;5;167;01mBaseException\u001b[39;00m \u001b[38;5;28;01mas\u001b[39;00m e:\n\u001b[1;32m    305\u001b[0m     run_manager\u001b[38;5;241m.\u001b[39mon_chain_error(e)\n\u001b[0;32m--> 306\u001b[0m     \u001b[38;5;28;01mraise\u001b[39;00m e\n\u001b[1;32m    307\u001b[0m run_manager\u001b[38;5;241m.\u001b[39mon_chain_end(outputs)\n\u001b[1;32m    308\u001b[0m final_outputs: Dict[\u001b[38;5;28mstr\u001b[39m, Any] \u001b[38;5;241m=\u001b[39m \u001b[38;5;28mself\u001b[39m\u001b[38;5;241m.\u001b[39mprep_outputs(\n\u001b[1;32m    309\u001b[0m     inputs, outputs, return_only_outputs\n\u001b[1;32m    310\u001b[0m )\n",
      "File \u001b[0;32m/opt/saturncloud/envs/saturn/lib/python3.9/site-packages/langchain/chains/base.py:300\u001b[0m, in \u001b[0;36mChain.__call__\u001b[0;34m(self, inputs, return_only_outputs, callbacks, tags, metadata, run_name, include_run_info)\u001b[0m\n\u001b[1;32m    293\u001b[0m run_manager \u001b[38;5;241m=\u001b[39m callback_manager\u001b[38;5;241m.\u001b[39mon_chain_start(\n\u001b[1;32m    294\u001b[0m     dumpd(\u001b[38;5;28mself\u001b[39m),\n\u001b[1;32m    295\u001b[0m     inputs,\n\u001b[1;32m    296\u001b[0m     name\u001b[38;5;241m=\u001b[39mrun_name,\n\u001b[1;32m    297\u001b[0m )\n\u001b[1;32m    298\u001b[0m \u001b[38;5;28;01mtry\u001b[39;00m:\n\u001b[1;32m    299\u001b[0m     outputs \u001b[38;5;241m=\u001b[39m (\n\u001b[0;32m--> 300\u001b[0m         \u001b[38;5;28;43mself\u001b[39;49m\u001b[38;5;241;43m.\u001b[39;49m\u001b[43m_call\u001b[49m\u001b[43m(\u001b[49m\u001b[43minputs\u001b[49m\u001b[43m,\u001b[49m\u001b[43m \u001b[49m\u001b[43mrun_manager\u001b[49m\u001b[38;5;241;43m=\u001b[39;49m\u001b[43mrun_manager\u001b[49m\u001b[43m)\u001b[49m\n\u001b[1;32m    301\u001b[0m         \u001b[38;5;28;01mif\u001b[39;00m new_arg_supported\n\u001b[1;32m    302\u001b[0m         \u001b[38;5;28;01melse\u001b[39;00m \u001b[38;5;28mself\u001b[39m\u001b[38;5;241m.\u001b[39m_call(inputs)\n\u001b[1;32m    303\u001b[0m     )\n\u001b[1;32m    304\u001b[0m \u001b[38;5;28;01mexcept\u001b[39;00m \u001b[38;5;167;01mBaseException\u001b[39;00m \u001b[38;5;28;01mas\u001b[39;00m e:\n\u001b[1;32m    305\u001b[0m     run_manager\u001b[38;5;241m.\u001b[39mon_chain_error(e)\n",
      "File \u001b[0;32m/opt/saturncloud/envs/saturn/lib/python3.9/site-packages/langchain/agents/agent.py:1141\u001b[0m, in \u001b[0;36mAgentExecutor._call\u001b[0;34m(self, inputs, run_manager)\u001b[0m\n\u001b[1;32m   1139\u001b[0m \u001b[38;5;66;03m# We now enter the agent loop (until it returns something).\u001b[39;00m\n\u001b[1;32m   1140\u001b[0m \u001b[38;5;28;01mwhile\u001b[39;00m \u001b[38;5;28mself\u001b[39m\u001b[38;5;241m.\u001b[39m_should_continue(iterations, time_elapsed):\n\u001b[0;32m-> 1141\u001b[0m     next_step_output \u001b[38;5;241m=\u001b[39m \u001b[38;5;28;43mself\u001b[39;49m\u001b[38;5;241;43m.\u001b[39;49m\u001b[43m_take_next_step\u001b[49m\u001b[43m(\u001b[49m\n\u001b[1;32m   1142\u001b[0m \u001b[43m        \u001b[49m\u001b[43mname_to_tool_map\u001b[49m\u001b[43m,\u001b[49m\n\u001b[1;32m   1143\u001b[0m \u001b[43m        \u001b[49m\u001b[43mcolor_mapping\u001b[49m\u001b[43m,\u001b[49m\n\u001b[1;32m   1144\u001b[0m \u001b[43m        \u001b[49m\u001b[43minputs\u001b[49m\u001b[43m,\u001b[49m\n\u001b[1;32m   1145\u001b[0m \u001b[43m        \u001b[49m\u001b[43mintermediate_steps\u001b[49m\u001b[43m,\u001b[49m\n\u001b[1;32m   1146\u001b[0m \u001b[43m        \u001b[49m\u001b[43mrun_manager\u001b[49m\u001b[38;5;241;43m=\u001b[39;49m\u001b[43mrun_manager\u001b[49m\u001b[43m,\u001b[49m\n\u001b[1;32m   1147\u001b[0m \u001b[43m    \u001b[49m\u001b[43m)\u001b[49m\n\u001b[1;32m   1148\u001b[0m     \u001b[38;5;28;01mif\u001b[39;00m \u001b[38;5;28misinstance\u001b[39m(next_step_output, AgentFinish):\n\u001b[1;32m   1149\u001b[0m         \u001b[38;5;28;01mreturn\u001b[39;00m \u001b[38;5;28mself\u001b[39m\u001b[38;5;241m.\u001b[39m_return(\n\u001b[1;32m   1150\u001b[0m             next_step_output, intermediate_steps, run_manager\u001b[38;5;241m=\u001b[39mrun_manager\n\u001b[1;32m   1151\u001b[0m         )\n",
      "File \u001b[0;32m/opt/saturncloud/envs/saturn/lib/python3.9/site-packages/langchain/agents/agent.py:991\u001b[0m, in \u001b[0;36mAgentExecutor._take_next_step\u001b[0;34m(self, name_to_tool_map, color_mapping, inputs, intermediate_steps, run_manager)\u001b[0m\n\u001b[1;32m    989\u001b[0m         tool_run_kwargs[\u001b[38;5;124m\"\u001b[39m\u001b[38;5;124mllm_prefix\u001b[39m\u001b[38;5;124m\"\u001b[39m] \u001b[38;5;241m=\u001b[39m \u001b[38;5;124m\"\u001b[39m\u001b[38;5;124m\"\u001b[39m\n\u001b[1;32m    990\u001b[0m     \u001b[38;5;66;03m# We then call the tool on the tool input to get an observation\u001b[39;00m\n\u001b[0;32m--> 991\u001b[0m     observation \u001b[38;5;241m=\u001b[39m \u001b[43mtool\u001b[49m\u001b[38;5;241;43m.\u001b[39;49m\u001b[43mrun\u001b[49m\u001b[43m(\u001b[49m\n\u001b[1;32m    992\u001b[0m \u001b[43m        \u001b[49m\u001b[43magent_action\u001b[49m\u001b[38;5;241;43m.\u001b[39;49m\u001b[43mtool_input\u001b[49m\u001b[43m,\u001b[49m\n\u001b[1;32m    993\u001b[0m \u001b[43m        \u001b[49m\u001b[43mverbose\u001b[49m\u001b[38;5;241;43m=\u001b[39;49m\u001b[38;5;28;43mself\u001b[39;49m\u001b[38;5;241;43m.\u001b[39;49m\u001b[43mverbose\u001b[49m\u001b[43m,\u001b[49m\n\u001b[1;32m    994\u001b[0m \u001b[43m        \u001b[49m\u001b[43mcolor\u001b[49m\u001b[38;5;241;43m=\u001b[39;49m\u001b[43mcolor\u001b[49m\u001b[43m,\u001b[49m\n\u001b[1;32m    995\u001b[0m \u001b[43m        \u001b[49m\u001b[43mcallbacks\u001b[49m\u001b[38;5;241;43m=\u001b[39;49m\u001b[43mrun_manager\u001b[49m\u001b[38;5;241;43m.\u001b[39;49m\u001b[43mget_child\u001b[49m\u001b[43m(\u001b[49m\u001b[43m)\u001b[49m\u001b[43m \u001b[49m\u001b[38;5;28;43;01mif\u001b[39;49;00m\u001b[43m \u001b[49m\u001b[43mrun_manager\u001b[49m\u001b[43m \u001b[49m\u001b[38;5;28;43;01melse\u001b[39;49;00m\u001b[43m \u001b[49m\u001b[38;5;28;43;01mNone\u001b[39;49;00m\u001b[43m,\u001b[49m\n\u001b[1;32m    996\u001b[0m \u001b[43m        \u001b[49m\u001b[38;5;241;43m*\u001b[39;49m\u001b[38;5;241;43m*\u001b[39;49m\u001b[43mtool_run_kwargs\u001b[49m\u001b[43m,\u001b[49m\n\u001b[1;32m    997\u001b[0m \u001b[43m    \u001b[49m\u001b[43m)\u001b[49m\n\u001b[1;32m    998\u001b[0m \u001b[38;5;28;01melse\u001b[39;00m:\n\u001b[1;32m    999\u001b[0m     tool_run_kwargs \u001b[38;5;241m=\u001b[39m \u001b[38;5;28mself\u001b[39m\u001b[38;5;241m.\u001b[39magent\u001b[38;5;241m.\u001b[39mtool_run_logging_kwargs()\n",
      "File \u001b[0;32m/opt/saturncloud/envs/saturn/lib/python3.9/site-packages/langchain/tools/base.py:364\u001b[0m, in \u001b[0;36mBaseTool.run\u001b[0;34m(self, tool_input, verbose, start_color, color, callbacks, tags, metadata, run_name, **kwargs)\u001b[0m\n\u001b[1;32m    362\u001b[0m \u001b[38;5;28;01mexcept\u001b[39;00m (\u001b[38;5;167;01mException\u001b[39;00m, \u001b[38;5;167;01mKeyboardInterrupt\u001b[39;00m) \u001b[38;5;28;01mas\u001b[39;00m e:\n\u001b[1;32m    363\u001b[0m     run_manager\u001b[38;5;241m.\u001b[39mon_tool_error(e)\n\u001b[0;32m--> 364\u001b[0m     \u001b[38;5;28;01mraise\u001b[39;00m e\n\u001b[1;32m    365\u001b[0m \u001b[38;5;28;01melse\u001b[39;00m:\n\u001b[1;32m    366\u001b[0m     run_manager\u001b[38;5;241m.\u001b[39mon_tool_end(\n\u001b[1;32m    367\u001b[0m         \u001b[38;5;28mstr\u001b[39m(observation), color\u001b[38;5;241m=\u001b[39mcolor, name\u001b[38;5;241m=\u001b[39m\u001b[38;5;28mself\u001b[39m\u001b[38;5;241m.\u001b[39mname, \u001b[38;5;241m*\u001b[39m\u001b[38;5;241m*\u001b[39mkwargs\n\u001b[1;32m    368\u001b[0m     )\n",
      "File \u001b[0;32m/opt/saturncloud/envs/saturn/lib/python3.9/site-packages/langchain/tools/base.py:336\u001b[0m, in \u001b[0;36mBaseTool.run\u001b[0;34m(self, tool_input, verbose, start_color, color, callbacks, tags, metadata, run_name, **kwargs)\u001b[0m\n\u001b[1;32m    333\u001b[0m \u001b[38;5;28;01mtry\u001b[39;00m:\n\u001b[1;32m    334\u001b[0m     tool_args, tool_kwargs \u001b[38;5;241m=\u001b[39m \u001b[38;5;28mself\u001b[39m\u001b[38;5;241m.\u001b[39m_to_args_and_kwargs(parsed_input)\n\u001b[1;32m    335\u001b[0m     observation \u001b[38;5;241m=\u001b[39m (\n\u001b[0;32m--> 336\u001b[0m         \u001b[38;5;28;43mself\u001b[39;49m\u001b[38;5;241;43m.\u001b[39;49m\u001b[43m_run\u001b[49m\u001b[43m(\u001b[49m\u001b[38;5;241;43m*\u001b[39;49m\u001b[43mtool_args\u001b[49m\u001b[43m,\u001b[49m\u001b[43m \u001b[49m\u001b[43mrun_manager\u001b[49m\u001b[38;5;241;43m=\u001b[39;49m\u001b[43mrun_manager\u001b[49m\u001b[43m,\u001b[49m\u001b[43m \u001b[49m\u001b[38;5;241;43m*\u001b[39;49m\u001b[38;5;241;43m*\u001b[39;49m\u001b[43mtool_kwargs\u001b[49m\u001b[43m)\u001b[49m\n\u001b[1;32m    337\u001b[0m         \u001b[38;5;28;01mif\u001b[39;00m new_arg_supported\n\u001b[1;32m    338\u001b[0m         \u001b[38;5;28;01melse\u001b[39;00m \u001b[38;5;28mself\u001b[39m\u001b[38;5;241m.\u001b[39m_run(\u001b[38;5;241m*\u001b[39mtool_args, \u001b[38;5;241m*\u001b[39m\u001b[38;5;241m*\u001b[39mtool_kwargs)\n\u001b[1;32m    339\u001b[0m     )\n\u001b[1;32m    340\u001b[0m \u001b[38;5;28;01mexcept\u001b[39;00m ToolException \u001b[38;5;28;01mas\u001b[39;00m e:\n\u001b[1;32m    341\u001b[0m     \u001b[38;5;28;01mif\u001b[39;00m \u001b[38;5;129;01mnot\u001b[39;00m \u001b[38;5;28mself\u001b[39m\u001b[38;5;241m.\u001b[39mhandle_tool_error:\n",
      "File \u001b[0;32m/opt/saturncloud/envs/saturn/lib/python3.9/site-packages/langchain/tools/base.py:515\u001b[0m, in \u001b[0;36mTool._run\u001b[0;34m(self, run_manager, *args, **kwargs)\u001b[0m\n\u001b[1;32m    506\u001b[0m \u001b[38;5;28;01mif\u001b[39;00m \u001b[38;5;28mself\u001b[39m\u001b[38;5;241m.\u001b[39mfunc:\n\u001b[1;32m    507\u001b[0m     new_argument_supported \u001b[38;5;241m=\u001b[39m signature(\u001b[38;5;28mself\u001b[39m\u001b[38;5;241m.\u001b[39mfunc)\u001b[38;5;241m.\u001b[39mparameters\u001b[38;5;241m.\u001b[39mget(\u001b[38;5;124m\"\u001b[39m\u001b[38;5;124mcallbacks\u001b[39m\u001b[38;5;124m\"\u001b[39m)\n\u001b[1;32m    508\u001b[0m     \u001b[38;5;28;01mreturn\u001b[39;00m (\n\u001b[1;32m    509\u001b[0m         \u001b[38;5;28mself\u001b[39m\u001b[38;5;241m.\u001b[39mfunc(\n\u001b[1;32m    510\u001b[0m             \u001b[38;5;241m*\u001b[39margs,\n\u001b[1;32m    511\u001b[0m             callbacks\u001b[38;5;241m=\u001b[39mrun_manager\u001b[38;5;241m.\u001b[39mget_child() \u001b[38;5;28;01mif\u001b[39;00m run_manager \u001b[38;5;28;01melse\u001b[39;00m \u001b[38;5;28;01mNone\u001b[39;00m,\n\u001b[1;32m    512\u001b[0m             \u001b[38;5;241m*\u001b[39m\u001b[38;5;241m*\u001b[39mkwargs,\n\u001b[1;32m    513\u001b[0m         )\n\u001b[1;32m    514\u001b[0m         \u001b[38;5;28;01mif\u001b[39;00m new_argument_supported\n\u001b[0;32m--> 515\u001b[0m         \u001b[38;5;28;01melse\u001b[39;00m \u001b[38;5;28;43mself\u001b[39;49m\u001b[38;5;241;43m.\u001b[39;49m\u001b[43mfunc\u001b[49m\u001b[43m(\u001b[49m\u001b[38;5;241;43m*\u001b[39;49m\u001b[43margs\u001b[49m\u001b[43m,\u001b[49m\u001b[43m \u001b[49m\u001b[38;5;241;43m*\u001b[39;49m\u001b[38;5;241;43m*\u001b[39;49m\u001b[43mkwargs\u001b[49m\u001b[43m)\u001b[49m\n\u001b[1;32m    516\u001b[0m     )\n\u001b[1;32m    517\u001b[0m \u001b[38;5;28;01mraise\u001b[39;00m \u001b[38;5;167;01mNotImplementedError\u001b[39;00m(\u001b[38;5;124m\"\u001b[39m\u001b[38;5;124mTool does not support sync\u001b[39m\u001b[38;5;124m\"\u001b[39m)\n",
      "Cell \u001b[0;32mIn [9], line 11\u001b[0m, in \u001b[0;36mrw_corp\u001b[0;34m(Input_String)\u001b[0m\n\u001b[1;32m      4\u001b[0m \u001b[38;5;28;01mdef\u001b[39;00m \u001b[38;5;21mrw_corp\u001b[39m(Input_String: \u001b[38;5;28mstr\u001b[39m) \u001b[38;5;241m-\u001b[39m\u001b[38;5;241m>\u001b[39m \u001b[38;5;28mstr\u001b[39m:\n\u001b[1;32m      6\u001b[0m     \u001b[38;5;124;03m\"\"\" \u001b[39;00m\n\u001b[1;32m      7\u001b[0m \u001b[38;5;124;03m    calculates the risk weight from input parameters \u001b[39;00m\n\u001b[1;32m      8\u001b[0m \u001b[38;5;124;03m    PD, LGD, MATURITY, F_LARGE_FIN and SIZE which are fed into the formula in this particular order \u001b[39;00m\n\u001b[1;32m      9\u001b[0m \u001b[38;5;124;03m    \"\"\"\u001b[39;00m\n\u001b[0;32m---> 11\u001b[0m     PD_s, LGD_s, MATURITY_s, SIZE_s, F_LARGE_FIN_s \u001b[38;5;241m=\u001b[39m Input_String\u001b[38;5;241m.\u001b[39msplit(\u001b[38;5;124m\"\u001b[39m\u001b[38;5;124m,\u001b[39m\u001b[38;5;130;01m\\n\u001b[39;00m\u001b[38;5;124m\"\u001b[39m)\n\u001b[1;32m     13\u001b[0m     PD \u001b[38;5;241m=\u001b[39m \u001b[38;5;28mfloat\u001b[39m(\u001b[38;5;28meval\u001b[39m(PD_s\u001b[38;5;241m.\u001b[39msplit(\u001b[38;5;124m\"\u001b[39m\u001b[38;5;124m:\u001b[39m\u001b[38;5;124m\"\u001b[39m)[\u001b[38;5;241m1\u001b[39m]\u001b[38;5;241m.\u001b[39mstrip()))\n\u001b[1;32m     14\u001b[0m     LGD \u001b[38;5;241m=\u001b[39m \u001b[38;5;28mfloat\u001b[39m(\u001b[38;5;28meval\u001b[39m(LGD_s\u001b[38;5;241m.\u001b[39msplit(\u001b[38;5;124m\"\u001b[39m\u001b[38;5;124m:\u001b[39m\u001b[38;5;124m\"\u001b[39m)[\u001b[38;5;241m1\u001b[39m]\u001b[38;5;241m.\u001b[39mstrip()))\n",
      "\u001b[0;31mValueError\u001b[0m: not enough values to unpack (expected 5, got 4)"
     ]
    }
   ],
   "source": [
    "output = agent.run(\"Read the information in the corporate_portfolio table for loan id dninx621xv9731 and for reporting date 31-12-2022 and then calculate the RW if LGD doubles\")"
   ]
  },
  {
   "cell_type": "code",
   "execution_count": 15,
   "id": "0c86645f-98e8-4f43-bff7-c3d1339b421d",
   "metadata": {
    "execution": {
     "iopub.execute_input": "2023-10-08T07:39:21.583320Z",
     "iopub.status.busy": "2023-10-08T07:39:21.582914Z",
     "iopub.status.idle": "2023-10-08T07:39:57.953555Z",
     "shell.execute_reply": "2023-10-08T07:39:57.952808Z",
     "shell.execute_reply.started": "2023-10-08T07:39:21.583294Z"
    }
   },
   "outputs": [
    {
     "name": "stdout",
     "output_type": "stream",
     "text": [
      "\n",
      "\n",
      "\u001b[1m> Entering new AgentExecutor chain...\u001b[0m\n",
      "\u001b[32;1m\u001b[1;3mFirst, I need to fetch the required information from the corporate_portfolio table for the specified loan id and reporting date.\n",
      "Action: db_query_tool\n",
      "Action Input: SELECT * FROM corporate_portfolio WHERE loan_id = 'dninx621xv9731' AND reporting_date = '31-12-2022'\u001b[0m\n",
      "\n",
      "\u001b[1m> Entering new SQLDatabaseChain chain...\u001b[0m\n",
      "SELECT * FROM corporate_portfolio WHERE loan_id = 'dninx621xv9731' AND reporting_date = '31-12-2022'\n",
      "SQLQuery:\u001b[32;1m\u001b[1;3mSELECT \"REPORTING_DATE\", \"PARTNER_ID\", \"LOAN_ID\", \"PRODUCT\", \"STATUS\", \"EXPOSURE_DRAWN\", \"EXPOSURE_UNDRAWN\", \"EXPOSURE\", \"EAD\", \"EAD_COLL\", \"PD\", \"LGD\", \"SIZE\", \"MATURITY\", \"F_LARGE_FIN\", \"RW\", \"RWA\" FROM corporate_portfolio WHERE \"LOAN_ID\" = '1439964799kgeq68' AND \"REPORTING_DATE\" = '2022-12-31'\u001b[0m\n",
      "SQLResult: \u001b[33;1m\u001b[1;3m[('2022-12-31', 'dninx621xv9731', '1439964799kgeq68', 'CREDIT_CARD', 'Performing', 5141.569897, 4578.250143, 9719.82004, 7061.256068, 0.0, 0.0156611, 0.7026, 2.345659392, 1.41369863, 'N', 1.196209223, 8446.739634)]\u001b[0m\n",
      "Answer:\u001b[32;1m\u001b[1;3mThe details for the loan with ID '1439964799kgeq68' on the date '2022-12-31' are as follows: \n",
      "- Reporting Date: 2022-12-31\n",
      "- Partner ID: dninx621xv9731\n",
      "- Loan ID: 1439964799kgeq68\n",
      "- Product: CREDIT_CARD\n",
      "- Status: Performing\n",
      "- Exposure Drawn: 5141.569897\n",
      "- Exposure Undrawn: 4578.250143\n",
      "- Exposure: 9719.82004\n",
      "- EAD: 7061.256068\n",
      "- EAD Coll: 0.0\n",
      "- PD: 0.0156611\n",
      "- LGD: 0.7026\n",
      "- Size: 2.345659392\n",
      "- Maturity: 1.41369863\n",
      "- F Large Fin: N\n",
      "- RW: 1.196209223\n",
      "- RWA: 8446.739634\u001b[0m\n",
      "\u001b[1m> Finished chain.\u001b[0m\n",
      "\n",
      "Observation: \u001b[36;1m\u001b[1;3mThe details for the loan with ID '1439964799kgeq68' on the date '2022-12-31' are as follows: \n",
      "- Reporting Date: 2022-12-31\n",
      "- Partner ID: dninx621xv9731\n",
      "- Loan ID: 1439964799kgeq68\n",
      "- Product: CREDIT_CARD\n",
      "- Status: Performing\n",
      "- Exposure Drawn: 5141.569897\n",
      "- Exposure Undrawn: 4578.250143\n",
      "- Exposure: 9719.82004\n",
      "- EAD: 7061.256068\n",
      "- EAD Coll: 0.0\n",
      "- PD: 0.0156611\n",
      "- LGD: 0.7026\n",
      "- Size: 2.345659392\n",
      "- Maturity: 1.41369863\n",
      "- F Large Fin: N\n",
      "- RW: 1.196209223\n",
      "- RWA: 8446.739634\u001b[0m\n",
      "Thought:\u001b[32;1m\u001b[1;3mNow that I have the necessary parameters, I can use the RWTool to calculate the new risk weight (RW) if the maturity becomes 6.23.\n",
      "Action: RWTool\n",
      "Action Input: \n",
      "{\n",
      "  \"PD\": 0.0156611,\n",
      "  \"LGD\": 0.7026,\n",
      "  \"MATURITY\": 6.23,\n",
      "  \"SIZE\": 2.345659392,\n",
      "  \"F_LARGE_FIN\": \"N\"\n",
      "}\u001b[0m\n",
      "Observation: \u001b[33;1m\u001b[1;3m1.9901793310985323\u001b[0m\n",
      "Thought:\u001b[32;1m\u001b[1;3mI now know the final answer\n",
      "Final Answer: The new risk weight (RW) if the maturity becomes 6.23 is approximately 1.9901793310985323.\u001b[0m\n",
      "\n",
      "\u001b[1m> Finished chain.\u001b[0m\n"
     ]
    }
   ],
   "source": [
    "output = agent.run(\"Read the information in the corporate_portfolio table for loan id dninx621xv9731 and for reporting date 31-12-2022 and then calculate the RW if MATURITY becomes 6.23\")"
   ]
  },
  {
   "cell_type": "code",
   "execution_count": 18,
   "id": "be4b1763-a8ec-48e9-a64a-19375f894e21",
   "metadata": {
    "execution": {
     "iopub.execute_input": "2023-10-08T07:46:33.593119Z",
     "iopub.status.busy": "2023-10-08T07:46:33.592722Z",
     "iopub.status.idle": "2023-10-08T07:47:10.937228Z",
     "shell.execute_reply": "2023-10-08T07:47:10.935906Z",
     "shell.execute_reply.started": "2023-10-08T07:46:33.593095Z"
    },
    "tags": []
   },
   "outputs": [
    {
     "name": "stdout",
     "output_type": "stream",
     "text": [
      "\n",
      "\n",
      "\u001b[1m> Entering new AgentExecutor chain...\u001b[0m\n",
      "\u001b[32;1m\u001b[1;3mFirst, I need to fetch the required information from the corporate_portfolio table for the specified loan id and reporting date.\n",
      "Action: db_query_tool\n",
      "Action Input: SELECT * FROM corporate_portfolio WHERE loan_id = '1851285872eypk20' AND reporting_date = '31-12-2022'\u001b[0m\n",
      "\n",
      "\u001b[1m> Entering new SQLDatabaseChain chain...\u001b[0m\n",
      "SELECT * FROM corporate_portfolio WHERE loan_id = '1851285872eypk20' AND reporting_date = '31-12-2022'\n",
      "SQLQuery:\u001b[32;1m\u001b[1;3mSELECT \"REPORTING_DATE\", \"PARTNER_ID\", \"LOAN_ID\", \"PRODUCT\", \"STATUS\", \"EXPOSURE_DRAWN\", \"EXPOSURE_UNDRAWN\", \"EXPOSURE\", \"EAD\", \"EAD_COLL\", \"PD\", \"LGD\", \"SIZE\", \"MATURITY\", \"F_LARGE_FIN\", \"RW\", \"RWA\" FROM corporate_portfolio WHERE \"LOAN_ID\" = '1851285872eypk20' AND \"REPORTING_DATE\" = '2022-12-31' LIMIT 5\u001b[0m\n",
      "SQLResult: \u001b[33;1m\u001b[1;3m[('2022-12-31', 'vzkah667hw5846', '1851285872eypk20', 'CREDIT_CARD', 'Performing', 0.0, 3830.21812, 3830.21812, 1565.410146, 0.0, 0.0022528, 0.549, 44.9952041, 1.0, 'N', 0.409196683, 640.5606391)]\u001b[0m\n",
      "Answer:\u001b[32;1m\u001b[1;3mThe details for the loan with ID '1851285872eypk20' on the reporting date '2022-12-31' are as follows: \n",
      "- Partner ID: vzkah667hw5846\n",
      "- Product: CREDIT_CARD\n",
      "- Status: Performing\n",
      "- Exposure Drawn: 0.0\n",
      "- Exposure Undrawn: 3830.21812\n",
      "- Exposure: 3830.21812\n",
      "- EAD: 1565.410146\n",
      "- EAD Coll: 0.0\n",
      "- PD: 0.0022528\n",
      "- LGD: 0.549\n",
      "- Size: 44.9952041\n",
      "- Maturity: 1.0\n",
      "- F Large Fin: N\n",
      "- RW: 0.409196683\n",
      "- RWA: 640.5606391\u001b[0m\n",
      "\u001b[1m> Finished chain.\u001b[0m\n",
      "\n",
      "Observation: \u001b[36;1m\u001b[1;3mThe details for the loan with ID '1851285872eypk20' on the reporting date '2022-12-31' are as follows: \n",
      "- Partner ID: vzkah667hw5846\n",
      "- Product: CREDIT_CARD\n",
      "- Status: Performing\n",
      "- Exposure Drawn: 0.0\n",
      "- Exposure Undrawn: 3830.21812\n",
      "- Exposure: 3830.21812\n",
      "- EAD: 1565.410146\n",
      "- EAD Coll: 0.0\n",
      "- PD: 0.0022528\n",
      "- LGD: 0.549\n",
      "- Size: 44.9952041\n",
      "- Maturity: 1.0\n",
      "- F Large Fin: N\n",
      "- RW: 0.409196683\n",
      "- RWA: 640.5606391\u001b[0m\n",
      "Thought:\u001b[32;1m\u001b[1;3mNow that I have the necessary data, I can calculate the new risk weight (RW) if the Loss Given Default (LGD) doubles. I will use the RWTool for this calculation.\n",
      "Action: RWTool\n",
      "Action Input: \n",
      "{\n",
      "  \"PD\": 0.0022528,\n",
      "  \"LGD\": 0.549 * 2,  // Doubling the LGD\n",
      "  \"MATURITY\": 1.0,\n",
      "  \"SIZE\": 44.9952041,\n",
      "  \"F_LARGE_FIN\": \"N\"\n",
      "}\u001b[0m"
     ]
    },
    {
     "ename": "ValueError",
     "evalue": "not enough values to unpack (expected 5, got 4)",
     "output_type": "error",
     "traceback": [
      "\u001b[0;31m---------------------------------------------------------------------------\u001b[0m",
      "\u001b[0;31mValueError\u001b[0m                                Traceback (most recent call last)",
      "Cell \u001b[0;32mIn [18], line 1\u001b[0m\n\u001b[0;32m----> 1\u001b[0m output \u001b[38;5;241m=\u001b[39m agent\u001b[38;5;241m.\u001b[39mrun(\u001b[38;5;124m\"\u001b[39m\u001b[38;5;124mRead the information in the corporate_portfolio table for loan id 1851285872eypk20 and for reporting date 31-12-2022 and then calculate the RW if LGD doubles\u001b[39m\u001b[38;5;124m\"\u001b[39m)\n",
      "File \u001b[0;32m/opt/saturncloud/envs/saturn/lib/python3.9/site-packages/langchain/chains/base.py:501\u001b[0m, in \u001b[0;36mChain.run\u001b[0;34m(self, callbacks, tags, metadata, *args, **kwargs)\u001b[0m\n\u001b[1;32m    499\u001b[0m     \u001b[38;5;28;01mif\u001b[39;00m \u001b[38;5;28mlen\u001b[39m(args) \u001b[38;5;241m!=\u001b[39m \u001b[38;5;241m1\u001b[39m:\n\u001b[1;32m    500\u001b[0m         \u001b[38;5;28;01mraise\u001b[39;00m \u001b[38;5;167;01mValueError\u001b[39;00m(\u001b[38;5;124m\"\u001b[39m\u001b[38;5;124m`run` supports only one positional argument.\u001b[39m\u001b[38;5;124m\"\u001b[39m)\n\u001b[0;32m--> 501\u001b[0m     \u001b[38;5;28;01mreturn\u001b[39;00m \u001b[38;5;28;43mself\u001b[39;49m\u001b[43m(\u001b[49m\u001b[43margs\u001b[49m\u001b[43m[\u001b[49m\u001b[38;5;241;43m0\u001b[39;49m\u001b[43m]\u001b[49m\u001b[43m,\u001b[49m\u001b[43m \u001b[49m\u001b[43mcallbacks\u001b[49m\u001b[38;5;241;43m=\u001b[39;49m\u001b[43mcallbacks\u001b[49m\u001b[43m,\u001b[49m\u001b[43m \u001b[49m\u001b[43mtags\u001b[49m\u001b[38;5;241;43m=\u001b[39;49m\u001b[43mtags\u001b[49m\u001b[43m,\u001b[49m\u001b[43m \u001b[49m\u001b[43mmetadata\u001b[49m\u001b[38;5;241;43m=\u001b[39;49m\u001b[43mmetadata\u001b[49m\u001b[43m)\u001b[49m[\n\u001b[1;32m    502\u001b[0m         _output_key\n\u001b[1;32m    503\u001b[0m     ]\n\u001b[1;32m    505\u001b[0m \u001b[38;5;28;01mif\u001b[39;00m kwargs \u001b[38;5;129;01mand\u001b[39;00m \u001b[38;5;129;01mnot\u001b[39;00m args:\n\u001b[1;32m    506\u001b[0m     \u001b[38;5;28;01mreturn\u001b[39;00m \u001b[38;5;28mself\u001b[39m(kwargs, callbacks\u001b[38;5;241m=\u001b[39mcallbacks, tags\u001b[38;5;241m=\u001b[39mtags, metadata\u001b[38;5;241m=\u001b[39mmetadata)[\n\u001b[1;32m    507\u001b[0m         _output_key\n\u001b[1;32m    508\u001b[0m     ]\n",
      "File \u001b[0;32m/opt/saturncloud/envs/saturn/lib/python3.9/site-packages/langchain/chains/base.py:306\u001b[0m, in \u001b[0;36mChain.__call__\u001b[0;34m(self, inputs, return_only_outputs, callbacks, tags, metadata, run_name, include_run_info)\u001b[0m\n\u001b[1;32m    304\u001b[0m \u001b[38;5;28;01mexcept\u001b[39;00m \u001b[38;5;167;01mBaseException\u001b[39;00m \u001b[38;5;28;01mas\u001b[39;00m e:\n\u001b[1;32m    305\u001b[0m     run_manager\u001b[38;5;241m.\u001b[39mon_chain_error(e)\n\u001b[0;32m--> 306\u001b[0m     \u001b[38;5;28;01mraise\u001b[39;00m e\n\u001b[1;32m    307\u001b[0m run_manager\u001b[38;5;241m.\u001b[39mon_chain_end(outputs)\n\u001b[1;32m    308\u001b[0m final_outputs: Dict[\u001b[38;5;28mstr\u001b[39m, Any] \u001b[38;5;241m=\u001b[39m \u001b[38;5;28mself\u001b[39m\u001b[38;5;241m.\u001b[39mprep_outputs(\n\u001b[1;32m    309\u001b[0m     inputs, outputs, return_only_outputs\n\u001b[1;32m    310\u001b[0m )\n",
      "File \u001b[0;32m/opt/saturncloud/envs/saturn/lib/python3.9/site-packages/langchain/chains/base.py:300\u001b[0m, in \u001b[0;36mChain.__call__\u001b[0;34m(self, inputs, return_only_outputs, callbacks, tags, metadata, run_name, include_run_info)\u001b[0m\n\u001b[1;32m    293\u001b[0m run_manager \u001b[38;5;241m=\u001b[39m callback_manager\u001b[38;5;241m.\u001b[39mon_chain_start(\n\u001b[1;32m    294\u001b[0m     dumpd(\u001b[38;5;28mself\u001b[39m),\n\u001b[1;32m    295\u001b[0m     inputs,\n\u001b[1;32m    296\u001b[0m     name\u001b[38;5;241m=\u001b[39mrun_name,\n\u001b[1;32m    297\u001b[0m )\n\u001b[1;32m    298\u001b[0m \u001b[38;5;28;01mtry\u001b[39;00m:\n\u001b[1;32m    299\u001b[0m     outputs \u001b[38;5;241m=\u001b[39m (\n\u001b[0;32m--> 300\u001b[0m         \u001b[38;5;28;43mself\u001b[39;49m\u001b[38;5;241;43m.\u001b[39;49m\u001b[43m_call\u001b[49m\u001b[43m(\u001b[49m\u001b[43minputs\u001b[49m\u001b[43m,\u001b[49m\u001b[43m \u001b[49m\u001b[43mrun_manager\u001b[49m\u001b[38;5;241;43m=\u001b[39;49m\u001b[43mrun_manager\u001b[49m\u001b[43m)\u001b[49m\n\u001b[1;32m    301\u001b[0m         \u001b[38;5;28;01mif\u001b[39;00m new_arg_supported\n\u001b[1;32m    302\u001b[0m         \u001b[38;5;28;01melse\u001b[39;00m \u001b[38;5;28mself\u001b[39m\u001b[38;5;241m.\u001b[39m_call(inputs)\n\u001b[1;32m    303\u001b[0m     )\n\u001b[1;32m    304\u001b[0m \u001b[38;5;28;01mexcept\u001b[39;00m \u001b[38;5;167;01mBaseException\u001b[39;00m \u001b[38;5;28;01mas\u001b[39;00m e:\n\u001b[1;32m    305\u001b[0m     run_manager\u001b[38;5;241m.\u001b[39mon_chain_error(e)\n",
      "File \u001b[0;32m/opt/saturncloud/envs/saturn/lib/python3.9/site-packages/langchain/agents/agent.py:1141\u001b[0m, in \u001b[0;36mAgentExecutor._call\u001b[0;34m(self, inputs, run_manager)\u001b[0m\n\u001b[1;32m   1139\u001b[0m \u001b[38;5;66;03m# We now enter the agent loop (until it returns something).\u001b[39;00m\n\u001b[1;32m   1140\u001b[0m \u001b[38;5;28;01mwhile\u001b[39;00m \u001b[38;5;28mself\u001b[39m\u001b[38;5;241m.\u001b[39m_should_continue(iterations, time_elapsed):\n\u001b[0;32m-> 1141\u001b[0m     next_step_output \u001b[38;5;241m=\u001b[39m \u001b[38;5;28;43mself\u001b[39;49m\u001b[38;5;241;43m.\u001b[39;49m\u001b[43m_take_next_step\u001b[49m\u001b[43m(\u001b[49m\n\u001b[1;32m   1142\u001b[0m \u001b[43m        \u001b[49m\u001b[43mname_to_tool_map\u001b[49m\u001b[43m,\u001b[49m\n\u001b[1;32m   1143\u001b[0m \u001b[43m        \u001b[49m\u001b[43mcolor_mapping\u001b[49m\u001b[43m,\u001b[49m\n\u001b[1;32m   1144\u001b[0m \u001b[43m        \u001b[49m\u001b[43minputs\u001b[49m\u001b[43m,\u001b[49m\n\u001b[1;32m   1145\u001b[0m \u001b[43m        \u001b[49m\u001b[43mintermediate_steps\u001b[49m\u001b[43m,\u001b[49m\n\u001b[1;32m   1146\u001b[0m \u001b[43m        \u001b[49m\u001b[43mrun_manager\u001b[49m\u001b[38;5;241;43m=\u001b[39;49m\u001b[43mrun_manager\u001b[49m\u001b[43m,\u001b[49m\n\u001b[1;32m   1147\u001b[0m \u001b[43m    \u001b[49m\u001b[43m)\u001b[49m\n\u001b[1;32m   1148\u001b[0m     \u001b[38;5;28;01mif\u001b[39;00m \u001b[38;5;28misinstance\u001b[39m(next_step_output, AgentFinish):\n\u001b[1;32m   1149\u001b[0m         \u001b[38;5;28;01mreturn\u001b[39;00m \u001b[38;5;28mself\u001b[39m\u001b[38;5;241m.\u001b[39m_return(\n\u001b[1;32m   1150\u001b[0m             next_step_output, intermediate_steps, run_manager\u001b[38;5;241m=\u001b[39mrun_manager\n\u001b[1;32m   1151\u001b[0m         )\n",
      "File \u001b[0;32m/opt/saturncloud/envs/saturn/lib/python3.9/site-packages/langchain/agents/agent.py:991\u001b[0m, in \u001b[0;36mAgentExecutor._take_next_step\u001b[0;34m(self, name_to_tool_map, color_mapping, inputs, intermediate_steps, run_manager)\u001b[0m\n\u001b[1;32m    989\u001b[0m         tool_run_kwargs[\u001b[38;5;124m\"\u001b[39m\u001b[38;5;124mllm_prefix\u001b[39m\u001b[38;5;124m\"\u001b[39m] \u001b[38;5;241m=\u001b[39m \u001b[38;5;124m\"\u001b[39m\u001b[38;5;124m\"\u001b[39m\n\u001b[1;32m    990\u001b[0m     \u001b[38;5;66;03m# We then call the tool on the tool input to get an observation\u001b[39;00m\n\u001b[0;32m--> 991\u001b[0m     observation \u001b[38;5;241m=\u001b[39m \u001b[43mtool\u001b[49m\u001b[38;5;241;43m.\u001b[39;49m\u001b[43mrun\u001b[49m\u001b[43m(\u001b[49m\n\u001b[1;32m    992\u001b[0m \u001b[43m        \u001b[49m\u001b[43magent_action\u001b[49m\u001b[38;5;241;43m.\u001b[39;49m\u001b[43mtool_input\u001b[49m\u001b[43m,\u001b[49m\n\u001b[1;32m    993\u001b[0m \u001b[43m        \u001b[49m\u001b[43mverbose\u001b[49m\u001b[38;5;241;43m=\u001b[39;49m\u001b[38;5;28;43mself\u001b[39;49m\u001b[38;5;241;43m.\u001b[39;49m\u001b[43mverbose\u001b[49m\u001b[43m,\u001b[49m\n\u001b[1;32m    994\u001b[0m \u001b[43m        \u001b[49m\u001b[43mcolor\u001b[49m\u001b[38;5;241;43m=\u001b[39;49m\u001b[43mcolor\u001b[49m\u001b[43m,\u001b[49m\n\u001b[1;32m    995\u001b[0m \u001b[43m        \u001b[49m\u001b[43mcallbacks\u001b[49m\u001b[38;5;241;43m=\u001b[39;49m\u001b[43mrun_manager\u001b[49m\u001b[38;5;241;43m.\u001b[39;49m\u001b[43mget_child\u001b[49m\u001b[43m(\u001b[49m\u001b[43m)\u001b[49m\u001b[43m \u001b[49m\u001b[38;5;28;43;01mif\u001b[39;49;00m\u001b[43m \u001b[49m\u001b[43mrun_manager\u001b[49m\u001b[43m \u001b[49m\u001b[38;5;28;43;01melse\u001b[39;49;00m\u001b[43m \u001b[49m\u001b[38;5;28;43;01mNone\u001b[39;49;00m\u001b[43m,\u001b[49m\n\u001b[1;32m    996\u001b[0m \u001b[43m        \u001b[49m\u001b[38;5;241;43m*\u001b[39;49m\u001b[38;5;241;43m*\u001b[39;49m\u001b[43mtool_run_kwargs\u001b[49m\u001b[43m,\u001b[49m\n\u001b[1;32m    997\u001b[0m \u001b[43m    \u001b[49m\u001b[43m)\u001b[49m\n\u001b[1;32m    998\u001b[0m \u001b[38;5;28;01melse\u001b[39;00m:\n\u001b[1;32m    999\u001b[0m     tool_run_kwargs \u001b[38;5;241m=\u001b[39m \u001b[38;5;28mself\u001b[39m\u001b[38;5;241m.\u001b[39magent\u001b[38;5;241m.\u001b[39mtool_run_logging_kwargs()\n",
      "File \u001b[0;32m/opt/saturncloud/envs/saturn/lib/python3.9/site-packages/langchain/tools/base.py:364\u001b[0m, in \u001b[0;36mBaseTool.run\u001b[0;34m(self, tool_input, verbose, start_color, color, callbacks, tags, metadata, run_name, **kwargs)\u001b[0m\n\u001b[1;32m    362\u001b[0m \u001b[38;5;28;01mexcept\u001b[39;00m (\u001b[38;5;167;01mException\u001b[39;00m, \u001b[38;5;167;01mKeyboardInterrupt\u001b[39;00m) \u001b[38;5;28;01mas\u001b[39;00m e:\n\u001b[1;32m    363\u001b[0m     run_manager\u001b[38;5;241m.\u001b[39mon_tool_error(e)\n\u001b[0;32m--> 364\u001b[0m     \u001b[38;5;28;01mraise\u001b[39;00m e\n\u001b[1;32m    365\u001b[0m \u001b[38;5;28;01melse\u001b[39;00m:\n\u001b[1;32m    366\u001b[0m     run_manager\u001b[38;5;241m.\u001b[39mon_tool_end(\n\u001b[1;32m    367\u001b[0m         \u001b[38;5;28mstr\u001b[39m(observation), color\u001b[38;5;241m=\u001b[39mcolor, name\u001b[38;5;241m=\u001b[39m\u001b[38;5;28mself\u001b[39m\u001b[38;5;241m.\u001b[39mname, \u001b[38;5;241m*\u001b[39m\u001b[38;5;241m*\u001b[39mkwargs\n\u001b[1;32m    368\u001b[0m     )\n",
      "File \u001b[0;32m/opt/saturncloud/envs/saturn/lib/python3.9/site-packages/langchain/tools/base.py:336\u001b[0m, in \u001b[0;36mBaseTool.run\u001b[0;34m(self, tool_input, verbose, start_color, color, callbacks, tags, metadata, run_name, **kwargs)\u001b[0m\n\u001b[1;32m    333\u001b[0m \u001b[38;5;28;01mtry\u001b[39;00m:\n\u001b[1;32m    334\u001b[0m     tool_args, tool_kwargs \u001b[38;5;241m=\u001b[39m \u001b[38;5;28mself\u001b[39m\u001b[38;5;241m.\u001b[39m_to_args_and_kwargs(parsed_input)\n\u001b[1;32m    335\u001b[0m     observation \u001b[38;5;241m=\u001b[39m (\n\u001b[0;32m--> 336\u001b[0m         \u001b[38;5;28;43mself\u001b[39;49m\u001b[38;5;241;43m.\u001b[39;49m\u001b[43m_run\u001b[49m\u001b[43m(\u001b[49m\u001b[38;5;241;43m*\u001b[39;49m\u001b[43mtool_args\u001b[49m\u001b[43m,\u001b[49m\u001b[43m \u001b[49m\u001b[43mrun_manager\u001b[49m\u001b[38;5;241;43m=\u001b[39;49m\u001b[43mrun_manager\u001b[49m\u001b[43m,\u001b[49m\u001b[43m \u001b[49m\u001b[38;5;241;43m*\u001b[39;49m\u001b[38;5;241;43m*\u001b[39;49m\u001b[43mtool_kwargs\u001b[49m\u001b[43m)\u001b[49m\n\u001b[1;32m    337\u001b[0m         \u001b[38;5;28;01mif\u001b[39;00m new_arg_supported\n\u001b[1;32m    338\u001b[0m         \u001b[38;5;28;01melse\u001b[39;00m \u001b[38;5;28mself\u001b[39m\u001b[38;5;241m.\u001b[39m_run(\u001b[38;5;241m*\u001b[39mtool_args, \u001b[38;5;241m*\u001b[39m\u001b[38;5;241m*\u001b[39mtool_kwargs)\n\u001b[1;32m    339\u001b[0m     )\n\u001b[1;32m    340\u001b[0m \u001b[38;5;28;01mexcept\u001b[39;00m ToolException \u001b[38;5;28;01mas\u001b[39;00m e:\n\u001b[1;32m    341\u001b[0m     \u001b[38;5;28;01mif\u001b[39;00m \u001b[38;5;129;01mnot\u001b[39;00m \u001b[38;5;28mself\u001b[39m\u001b[38;5;241m.\u001b[39mhandle_tool_error:\n",
      "File \u001b[0;32m/opt/saturncloud/envs/saturn/lib/python3.9/site-packages/langchain/tools/base.py:515\u001b[0m, in \u001b[0;36mTool._run\u001b[0;34m(self, run_manager, *args, **kwargs)\u001b[0m\n\u001b[1;32m    506\u001b[0m \u001b[38;5;28;01mif\u001b[39;00m \u001b[38;5;28mself\u001b[39m\u001b[38;5;241m.\u001b[39mfunc:\n\u001b[1;32m    507\u001b[0m     new_argument_supported \u001b[38;5;241m=\u001b[39m signature(\u001b[38;5;28mself\u001b[39m\u001b[38;5;241m.\u001b[39mfunc)\u001b[38;5;241m.\u001b[39mparameters\u001b[38;5;241m.\u001b[39mget(\u001b[38;5;124m\"\u001b[39m\u001b[38;5;124mcallbacks\u001b[39m\u001b[38;5;124m\"\u001b[39m)\n\u001b[1;32m    508\u001b[0m     \u001b[38;5;28;01mreturn\u001b[39;00m (\n\u001b[1;32m    509\u001b[0m         \u001b[38;5;28mself\u001b[39m\u001b[38;5;241m.\u001b[39mfunc(\n\u001b[1;32m    510\u001b[0m             \u001b[38;5;241m*\u001b[39margs,\n\u001b[1;32m    511\u001b[0m             callbacks\u001b[38;5;241m=\u001b[39mrun_manager\u001b[38;5;241m.\u001b[39mget_child() \u001b[38;5;28;01mif\u001b[39;00m run_manager \u001b[38;5;28;01melse\u001b[39;00m \u001b[38;5;28;01mNone\u001b[39;00m,\n\u001b[1;32m    512\u001b[0m             \u001b[38;5;241m*\u001b[39m\u001b[38;5;241m*\u001b[39mkwargs,\n\u001b[1;32m    513\u001b[0m         )\n\u001b[1;32m    514\u001b[0m         \u001b[38;5;28;01mif\u001b[39;00m new_argument_supported\n\u001b[0;32m--> 515\u001b[0m         \u001b[38;5;28;01melse\u001b[39;00m \u001b[38;5;28;43mself\u001b[39;49m\u001b[38;5;241;43m.\u001b[39;49m\u001b[43mfunc\u001b[49m\u001b[43m(\u001b[49m\u001b[38;5;241;43m*\u001b[39;49m\u001b[43margs\u001b[49m\u001b[43m,\u001b[49m\u001b[43m \u001b[49m\u001b[38;5;241;43m*\u001b[39;49m\u001b[38;5;241;43m*\u001b[39;49m\u001b[43mkwargs\u001b[49m\u001b[43m)\u001b[49m\n\u001b[1;32m    516\u001b[0m     )\n\u001b[1;32m    517\u001b[0m \u001b[38;5;28;01mraise\u001b[39;00m \u001b[38;5;167;01mNotImplementedError\u001b[39;00m(\u001b[38;5;124m\"\u001b[39m\u001b[38;5;124mTool does not support sync\u001b[39m\u001b[38;5;124m\"\u001b[39m)\n",
      "Cell \u001b[0;32mIn [9], line 11\u001b[0m, in \u001b[0;36mrw_corp\u001b[0;34m(Input_String)\u001b[0m\n\u001b[1;32m      4\u001b[0m \u001b[38;5;28;01mdef\u001b[39;00m \u001b[38;5;21mrw_corp\u001b[39m(Input_String: \u001b[38;5;28mstr\u001b[39m) \u001b[38;5;241m-\u001b[39m\u001b[38;5;241m>\u001b[39m \u001b[38;5;28mstr\u001b[39m:\n\u001b[1;32m      6\u001b[0m     \u001b[38;5;124;03m\"\"\" \u001b[39;00m\n\u001b[1;32m      7\u001b[0m \u001b[38;5;124;03m    calculates the risk weight from input parameters \u001b[39;00m\n\u001b[1;32m      8\u001b[0m \u001b[38;5;124;03m    PD, LGD, MATURITY, F_LARGE_FIN and SIZE which are fed into the formula in this particular order \u001b[39;00m\n\u001b[1;32m      9\u001b[0m \u001b[38;5;124;03m    \"\"\"\u001b[39;00m\n\u001b[0;32m---> 11\u001b[0m     PD_s, LGD_s, MATURITY_s, SIZE_s, F_LARGE_FIN_s \u001b[38;5;241m=\u001b[39m Input_String\u001b[38;5;241m.\u001b[39msplit(\u001b[38;5;124m\"\u001b[39m\u001b[38;5;124m,\u001b[39m\u001b[38;5;130;01m\\n\u001b[39;00m\u001b[38;5;124m\"\u001b[39m)\n\u001b[1;32m     13\u001b[0m     PD \u001b[38;5;241m=\u001b[39m \u001b[38;5;28mfloat\u001b[39m(\u001b[38;5;28meval\u001b[39m(PD_s\u001b[38;5;241m.\u001b[39msplit(\u001b[38;5;124m\"\u001b[39m\u001b[38;5;124m:\u001b[39m\u001b[38;5;124m\"\u001b[39m)[\u001b[38;5;241m1\u001b[39m]\u001b[38;5;241m.\u001b[39mstrip()))\n\u001b[1;32m     14\u001b[0m     LGD \u001b[38;5;241m=\u001b[39m \u001b[38;5;28mfloat\u001b[39m(\u001b[38;5;28meval\u001b[39m(LGD_s\u001b[38;5;241m.\u001b[39msplit(\u001b[38;5;124m\"\u001b[39m\u001b[38;5;124m:\u001b[39m\u001b[38;5;124m\"\u001b[39m)[\u001b[38;5;241m1\u001b[39m]\u001b[38;5;241m.\u001b[39mstrip()))\n",
      "\u001b[0;31mValueError\u001b[0m: not enough values to unpack (expected 5, got 4)"
     ]
    }
   ],
   "source": [
    "output = agent.run(\"Read the information in the corporate_portfolio table for loan id 1851285872eypk20 and for reporting date 31-12-2022 and then calculate the RW if LGD doubles\")"
   ]
  },
  {
   "cell_type": "code",
   "execution_count": 17,
   "id": "51ed4714-ec0e-4419-a646-60959f421103",
   "metadata": {
    "execution": {
     "iopub.execute_input": "2023-10-08T07:44:30.636212Z",
     "iopub.status.busy": "2023-10-08T07:44:30.635682Z",
     "iopub.status.idle": "2023-10-08T07:45:05.086822Z",
     "shell.execute_reply": "2023-10-08T07:45:05.086067Z",
     "shell.execute_reply.started": "2023-10-08T07:44:30.636155Z"
    },
    "tags": []
   },
   "outputs": [
    {
     "name": "stdout",
     "output_type": "stream",
     "text": [
      "\n",
      "\n",
      "\u001b[1m> Entering new AgentExecutor chain...\u001b[0m\n",
      "\u001b[32;1m\u001b[1;3mFirst, I need to fetch the required information from the corporate_portfolio table for the specified loan id and reporting date.\n",
      "Action: db_query_tool\n",
      "Action Input: SELECT * FROM corporate_portfolio WHERE loan_id = '1851285872eypk20' AND reporting_date = '31-12-2022'\u001b[0m\n",
      "\n",
      "\u001b[1m> Entering new SQLDatabaseChain chain...\u001b[0m\n",
      "SELECT * FROM corporate_portfolio WHERE loan_id = '1851285872eypk20' AND reporting_date = '31-12-2022'\n",
      "SQLQuery:\u001b[32;1m\u001b[1;3mSELECT \"REPORTING_DATE\", \"PARTNER_ID\", \"LOAN_ID\", \"PRODUCT\", \"STATUS\", \"EXPOSURE_DRAWN\", \"EXPOSURE_UNDRAWN\", \"EXPOSURE\", \"EAD\", \"EAD_COLL\", \"PD\", \"LGD\", \"SIZE\", \"MATURITY\", \"F_LARGE_FIN\", \"RW\", \"RWA\" FROM corporate_portfolio WHERE \"LOAN_ID\" = '1851285872eypk20' AND \"REPORTING_DATE\" = '2022-12-31' LIMIT 5\u001b[0m\n",
      "SQLResult: \u001b[33;1m\u001b[1;3m[('2022-12-31', 'vzkah667hw5846', '1851285872eypk20', 'CREDIT_CARD', 'Performing', 0.0, 3830.21812, 3830.21812, 1565.410146, 0.0, 0.0022528, 0.549, 44.9952041, 1.0, 'N', 0.409196683, 640.5606391)]\u001b[0m\n",
      "Answer:\u001b[32;1m\u001b[1;3mThe details for the loan with ID '1851285872eypk20' on the reporting date '2022-12-31' are as follows: \n",
      "- Partner ID: vzkah667hw5846\n",
      "- Product: CREDIT_CARD\n",
      "- Status: Performing\n",
      "- Exposure Drawn: 0.0\n",
      "- Exposure Undrawn: 3830.21812\n",
      "- Exposure: 3830.21812\n",
      "- EAD: 1565.410146\n",
      "- EAD Coll: 0.0\n",
      "- PD: 0.0022528\n",
      "- LGD: 0.549\n",
      "- Size: 44.9952041\n",
      "- Maturity: 1.0\n",
      "- F Large Fin: N\n",
      "- RW: 0.409196683\n",
      "- RWA: 640.5606391\u001b[0m\n",
      "\u001b[1m> Finished chain.\u001b[0m\n",
      "\n",
      "Observation: \u001b[36;1m\u001b[1;3mThe details for the loan with ID '1851285872eypk20' on the reporting date '2022-12-31' are as follows: \n",
      "- Partner ID: vzkah667hw5846\n",
      "- Product: CREDIT_CARD\n",
      "- Status: Performing\n",
      "- Exposure Drawn: 0.0\n",
      "- Exposure Undrawn: 3830.21812\n",
      "- Exposure: 3830.21812\n",
      "- EAD: 1565.410146\n",
      "- EAD Coll: 0.0\n",
      "- PD: 0.0022528\n",
      "- LGD: 0.549\n",
      "- Size: 44.9952041\n",
      "- Maturity: 1.0\n",
      "- F Large Fin: N\n",
      "- RW: 0.409196683\n",
      "- RWA: 640.5606391\u001b[0m\n",
      "Thought:\u001b[32;1m\u001b[1;3mNow that I have the required information, I can calculate the new RW if LGD doubles and PD becomes 0.2. I will use the RWTool for this.\n",
      "Action: RWTool\n",
      "Action Input: \n",
      "{\n",
      "  \"PD\": 0.2,\n",
      "  \"LGD\": 0.549 * 2,\n",
      "  \"MATURITY\": 1.0,\n",
      "  \"SIZE\": 44.9952041,\n",
      "  \"F_LARGE_FIN\": \"N\"\n",
      "}\u001b[0m\n",
      "Observation: \u001b[33;1m\u001b[1;3m5.643025999982489\u001b[0m\n",
      "Thought:\u001b[32;1m\u001b[1;3mI now know the final answer\n",
      "Final Answer: The RW if LGD doubles and PD becomes 0.2 for loan id 1851285872eypk20 and for reporting date 31-12-2022 is 5.643025999982489.\u001b[0m\n",
      "\n",
      "\u001b[1m> Finished chain.\u001b[0m\n"
     ]
    }
   ],
   "source": [
    "output = agent.run(\"Read the information in the corporate_portfolio table for loan id 1851285872eypk20 and for reporting date 31-12-2022 and then calculate the RW if LGD doubles and PD becomes 0.2\")"
   ]
  },
  {
   "cell_type": "code",
   "execution_count": null,
   "id": "2225fd64-186b-4e72-a502-e003d2482935",
   "metadata": {},
   "outputs": [],
   "source": [
    "output = agent.run(\"Read the information for ACCOUNT_NUMBER = '1851285872eypk20' in rwa_data table\")"
   ]
  },
  {
   "cell_type": "code",
   "execution_count": null,
   "id": "30f7d611-5ae3-43e4-9e11-c0c067c368ac",
   "metadata": {},
   "outputs": [],
   "source": [
    "output = agent.run(\"What will be the RW if MATURITY is 5?\")"
   ]
  },
  {
   "cell_type": "code",
   "execution_count": null,
   "id": "aa701dac-320b-413c-9c90-a92201d37caa",
   "metadata": {
    "tags": []
   },
   "outputs": [],
   "source": [
    "output = agent.run(\"What is the RW for LOAN_ID dninx621xv9731 for reporting date 31-12-2022?\")"
   ]
  },
  {
   "cell_type": "code",
   "execution_count": null,
   "id": "0495e89c-6bd9-4c89-8642-881a571af918",
   "metadata": {
    "tags": []
   },
   "outputs": [],
   "source": [
    "output = agent.run(\"Read the info for LOAN_ID dninx621xv9731 for reporting date 31-12-2022\")"
   ]
  },
  {
   "cell_type": "code",
   "execution_count": null,
   "id": "518feb99-d13b-478b-acbc-82d96d60a5ac",
   "metadata": {},
   "outputs": [],
   "source": [
    "output = agent.run(\"What will be the RW if PD doubles?\")"
   ]
  },
  {
   "cell_type": "code",
   "execution_count": null,
   "id": "b8b3b786-c7b1-4cd8-a761-a0e581bd669f",
   "metadata": {
    "tags": []
   },
   "outputs": [],
   "source": [
    "output = agent.run(\"What is the difference between the sum of RWA for reporting date 2022-12-31 and the sum of RWA for reporting date 2023-03-31?\")"
   ]
  },
  {
   "cell_type": "code",
   "execution_count": null,
   "id": "f4755313-9f65-4106-85fa-f68bdc8dfdb2",
   "metadata": {},
   "outputs": [],
   "source": []
  }
 ],
 "metadata": {
  "kernelspec": {
   "display_name": "saturn (Python 3)",
   "language": "python",
   "name": "python3"
  },
  "language_info": {
   "codemirror_mode": {
    "name": "ipython",
    "version": 3
   },
   "file_extension": ".py",
   "mimetype": "text/x-python",
   "name": "python",
   "nbconvert_exporter": "python",
   "pygments_lexer": "ipython3",
   "version": "3.9.13"
  }
 },
 "nbformat": 4,
 "nbformat_minor": 5
}
