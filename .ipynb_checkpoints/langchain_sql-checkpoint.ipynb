{
 "cells": [
  {
   "cell_type": "code",
   "execution_count": 3,
   "id": "a2f55a6b-489c-4f61-a9f9-b5e9e57c731b",
   "metadata": {
    "execution": {
     "iopub.execute_input": "2023-10-08T20:30:27.710308Z",
     "iopub.status.busy": "2023-10-08T20:30:27.709933Z",
     "iopub.status.idle": "2023-10-08T20:30:27.715129Z",
     "shell.execute_reply": "2023-10-08T20:30:27.714549Z",
     "shell.execute_reply.started": "2023-10-08T20:30:27.710283Z"
    },
    "tags": []
   },
   "outputs": [],
   "source": [
    "from langchain.utilities import SQLDatabase\n",
    "from langchain.llms import OpenAI\n",
    "from langchain_experimental.sql import SQLDatabaseChain\n",
    "from langchain.chat_models import ChatOpenAI\n",
    "from langchain.chains import create_sql_query_chain"
   ]
  },
  {
   "cell_type": "code",
   "execution_count": 2,
   "id": "6d630a5d-3334-47d7-b3cc-af9bb95a2816",
   "metadata": {
    "execution": {
     "iopub.execute_input": "2023-10-08T20:29:43.401187Z",
     "iopub.status.busy": "2023-10-08T20:29:43.400726Z",
     "iopub.status.idle": "2023-10-08T20:29:43.408400Z",
     "shell.execute_reply": "2023-10-08T20:29:43.407864Z",
     "shell.execute_reply.started": "2023-10-08T20:29:43.401160Z"
    },
    "tags": []
   },
   "outputs": [],
   "source": [
    "import os\n",
    "from dotenv import load_dotenv\n",
    "load_dotenv()\n",
    "OPENAI_API_KEY = os.getenv('OPENAI_API_KEY')"
   ]
  },
  {
   "cell_type": "code",
   "execution_count": 4,
   "id": "bd3bac7e-e180-4254-8cd7-25dbb36fea7d",
   "metadata": {
    "execution": {
     "iopub.execute_input": "2023-10-08T20:34:11.097453Z",
     "iopub.status.busy": "2023-10-08T20:34:11.097066Z",
     "iopub.status.idle": "2023-10-08T20:34:11.122906Z",
     "shell.execute_reply": "2023-10-08T20:34:11.122353Z",
     "shell.execute_reply.started": "2023-10-08T20:34:11.097429Z"
    },
    "tags": []
   },
   "outputs": [],
   "source": [
    "llm = OpenAI(temperature=0, verbose=True)\n",
    "db = SQLDatabase.from_uri(\"sqlite:///./portfolio_data.db\")\n",
    "db_chain = SQLDatabaseChain.from_llm(llm, db, verbose=True)"
   ]
  },
  {
   "cell_type": "code",
   "execution_count": null,
   "id": "64f10493-c2a1-452b-9c27-f54c35ee8f00",
   "metadata": {},
   "outputs": [],
   "source": []
  }
 ],
 "metadata": {
  "kernelspec": {
   "display_name": "saturn (Python 3)",
   "language": "python",
   "name": "python3"
  },
  "language_info": {
   "codemirror_mode": {
    "name": "ipython",
    "version": 3
   },
   "file_extension": ".py",
   "mimetype": "text/x-python",
   "name": "python",
   "nbconvert_exporter": "python",
   "pygments_lexer": "ipython3",
   "version": "3.9.15"
  }
 },
 "nbformat": 4,
 "nbformat_minor": 5
}
