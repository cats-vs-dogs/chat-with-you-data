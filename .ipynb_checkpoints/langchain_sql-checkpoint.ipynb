{
 "cells": [
  {
   "cell_type": "code",
   "execution_count": 1,
   "id": "a2f55a6b-489c-4f61-a9f9-b5e9e57c731b",
   "metadata": {
    "execution": {
     "iopub.execute_input": "2023-10-11T04:54:04.903380Z",
     "iopub.status.busy": "2023-10-11T04:54:04.902999Z",
     "iopub.status.idle": "2023-10-11T04:54:06.692798Z",
     "shell.execute_reply": "2023-10-11T04:54:06.692170Z",
     "shell.execute_reply.started": "2023-10-11T04:54:04.903349Z"
    },
    "tags": []
   },
   "outputs": [],
   "source": [
    "from langchain.utilities import SQLDatabase\n",
    "from langchain.llms import OpenAI\n",
    "from langchain_experimental.sql import SQLDatabaseChain\n",
    "from langchain.chat_models import ChatOpenAI\n",
    "from langchain.chains import create_sql_query_chain"
   ]
  },
  {
   "cell_type": "code",
   "execution_count": 2,
   "id": "6d630a5d-3334-47d7-b3cc-af9bb95a2816",
   "metadata": {
    "execution": {
     "iopub.execute_input": "2023-10-11T04:54:07.444628Z",
     "iopub.status.busy": "2023-10-11T04:54:07.444119Z",
     "iopub.status.idle": "2023-10-11T04:54:07.453248Z",
     "shell.execute_reply": "2023-10-11T04:54:07.452676Z",
     "shell.execute_reply.started": "2023-10-11T04:54:07.444602Z"
    },
    "tags": []
   },
   "outputs": [],
   "source": [
    "import os\n",
    "from dotenv import load_dotenv\n",
    "load_dotenv()\n",
    "OPENAI_API_KEY = os.getenv('OPENAI_API_KEY')"
   ]
  },
  {
   "cell_type": "code",
   "execution_count": 3,
   "id": "bd3bac7e-e180-4254-8cd7-25dbb36fea7d",
   "metadata": {
    "execution": {
     "iopub.execute_input": "2023-10-11T04:54:08.257613Z",
     "iopub.status.busy": "2023-10-11T04:54:08.257235Z",
     "iopub.status.idle": "2023-10-11T04:54:08.283931Z",
     "shell.execute_reply": "2023-10-11T04:54:08.283344Z",
     "shell.execute_reply.started": "2023-10-11T04:54:08.257590Z"
    },
    "tags": []
   },
   "outputs": [],
   "source": [
    "llm = OpenAI(temperature=0, verbose=True)\n",
    "db = SQLDatabase.from_uri(\"sqlite:///./portfolio_data.db\")\n",
    "db_chain = SQLDatabaseChain.from_llm(llm, db, verbose=True)"
   ]
  },
  {
   "cell_type": "code",
   "execution_count": 4,
   "id": "64f10493-c2a1-452b-9c27-f54c35ee8f00",
   "metadata": {
    "execution": {
     "iopub.execute_input": "2023-10-11T04:54:09.197818Z",
     "iopub.status.busy": "2023-10-11T04:54:09.197438Z",
     "iopub.status.idle": "2023-10-11T04:54:12.281665Z",
     "shell.execute_reply": "2023-10-11T04:54:12.280933Z",
     "shell.execute_reply.started": "2023-10-11T04:54:09.197794Z"
    },
    "tags": []
   },
   "outputs": [
    {
     "name": "stdout",
     "output_type": "stream",
     "text": [
      "\n",
      "\n",
      "\u001b[1m> Entering new SQLDatabaseChain chain...\u001b[0m\n",
      "What are total RWA and EAD in table corporate_portfolio for reporting date 2022-12-31?\n",
      "SQLQuery:\u001b[32;1m\u001b[1;3mSELECT SUM(\"RWA\"), SUM(\"EAD\") FROM corporate_portfolio WHERE \"REPORTING_DATE\" = '2022-12-31';\u001b[0m\n",
      "SQLResult: \u001b[33;1m\u001b[1;3m[(85075812.12498187, 156657332.34921697)]\u001b[0m\n",
      "Answer:\u001b[32;1m\u001b[1;3mTotal RWA for reporting date 2022-12-31 is 85075812.12498187 and total EAD is 156657332.34921697.\u001b[0m\n",
      "\u001b[1m> Finished chain.\u001b[0m\n"
     ]
    },
    {
     "data": {
      "text/plain": [
       "'Total RWA for reporting date 2022-12-31 is 85075812.12498187 and total EAD is 156657332.34921697.'"
      ]
     },
     "execution_count": 4,
     "metadata": {},
     "output_type": "execute_result"
    }
   ],
   "source": [
    "db_chain.run(\"What are total RWA and EAD in table corporate_portfolio for reporting date 2022-12-31?\")"
   ]
  },
  {
   "cell_type": "markdown",
   "id": "2ad896d9-d1f9-4f19-afc3-cc7c2e043194",
   "metadata": {},
   "source": [
    "#### Entension 1: text-to-sql"
   ]
  },
  {
   "cell_type": "code",
   "execution_count": 7,
   "id": "2d5c6459-c9a5-4fb3-8114-31d160fd9d05",
   "metadata": {
    "execution": {
     "iopub.execute_input": "2023-10-10T12:26:04.302329Z",
     "iopub.status.busy": "2023-10-10T12:26:04.301953Z",
     "iopub.status.idle": "2023-10-10T12:26:04.305440Z",
     "shell.execute_reply": "2023-10-10T12:26:04.304890Z",
     "shell.execute_reply.started": "2023-10-10T12:26:04.302304Z"
    },
    "tags": []
   },
   "outputs": [],
   "source": [
    "from langchain.chat_models import ChatOpenAI\n",
    "from langchain.chains import create_sql_query_chain"
   ]
  },
  {
   "cell_type": "code",
   "execution_count": 7,
   "id": "de2dfbd1-98e9-4ba1-81b5-c2cbeab62b49",
   "metadata": {
    "execution": {
     "iopub.execute_input": "2023-10-11T04:56:37.664120Z",
     "iopub.status.busy": "2023-10-11T04:56:37.663735Z",
     "iopub.status.idle": "2023-10-11T04:56:42.647106Z",
     "shell.execute_reply": "2023-10-11T04:56:42.646515Z",
     "shell.execute_reply.started": "2023-10-11T04:56:37.664097Z"
    },
    "tags": []
   },
   "outputs": [
    {
     "name": "stdout",
     "output_type": "stream",
     "text": [
      "SELECT SUM(\"RWA\"), SUM(\"EAD\") FROM corporate_portfolio WHERE \"REPORTING_DATE\" = '2022-12-31'\n"
     ]
    }
   ],
   "source": [
    "llm = ChatOpenAI(temperature=0)\n",
    "chain = create_sql_query_chain(llm, db)\n",
    "response = chain.invoke({\"question\": \"What are total RWA and EAD in table corporate_portfolio for reporting date 2022-12-31?\"})\n",
    "print(response)"
   ]
  },
  {
   "cell_type": "code",
   "execution_count": null,
   "id": "39bb3d44-2df1-480e-8458-d785915a828c",
   "metadata": {},
   "outputs": [],
   "source": []
  },
  {
   "cell_type": "code",
   "execution_count": null,
   "id": "cdd06081-6491-4962-a468-8442e61f8486",
   "metadata": {},
   "outputs": [],
   "source": []
  },
  {
   "cell_type": "code",
   "execution_count": null,
   "id": "c04ae0f6-3c5c-4491-ac89-eb1ec11ae420",
   "metadata": {},
   "outputs": [],
   "source": []
  }
 ],
 "metadata": {
  "kernelspec": {
   "display_name": "saturn (Python 3)",
   "language": "python",
   "name": "python3"
  },
  "language_info": {
   "codemirror_mode": {
    "name": "ipython",
    "version": 3
   },
   "file_extension": ".py",
   "mimetype": "text/x-python",
   "name": "python",
   "nbconvert_exporter": "python",
   "pygments_lexer": "ipython3",
   "version": "3.9.15"
  }
 },
 "nbformat": 4,
 "nbformat_minor": 5
}
