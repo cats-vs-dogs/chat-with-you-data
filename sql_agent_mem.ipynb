{
 "cells": [
  {
   "cell_type": "code",
   "execution_count": 11,
   "id": "e555460c-4010-40d3-a235-1dcc79412745",
   "metadata": {
    "execution": {
     "iopub.execute_input": "2023-10-19T15:11:24.278065Z",
     "iopub.status.busy": "2023-10-19T15:11:24.277792Z",
     "iopub.status.idle": "2023-10-19T15:11:24.282218Z",
     "shell.execute_reply": "2023-10-19T15:11:24.281645Z",
     "shell.execute_reply.started": "2023-10-19T15:11:24.278044Z"
    },
    "tags": []
   },
   "outputs": [],
   "source": [
    "from langchain.llms import OpenAI\n",
    "from langchain.chat_models import ChatOpenAI\n",
    "from langchain import SQLDatabase\n",
    "from langchain_experimental.sql import SQLDatabaseChain\n",
    "from langchain.chains import create_sql_query_chain\n",
    "\n",
    "from langchain.prompts import PromptTemplate\n",
    "\n",
    "from langchain.agents import create_sql_agent\n",
    "from langchain.agents.agent_toolkits import SQLDatabaseToolkit\n",
    "# from langchain.agents import AgentExecutor\n",
    "from langchain.agents.agent_types import AgentType\n",
    "from langchain.memory import ConversationBufferMemory\n",
    "\n",
    "from langchain.agents import load_tools"
   ]
  },
  {
   "cell_type": "code",
   "execution_count": 12,
   "id": "9ec5cdcc-d056-4519-b603-bf12c3100363",
   "metadata": {
    "execution": {
     "iopub.execute_input": "2023-10-19T15:11:25.261860Z",
     "iopub.status.busy": "2023-10-19T15:11:25.261464Z",
     "iopub.status.idle": "2023-10-19T15:11:25.265909Z",
     "shell.execute_reply": "2023-10-19T15:11:25.265311Z",
     "shell.execute_reply.started": "2023-10-19T15:11:25.261835Z"
    },
    "tags": []
   },
   "outputs": [],
   "source": [
    "import os\n",
    "from dotenv import load_dotenv\n",
    "load_dotenv()\n",
    "OPENAI_API_KEY = os.getenv('OPENAI_API_KEY')"
   ]
  },
  {
   "cell_type": "code",
   "execution_count": 13,
   "id": "ed315fb8-25b5-42bd-969c-77c475d3d1f4",
   "metadata": {
    "execution": {
     "iopub.execute_input": "2023-10-19T15:11:25.491488Z",
     "iopub.status.busy": "2023-10-19T15:11:25.490894Z",
     "iopub.status.idle": "2023-10-19T15:11:25.494425Z",
     "shell.execute_reply": "2023-10-19T15:11:25.493878Z",
     "shell.execute_reply.started": "2023-10-19T15:11:25.491465Z"
    },
    "tags": []
   },
   "outputs": [],
   "source": [
    "# llm = OpenAI(temperature=0, verbose=True)\n",
    "llm = ChatOpenAI(model_name='gpt-4',temperature=0)"
   ]
  },
  {
   "cell_type": "code",
   "execution_count": 14,
   "id": "2d5e045a-3751-4831-8ad7-aa611c8b44e5",
   "metadata": {
    "execution": {
     "iopub.execute_input": "2023-10-19T15:11:25.660157Z",
     "iopub.status.busy": "2023-10-19T15:11:25.659561Z",
     "iopub.status.idle": "2023-10-19T15:11:25.663361Z",
     "shell.execute_reply": "2023-10-19T15:11:25.662841Z",
     "shell.execute_reply.started": "2023-10-19T15:11:25.660134Z"
    },
    "tags": []
   },
   "outputs": [],
   "source": [
    "tools = load_tools(\n",
    "    ['llm-math'],\n",
    "    llm=llm\n",
    ")"
   ]
  },
  {
   "cell_type": "code",
   "execution_count": 15,
   "id": "af5610c4-5467-4844-87bb-71e39788d757",
   "metadata": {
    "execution": {
     "iopub.execute_input": "2023-10-19T15:11:27.138248Z",
     "iopub.status.busy": "2023-10-19T15:11:27.137889Z",
     "iopub.status.idle": "2023-10-19T15:11:27.147573Z",
     "shell.execute_reply": "2023-10-19T15:11:27.147030Z",
     "shell.execute_reply.started": "2023-10-19T15:11:27.138223Z"
    },
    "tags": []
   },
   "outputs": [],
   "source": [
    "from langchain.tools import Tool, BaseTool\n",
    "from pydantic.v1 import BaseModel, Field\n",
    "import math\n",
    "from scipy.stats import norm\n",
    "\n",
    "def rw_corp(Input_String: str) -> str:\n",
    "\n",
    "    \"\"\" \n",
    "    calculates the risk weight from input parameters \n",
    "    PD, LGD, MATURITY, F_LARGE_FIN and SIZE which are fed into the formula in this particular order \n",
    "    \"\"\"\n",
    "    \n",
    "    PD_s, LGD_s, MATURITY_s, SIZE_s, F_LARGE_FIN_s = Input_String.split(\",\")\n",
    "\n",
    "    PD = float(eval(PD_s.split(\":\")[1].strip()))\n",
    "    LGD = float(eval(LGD_s.split(\":\")[1].strip()))\n",
    "    MATURITY = float(eval(MATURITY_s.split(\":\")[1].strip()))\n",
    "    SIZE = float(eval(SIZE_s.split(\":\")[1].strip()))\n",
    "    F_LARGE_FIN = (F_LARGE_FIN_s.split(\":\")[1].strip())\n",
    "       \n",
    "    pd_final = max(0.0003, PD)\n",
    "    size_final = max(5, min(SIZE, 50))    \n",
    "    r0 = (0.12 * (1.0 - math.exp(-50.0 * pd_final)) / (1.0 - math.exp(-50.0))) + \\\n",
    "        (0.24 * (1.0 - (1 - math.exp(-50.0 * pd_final)) / (1.0 - math.exp(-50.0)))) - \\\n",
    "        (0.04 * (1.0 - (size_final - 5.0) / 45.0))\n",
    "    if F_LARGE_FIN == 'Y':\n",
    "        r = r0 * 1.25\n",
    "    else:\n",
    "        r = r0\n",
    "    b = (0.11852 - 0.05478 * math.log(pd_final)) ** 2\n",
    "    ma = ((1 - 1.5 * b) ** -1) * (1 + (MATURITY - 2.5) * b)    \n",
    "    rw = ((LGD * norm.cdf((1 - r) ** -0.5 * norm.ppf(pd_final) + (r / (1 - r)) ** 0.5 * norm.ppf(0.999)) - pd_final * LGD) * ma) * 12.5 * 1.06\n",
    "    return rw  \n",
    "\n",
    "\n",
    "class RWInput(BaseModel):\n",
    "    Input_String: str = Field(description='This is a string that contains values for the input parameters \\\n",
    "                              PD, LGD, MATURITY, SIZE and F_LARGE_FIN which are fed into the formula in this particular order ')\n",
    "    \n",
    "RWTool = Tool.from_function(\n",
    "    func=rw_corp,\n",
    "    name=\"RWTool\",\n",
    "    description=\"\"\"\n",
    "    This is a custom tool that calculates the risk weight from a set of input parameters:\n",
    "        PD - Probability of Default,\n",
    "        LGD - Loss Given Default,\n",
    "        MATURITY - Remaining maturity of the loan in years,\n",
    "        SIZE - The size of the client in MEUR, usually this is the client's turnover, \n",
    "        F_LARGE_FIN - If 'Y' the client is a Large Financial Institution        \n",
    "        \"\"\",\n",
    "    args_schema=RWInput\n",
    ")"
   ]
  },
  {
   "cell_type": "code",
   "execution_count": 16,
   "id": "a77e56ef-05a8-43eb-8c3f-df28f3096a91",
   "metadata": {
    "execution": {
     "iopub.execute_input": "2023-10-19T15:11:27.948229Z",
     "iopub.status.busy": "2023-10-19T15:11:27.947937Z",
     "iopub.status.idle": "2023-10-19T15:11:27.951231Z",
     "shell.execute_reply": "2023-10-19T15:11:27.950558Z",
     "shell.execute_reply.started": "2023-10-19T15:11:27.948208Z"
    },
    "tags": []
   },
   "outputs": [],
   "source": [
    "tools.append(RWTool)"
   ]
  },
  {
   "cell_type": "code",
   "execution_count": 17,
   "id": "c2b4c186-b9b3-4c66-896c-d2bc0a8a25a7",
   "metadata": {
    "execution": {
     "iopub.execute_input": "2023-10-19T15:11:28.133290Z",
     "iopub.status.busy": "2023-10-19T15:11:28.133032Z",
     "iopub.status.idle": "2023-10-19T15:11:28.144562Z",
     "shell.execute_reply": "2023-10-19T15:11:28.144010Z",
     "shell.execute_reply.started": "2023-10-19T15:11:28.133271Z"
    },
    "tags": []
   },
   "outputs": [],
   "source": [
    "\"\"\"SQL agent.\"\"\"\n",
    "from typing import Any, Dict, List, Optional, Sequence\n",
    "\n",
    "from langchain.agents.agent import AgentExecutor, BaseSingleActionAgent\n",
    "from langchain.agents.agent_toolkits.sql.prompt import (\n",
    "    SQL_FUNCTIONS_SUFFIX,\n",
    "    SQL_PREFIX,\n",
    "    SQL_SUFFIX,\n",
    ")\n",
    "from langchain.agents.agent_toolkits.sql.toolkit import SQLDatabaseToolkit\n",
    "from langchain.agents.agent_types import AgentType\n",
    "from langchain.agents.mrkl.base import ZeroShotAgent\n",
    "from langchain.agents.mrkl.prompt import FORMAT_INSTRUCTIONS\n",
    "from langchain.agents.openai_functions_agent.base import OpenAIFunctionsAgent\n",
    "from langchain.callbacks.base import BaseCallbackManager\n",
    "from langchain.chains.llm import LLMChain\n",
    "from langchain.prompts.chat import (\n",
    "    ChatPromptTemplate,\n",
    "    HumanMessagePromptTemplate,\n",
    "    MessagesPlaceholder,\n",
    ")\n",
    "from langchain.schema.language_model import BaseLanguageModel\n",
    "from langchain.schema.messages import AIMessage, SystemMessage\n",
    "from langchain.tools import BaseTool\n",
    "\n",
    "def create_sql_agent(\n",
    "    llm: BaseLanguageModel,\n",
    "    toolkit: SQLDatabaseToolkit,\n",
    "    agent_type: AgentType = AgentType.ZERO_SHOT_REACT_DESCRIPTION,\n",
    "    callback_manager: Optional[BaseCallbackManager] = None,\n",
    "    prefix: str = SQL_PREFIX,\n",
    "    suffix: Optional[str] = None,\n",
    "    format_instructions: str = FORMAT_INSTRUCTIONS,\n",
    "    input_variables: Optional[List[str]] = None,\n",
    "    top_k: int = 10,\n",
    "    max_iterations: Optional[int] = 15,\n",
    "    max_execution_time: Optional[float] = None,\n",
    "    early_stopping_method: str = \"force\",\n",
    "    verbose: bool = False,\n",
    "    agent_executor_kwargs: Optional[Dict[str, Any]] = None,\n",
    "    extra_tools: Sequence[BaseTool] = (),\n",
    "    memory: Optional[ConversationBufferMemory] = None,\n",
    "    **kwargs: Any,\n",
    ") -> AgentExecutor:\n",
    "    \"\"\"Construct an SQL agent from an LLM and tools.\"\"\"\n",
    "    tools = toolkit.get_tools() + list(extra_tools)\n",
    "    prefix = prefix.format(dialect=toolkit.dialect, top_k=top_k)\n",
    "    agent: BaseSingleActionAgent\n",
    "\n",
    "    if agent_type == AgentType.ZERO_SHOT_REACT_DESCRIPTION:\n",
    "        prompt = ZeroShotAgent.create_prompt(\n",
    "            tools,\n",
    "            prefix=prefix,\n",
    "            suffix=suffix or SQL_SUFFIX,\n",
    "            format_instructions=format_instructions,\n",
    "            input_variables=input_variables,\n",
    "        )\n",
    "        llm_chain = LLMChain(\n",
    "            llm=llm,\n",
    "            prompt=prompt,\n",
    "            callback_manager=callback_manager,\n",
    "        )\n",
    "        tool_names = [tool.name for tool in tools]\n",
    "        agent = ZeroShotAgent(llm_chain=llm_chain, allowed_tools=tool_names, **kwargs)\n",
    "\n",
    "    elif agent_type == AgentType.OPENAI_FUNCTIONS:\n",
    "        messages = [\n",
    "            SystemMessage(content=prefix),\n",
    "            HumanMessagePromptTemplate.from_template(\"{input}\"),\n",
    "            AIMessage(content=suffix or SQL_FUNCTIONS_SUFFIX),\n",
    "            MessagesPlaceholder(variable_name=\"agent_scratchpad\"),\n",
    "        ]\n",
    "        input_variables = [\"input\", \"agent_scratchpad\"]\n",
    "        _prompt = ChatPromptTemplate(input_variables=input_variables, messages=messages)\n",
    "\n",
    "        agent = OpenAIFunctionsAgent(\n",
    "            llm=llm,\n",
    "            prompt=_prompt,\n",
    "            tools=tools,\n",
    "            callback_manager=callback_manager,\n",
    "            **kwargs,\n",
    "        )\n",
    "    else:\n",
    "        raise ValueError(f\"Agent type {agent_type} not supported at the moment.\")\n",
    "\n",
    "    return AgentExecutor.from_agent_and_tools(\n",
    "        agent=agent,\n",
    "        tools=tools,\n",
    "        callback_manager=callback_manager,\n",
    "        verbose=verbose,\n",
    "        max_iterations=max_iterations,\n",
    "        max_execution_time=max_execution_time,\n",
    "        early_stopping_method=early_stopping_method,\n",
    "        memory=memory,\n",
    "        **(agent_executor_kwargs or {}),\n",
    "    )\n"
   ]
  },
  {
   "cell_type": "code",
   "execution_count": 18,
   "id": "f091f2a0-a1f0-40c1-bd8c-ace3ce6d2807",
   "metadata": {
    "execution": {
     "iopub.execute_input": "2023-10-19T15:11:29.584713Z",
     "iopub.status.busy": "2023-10-19T15:11:29.584449Z",
     "iopub.status.idle": "2023-10-19T15:11:29.591174Z",
     "shell.execute_reply": "2023-10-19T15:11:29.590676Z",
     "shell.execute_reply.started": "2023-10-19T15:11:29.584694Z"
    },
    "tags": []
   },
   "outputs": [],
   "source": [
    "db = SQLDatabase.from_uri(\"sqlite:///./portfolio_data.db\",\n",
    "                         include_tables=['corporate_portfolio'],\n",
    "                         sample_rows_in_table_info=2\n",
    ")"
   ]
  },
  {
   "cell_type": "code",
   "execution_count": 26,
   "id": "82dc629a-15e5-4ab6-bb46-dbff10a0d6e6",
   "metadata": {
    "execution": {
     "iopub.execute_input": "2023-10-19T15:33:09.728236Z",
     "iopub.status.busy": "2023-10-19T15:33:09.727810Z",
     "iopub.status.idle": "2023-10-19T15:33:09.732851Z",
     "shell.execute_reply": "2023-10-19T15:33:09.732272Z",
     "shell.execute_reply.started": "2023-10-19T15:33:09.728211Z"
    },
    "tags": []
   },
   "outputs": [],
   "source": [
    "toolkit = SQLDatabaseToolkit(db=db, llm=llm)\n",
    "memory = ConversationBufferMemory(memory_key=\"chat_history\", return_messages=True)\n",
    "\n",
    "agent = create_sql_agent(\n",
    "    llm=llm,\n",
    "    toolkit=toolkit,\n",
    "    verbose=True,\n",
    "    # agent_type=AgentType.ZERO_SHOT_REACT_DESCRIPTION,\n",
    "    agent='conversational-react-description', \n",
    "    extra_tools=tools,\n",
    "    memory=memory \n",
    ")"
   ]
  },
  {
   "cell_type": "markdown",
   "id": "e4ecf9d4-42bf-470c-8d3b-ce4b954b268e",
   "metadata": {},
   "source": [
    "### sql"
   ]
  },
  {
   "cell_type": "code",
   "execution_count": 20,
   "id": "936ce1ad-666a-4dd6-a50b-e2b9017fc674",
   "metadata": {
    "execution": {
     "iopub.execute_input": "2023-10-19T15:11:31.850290Z",
     "iopub.status.busy": "2023-10-19T15:11:31.849906Z",
     "iopub.status.idle": "2023-10-19T15:12:01.678021Z",
     "shell.execute_reply": "2023-10-19T15:12:01.677419Z",
     "shell.execute_reply.started": "2023-10-19T15:11:31.850265Z"
    },
    "tags": []
   },
   "outputs": [
    {
     "name": "stdout",
     "output_type": "stream",
     "text": [
      "\n",
      "\n",
      "\u001b[1m> Entering new AgentExecutor chain...\u001b[0m\n",
      "\u001b[32;1m\u001b[1;3mAction: sql_db_list_tables\n",
      "Action Input: \"\"\u001b[0m\n",
      "Observation: \u001b[38;5;200m\u001b[1;3mcorporate_portfolio\u001b[0m\n",
      "Thought:\u001b[32;1m\u001b[1;3mThe corporate_portfolio table might contain the information I need. I should check its schema to understand its structure and the data it contains.\n",
      "Action: sql_db_schema\n",
      "Action Input: \"corporate_portfolio\"\u001b[0m\n",
      "Observation: \u001b[33;1m\u001b[1;3m\n",
      "CREATE TABLE corporate_portfolio (\n",
      "\t\"REPORTING_DATE\" TEXT, \n",
      "\t\"PARTNER_ID\" TEXT, \n",
      "\t\"LOAN_ID\" TEXT, \n",
      "\t\"PRODUCT\" TEXT, \n",
      "\t\"STATUS\" TEXT, \n",
      "\t\"EXPOSURE_DRAWN\" REAL, \n",
      "\t\"EXPOSURE_UNDRAWN\" REAL, \n",
      "\t\"EXPOSURE\" REAL, \n",
      "\t\"EAD\" REAL, \n",
      "\t\"EAD_COLL\" REAL, \n",
      "\t\"PD\" REAL, \n",
      "\t\"LGD\" REAL, \n",
      "\t\"SIZE\" REAL, \n",
      "\t\"MATURITY\" REAL, \n",
      "\t\"F_LARGE_FIN\" TEXT, \n",
      "\t\"RW\" REAL, \n",
      "\t\"RWA\" REAL\n",
      ")\n",
      "\n",
      "/*\n",
      "2 rows from corporate_portfolio table:\n",
      "REPORTING_DATE\tPARTNER_ID\tLOAN_ID\tPRODUCT\tSTATUS\tEXPOSURE_DRAWN\tEXPOSURE_UNDRAWN\tEXPOSURE\tEAD\tEAD_COLL\tPD\tLGD\tSIZE\tMATURITY\tF_LARGE_FIN\tRW\tRWA\n",
      "2022-12-31\tuawif424nf9573\t2507309957ifvm41\tINVESTMENT\tPerforming\t25088.77133\t0.0\t25088.77133\t25131.35378\t25131.35378\t0.0058159\t0.0\t0.123770567\t3.63013699\tN\t0.0\t0.0\n",
      "2022-12-31\tdninx621xv9731\t1439964799kgeq68\tCREDIT_CARD\tPerforming\t5141.569897\t4578.250143\t9719.82004\t7061.256068\t0.0\t0.0156611\t0.7026\t2.345659392\t1.41369863\tN\t1.196209223\t8446.739634\n",
      "*/\u001b[0m\n",
      "Thought:\u001b[32;1m\u001b[1;3mThe corporate_portfolio table contains the columns \"RWA\", \"EAD\", and \"REPORTING_DATE\" which are relevant to the question. I will write a SQL query to sum the \"RWA\" and \"EAD\" for the reporting date \"31-12-2022\".\n",
      "Action: sql_db_query_checker\n",
      "Action Input: \"SELECT SUM(RWA), SUM(EAD) FROM corporate_portfolio WHERE REPORTING_DATE = '2022-12-31'\"\u001b[0m\n",
      "Observation: \u001b[36;1m\u001b[1;3mSELECT SUM(RWA), SUM(EAD) FROM corporate_portfolio WHERE REPORTING_DATE = '2022-12-31'\u001b[0m\n",
      "Thought:\u001b[32;1m\u001b[1;3mThe query is correct. Now I will execute it to get the total RWA and EAD for the reporting date 31-12-2022.\n",
      "Action: sql_db_query\n",
      "Action Input: \"SELECT SUM(RWA), SUM(EAD) FROM corporate_portfolio WHERE REPORTING_DATE = '2022-12-31'\"\u001b[0m\n",
      "Observation: \u001b[36;1m\u001b[1;3m[(85075812.12498187, 156657332.34921697)]\u001b[0m\n",
      "Thought:\u001b[32;1m\u001b[1;3mI now know the final answer\n",
      "Final Answer: The total RWA for the reporting date 31-12-2022 is 85075812.12 and the total EAD is 156657332.35.\u001b[0m\n",
      "\n",
      "\u001b[1m> Finished chain.\u001b[0m\n"
     ]
    }
   ],
   "source": [
    "output = agent.run(\"What are total RWA and EAD for reporting date 31-12-2022?\")"
   ]
  },
  {
   "cell_type": "code",
   "execution_count": null,
   "id": "e89a0568-eb00-4491-bf23-e4ce81e13f75",
   "metadata": {},
   "outputs": [],
   "source": []
  },
  {
   "cell_type": "code",
   "execution_count": 22,
   "id": "7f5d555d-0114-48a7-a156-863283fe9679",
   "metadata": {
    "execution": {
     "iopub.execute_input": "2023-10-19T15:14:15.494286Z",
     "iopub.status.busy": "2023-10-19T15:14:15.493898Z",
     "iopub.status.idle": "2023-10-19T15:15:05.692035Z",
     "shell.execute_reply": "2023-10-19T15:15:05.691164Z",
     "shell.execute_reply.started": "2023-10-19T15:14:15.494258Z"
    },
    "tags": []
   },
   "outputs": [
    {
     "name": "stdout",
     "output_type": "stream",
     "text": [
      "\n",
      "\n",
      "\u001b[1m> Entering new AgentExecutor chain...\u001b[0m\n",
      "\u001b[32;1m\u001b[1;3mAction: sql_db_list_tables\n",
      "Action Input: \"\"\u001b[0m\n",
      "Observation: \u001b[38;5;200m\u001b[1;3mcorporate_portfolio\u001b[0m\n",
      "Thought:\u001b[32;1m\u001b[1;3mThe corporate_portfolio table might contain the information I need. I should check its schema to understand its structure and the data it contains.\n",
      "Action: sql_db_schema\n",
      "Action Input: \"corporate_portfolio\"\u001b[0m\n",
      "Observation: \u001b[33;1m\u001b[1;3m\n",
      "CREATE TABLE corporate_portfolio (\n",
      "\t\"REPORTING_DATE\" TEXT, \n",
      "\t\"PARTNER_ID\" TEXT, \n",
      "\t\"LOAN_ID\" TEXT, \n",
      "\t\"PRODUCT\" TEXT, \n",
      "\t\"STATUS\" TEXT, \n",
      "\t\"EXPOSURE_DRAWN\" REAL, \n",
      "\t\"EXPOSURE_UNDRAWN\" REAL, \n",
      "\t\"EXPOSURE\" REAL, \n",
      "\t\"EAD\" REAL, \n",
      "\t\"EAD_COLL\" REAL, \n",
      "\t\"PD\" REAL, \n",
      "\t\"LGD\" REAL, \n",
      "\t\"SIZE\" REAL, \n",
      "\t\"MATURITY\" REAL, \n",
      "\t\"F_LARGE_FIN\" TEXT, \n",
      "\t\"RW\" REAL, \n",
      "\t\"RWA\" REAL\n",
      ")\n",
      "\n",
      "/*\n",
      "2 rows from corporate_portfolio table:\n",
      "REPORTING_DATE\tPARTNER_ID\tLOAN_ID\tPRODUCT\tSTATUS\tEXPOSURE_DRAWN\tEXPOSURE_UNDRAWN\tEXPOSURE\tEAD\tEAD_COLL\tPD\tLGD\tSIZE\tMATURITY\tF_LARGE_FIN\tRW\tRWA\n",
      "2022-12-31\tuawif424nf9573\t2507309957ifvm41\tINVESTMENT\tPerforming\t25088.77133\t0.0\t25088.77133\t25131.35378\t25131.35378\t0.0058159\t0.0\t0.123770567\t3.63013699\tN\t0.0\t0.0\n",
      "2022-12-31\tdninx621xv9731\t1439964799kgeq68\tCREDIT_CARD\tPerforming\t5141.569897\t4578.250143\t9719.82004\t7061.256068\t0.0\t0.0156611\t0.7026\t2.345659392\t1.41369863\tN\t1.196209223\t8446.739634\n",
      "*/\u001b[0m\n",
      "Thought:\u001b[32;1m\u001b[1;3mThe corporate_portfolio table contains a column named \"RWA\" which likely stands for Risk Weighted Assets. I also see a column named \"REPORTING_DATE\" which I can use to filter the data for the two dates mentioned in the question. I need to sum the RWA for each date and then calculate the difference.\n",
      "Action: sql_db_query_checker\n",
      "Action Input: \"SELECT REPORTING_DATE, SUM(RWA) as TOTAL_RWA FROM corporate_portfolio WHERE REPORTING_DATE IN ('2022-12-31', '2023-03-31') GROUP BY REPORTING_DATE\"\u001b[0m\n",
      "Observation: \u001b[36;1m\u001b[1;3mSELECT REPORTING_DATE, SUM(RWA) as TOTAL_RWA FROM corporate_portfolio WHERE REPORTING_DATE IN ('2022-12-31', '2023-03-31') GROUP BY REPORTING_DATE\u001b[0m\n",
      "Thought:\u001b[32;1m\u001b[1;3mThe query syntax is correct. Now I can execute it to get the total RWA for each reporting date.\n",
      "Action: sql_db_query\n",
      "Action Input: \"SELECT REPORTING_DATE, SUM(RWA) as TOTAL_RWA FROM corporate_portfolio WHERE REPORTING_DATE IN ('2022-12-31', '2023-03-31') GROUP BY REPORTING_DATE\"\u001b[0m\n",
      "Observation: \u001b[36;1m\u001b[1;3m[('2022-12-31', 85075812.12498187), ('2023-03-31', 77146831.5352424)]\u001b[0m\n",
      "Thought:\u001b[32;1m\u001b[1;3mI have the total RWA for each reporting date. Now I need to calculate the change in total RWA from 2022-12-31 to 2023-03-31.\n",
      "Action: Calculator\n",
      "Action Input: 77146831.5352424 - 85075812.12498187\u001b[0m\n",
      "Observation: \u001b[33;1m\u001b[1;3mAnswer: -7928980.589739472\u001b[0m\n",
      "Thought:\u001b[32;1m\u001b[1;3mI now know the final answer\n",
      "Final Answer: The change in total RWA from reporting date 2022-12-31 to reporting date 2023-03-31 is -7928980.59.\u001b[0m\n",
      "\n",
      "\u001b[1m> Finished chain.\u001b[0m\n"
     ]
    }
   ],
   "source": [
    "output = agent.run(\"What is the change in total RWA from reporting date 2022-12-31 to reporting date 2023-03-31?\")"
   ]
  },
  {
   "cell_type": "code",
   "execution_count": null,
   "id": "faec70ed-e645-4085-818b-f8dbd06eae6f",
   "metadata": {},
   "outputs": [],
   "source": []
  },
  {
   "cell_type": "code",
   "execution_count": 23,
   "id": "b166dcf8-3e00-46f4-a908-6e4912c858af",
   "metadata": {
    "execution": {
     "iopub.execute_input": "2023-10-19T15:27:34.219468Z",
     "iopub.status.busy": "2023-10-19T15:27:34.219074Z",
     "iopub.status.idle": "2023-10-19T15:28:17.111201Z",
     "shell.execute_reply": "2023-10-19T15:28:17.110546Z",
     "shell.execute_reply.started": "2023-10-19T15:27:34.219443Z"
    },
    "tags": []
   },
   "outputs": [
    {
     "name": "stdout",
     "output_type": "stream",
     "text": [
      "\n",
      "\n",
      "\u001b[1m> Entering new AgentExecutor chain...\u001b[0m\n",
      "\u001b[32;1m\u001b[1;3mAction: sql_db_list_tables\n",
      "Action Input: \"\"\u001b[0m\n",
      "Observation: \u001b[38;5;200m\u001b[1;3mcorporate_portfolio\u001b[0m\n",
      "Thought:\u001b[32;1m\u001b[1;3mThe corporate_portfolio table seems to be the most relevant one for this query. I should check its schema to understand its structure and the fields it contains.\n",
      "Action: sql_db_schema\n",
      "Action Input: \"corporate_portfolio\"\u001b[0m\n",
      "Observation: \u001b[33;1m\u001b[1;3m\n",
      "CREATE TABLE corporate_portfolio (\n",
      "\t\"REPORTING_DATE\" TEXT, \n",
      "\t\"PARTNER_ID\" TEXT, \n",
      "\t\"LOAN_ID\" TEXT, \n",
      "\t\"PRODUCT\" TEXT, \n",
      "\t\"STATUS\" TEXT, \n",
      "\t\"EXPOSURE_DRAWN\" REAL, \n",
      "\t\"EXPOSURE_UNDRAWN\" REAL, \n",
      "\t\"EXPOSURE\" REAL, \n",
      "\t\"EAD\" REAL, \n",
      "\t\"EAD_COLL\" REAL, \n",
      "\t\"PD\" REAL, \n",
      "\t\"LGD\" REAL, \n",
      "\t\"SIZE\" REAL, \n",
      "\t\"MATURITY\" REAL, \n",
      "\t\"F_LARGE_FIN\" TEXT, \n",
      "\t\"RW\" REAL, \n",
      "\t\"RWA\" REAL\n",
      ")\n",
      "\n",
      "/*\n",
      "2 rows from corporate_portfolio table:\n",
      "REPORTING_DATE\tPARTNER_ID\tLOAN_ID\tPRODUCT\tSTATUS\tEXPOSURE_DRAWN\tEXPOSURE_UNDRAWN\tEXPOSURE\tEAD\tEAD_COLL\tPD\tLGD\tSIZE\tMATURITY\tF_LARGE_FIN\tRW\tRWA\n",
      "2022-12-31\tuawif424nf9573\t2507309957ifvm41\tINVESTMENT\tPerforming\t25088.77133\t0.0\t25088.77133\t25131.35378\t25131.35378\t0.0058159\t0.0\t0.123770567\t3.63013699\tN\t0.0\t0.0\n",
      "2022-12-31\tdninx621xv9731\t1439964799kgeq68\tCREDIT_CARD\tPerforming\t5141.569897\t4578.250143\t9719.82004\t7061.256068\t0.0\t0.0156611\t0.7026\t2.345659392\t1.41369863\tN\t1.196209223\t8446.739634\n",
      "*/\u001b[0m\n",
      "Thought:\u001b[32;1m\u001b[1;3mThe corporate_portfolio table contains the fields I need for the query. I need to find the total exposure of loans that have a status of \"Performing\" on 2022-12-31 and \"Non Performing\" on 2023-03-31. I will write a SQL query to get this information.\n",
      "Action: sql_db_query_checker\n",
      "Action Input: \n",
      "\"SELECT SUM(EXPOSURE) \n",
      "FROM corporate_portfolio \n",
      "WHERE LOAN_ID IN (\n",
      "    SELECT LOAN_ID \n",
      "    FROM corporate_portfolio \n",
      "    WHERE STATUS = 'Performing' AND REPORTING_DATE = '2022-12-31'\n",
      ") \n",
      "AND STATUS = 'Non Performing' AND REPORTING_DATE = '2023-03-31'\"\u001b[0m\n",
      "Observation: \u001b[36;1m\u001b[1;3mSELECT SUM(EXPOSURE) \n",
      "FROM corporate_portfolio \n",
      "WHERE LOAN_ID IN (\n",
      "    SELECT LOAN_ID \n",
      "    FROM corporate_portfolio \n",
      "    WHERE STATUS = 'Performing' AND REPORTING_DATE = '2022-12-31'\n",
      ") \n",
      "AND STATUS = 'Non Performing' AND REPORTING_DATE = '2023-03-31'\u001b[0m\n",
      "Thought:\u001b[32;1m\u001b[1;3mThe query syntax is correct. Now I will execute the query to get the total exposure.\n",
      "Action: sql_db_query\n",
      "Action Input: \n",
      "\"SELECT SUM(EXPOSURE) \n",
      "FROM corporate_portfolio \n",
      "WHERE LOAN_ID IN (\n",
      "    SELECT LOAN_ID \n",
      "    FROM corporate_portfolio \n",
      "    WHERE STATUS = 'Performing' AND REPORTING_DATE = '2022-12-31'\n",
      ") \n",
      "AND STATUS = 'Non Performing' AND REPORTING_DATE = '2023-03-31'\"\u001b[0m\n",
      "Observation: \u001b[36;1m\u001b[1;3m[(589368.6751999999,)]\u001b[0m\n",
      "Thought:\u001b[32;1m\u001b[1;3mI now know the final answer\n",
      "Final Answer: The total exposure of only those loan ids that have status from Performing on reporting date 2022-12-31 and status Non Performing on reporting date 2023-03-31 is 589368.68.\u001b[0m\n",
      "\n",
      "\u001b[1m> Finished chain.\u001b[0m\n"
     ]
    }
   ],
   "source": [
    "output = agent.run(\"What is the total exposure of only those loan ids that have status from Performing on reporting date 2022-12-31 and status Non Performing on reporting date 2023-03-31?\")"
   ]
  },
  {
   "cell_type": "code",
   "execution_count": null,
   "id": "b5810309-3a89-4b52-aa48-ccfc2ad332a7",
   "metadata": {},
   "outputs": [],
   "source": []
  },
  {
   "cell_type": "markdown",
   "id": "2e79a255-73fd-4e2a-a827-4a7acaed37bc",
   "metadata": {},
   "source": [
    "#### sql + rw"
   ]
  },
  {
   "cell_type": "code",
   "execution_count": 27,
   "id": "deec3f0f-d955-4592-ba04-f2532a82dc9e",
   "metadata": {
    "execution": {
     "iopub.execute_input": "2023-10-19T15:33:21.199630Z",
     "iopub.status.busy": "2023-10-19T15:33:21.199246Z",
     "iopub.status.idle": "2023-10-19T15:34:07.630424Z",
     "shell.execute_reply": "2023-10-19T15:34:07.629643Z",
     "shell.execute_reply.started": "2023-10-19T15:33:21.199602Z"
    },
    "tags": []
   },
   "outputs": [
    {
     "name": "stdout",
     "output_type": "stream",
     "text": [
      "\n",
      "\n",
      "\u001b[1m> Entering new AgentExecutor chain...\u001b[0m\n",
      "\u001b[32;1m\u001b[1;3mAction: sql_db_list_tables\n",
      "Action Input: \"\"\u001b[0m\n",
      "Observation: \u001b[38;5;200m\u001b[1;3mcorporate_portfolio\u001b[0m\n",
      "Thought:\u001b[32;1m\u001b[1;3mThe corporate_portfolio table is available in the database. Now, I need to check the schema of the corporate_portfolio table to understand its structure and the fields it contains.\n",
      "Action: sql_db_schema\n",
      "Action Input: \"corporate_portfolio\"\u001b[0m\n",
      "Observation: \u001b[33;1m\u001b[1;3m\n",
      "CREATE TABLE corporate_portfolio (\n",
      "\t\"REPORTING_DATE\" TEXT, \n",
      "\t\"PARTNER_ID\" TEXT, \n",
      "\t\"LOAN_ID\" TEXT, \n",
      "\t\"PRODUCT\" TEXT, \n",
      "\t\"STATUS\" TEXT, \n",
      "\t\"EXPOSURE_DRAWN\" REAL, \n",
      "\t\"EXPOSURE_UNDRAWN\" REAL, \n",
      "\t\"EXPOSURE\" REAL, \n",
      "\t\"EAD\" REAL, \n",
      "\t\"EAD_COLL\" REAL, \n",
      "\t\"PD\" REAL, \n",
      "\t\"LGD\" REAL, \n",
      "\t\"SIZE\" REAL, \n",
      "\t\"MATURITY\" REAL, \n",
      "\t\"F_LARGE_FIN\" TEXT, \n",
      "\t\"RW\" REAL, \n",
      "\t\"RWA\" REAL\n",
      ")\n",
      "\n",
      "/*\n",
      "2 rows from corporate_portfolio table:\n",
      "REPORTING_DATE\tPARTNER_ID\tLOAN_ID\tPRODUCT\tSTATUS\tEXPOSURE_DRAWN\tEXPOSURE_UNDRAWN\tEXPOSURE\tEAD\tEAD_COLL\tPD\tLGD\tSIZE\tMATURITY\tF_LARGE_FIN\tRW\tRWA\n",
      "2022-12-31\tuawif424nf9573\t2507309957ifvm41\tINVESTMENT\tPerforming\t25088.77133\t0.0\t25088.77133\t25131.35378\t25131.35378\t0.0058159\t0.0\t0.123770567\t3.63013699\tN\t0.0\t0.0\n",
      "2022-12-31\tdninx621xv9731\t1439964799kgeq68\tCREDIT_CARD\tPerforming\t5141.569897\t4578.250143\t9719.82004\t7061.256068\t0.0\t0.0156611\t0.7026\t2.345659392\t1.41369863\tN\t1.196209223\t8446.739634\n",
      "*/\u001b[0m\n",
      "Thought:\u001b[32;1m\u001b[1;3mThe corporate_portfolio table contains the information I need. I can see the LOAN_ID and REPORTING_DATE fields, which are relevant to the question. I will now construct a SQL query to retrieve the information for the given loan id and reporting date.\n",
      "Action: sql_db_query_checker\n",
      "Action Input: \"SELECT * FROM corporate_portfolio WHERE LOAN_ID = '1439964799kgeq68' AND REPORTING_DATE = '2022-12-31' LIMIT 10\"\u001b[0m\n",
      "Observation: \u001b[36;1m\u001b[1;3mSELECT * FROM corporate_portfolio WHERE LOAN_ID = '1439964799kgeq68' AND REPORTING_DATE = '2022-12-31' LIMIT 10\u001b[0m\n",
      "Thought:\u001b[32;1m\u001b[1;3mThe query is correct. Now I will execute it to get the information for the given loan id and reporting date.\n",
      "Action: sql_db_query\n",
      "Action Input: \"SELECT * FROM corporate_portfolio WHERE LOAN_ID = '1439964799kgeq68' AND REPORTING_DATE = '2022-12-31' LIMIT 10\"\u001b[0m\n",
      "Observation: \u001b[36;1m\u001b[1;3m[('2022-12-31', 'dninx621xv9731', '1439964799kgeq68', 'CREDIT_CARD', 'Performing', 5141.569897, 4578.250143, 9719.82004, 7061.256068, 0.0, 0.0156611, 0.7026, 2.345659392, 1.41369863, 'N', 1.196209223, 8446.739634)]\u001b[0m\n",
      "Thought:\u001b[32;1m\u001b[1;3mI now know the final answer\n",
      "Final Answer: The information for loan id 1439964799kgeq68 on reporting date 31-12-2022 is as follows: \n",
      "- Reporting Date: 2022-12-31\n",
      "- Partner ID: dninx621xv9731\n",
      "- Loan ID: 1439964799kgeq68\n",
      "- Product: CREDIT_CARD\n",
      "- Status: Performing\n",
      "- Exposure Drawn: 5141.569897\n",
      "- Exposure Undrawn: 4578.250143\n",
      "- Exposure: 9719.82004\n",
      "- EAD: 7061.256068\n",
      "- EAD Coll: 0.0\n",
      "- PD: 0.0156611\n",
      "- LGD: 0.7026\n",
      "- Size: 2.345659392\n",
      "- Maturity: 1.41369863\n",
      "- F Large Fin: N\n",
      "- RW: 1.196209223\n",
      "- RWA: 8446.739634\u001b[0m\n",
      "\n",
      "\u001b[1m> Finished chain.\u001b[0m\n"
     ]
    }
   ],
   "source": [
    "output = agent.run(\"Read the information in table corporate_portfolio for loan id 1439964799kgeq68 and for reporting date 31-12-2022\")"
   ]
  },
  {
   "cell_type": "code",
   "execution_count": null,
   "id": "7f7642ed-2d8f-485a-8d21-5163ea7cc455",
   "metadata": {},
   "outputs": [],
   "source": []
  },
  {
   "cell_type": "code",
   "execution_count": 28,
   "id": "667f4bcd-b21d-4a5f-ab38-3e5e8e97fd3c",
   "metadata": {
    "execution": {
     "iopub.execute_input": "2023-10-19T15:35:13.543354Z",
     "iopub.status.busy": "2023-10-19T15:35:13.542967Z",
     "iopub.status.idle": "2023-10-19T15:35:37.618154Z",
     "shell.execute_reply": "2023-10-19T15:35:37.617391Z",
     "shell.execute_reply.started": "2023-10-19T15:35:13.543331Z"
    },
    "tags": []
   },
   "outputs": [
    {
     "name": "stdout",
     "output_type": "stream",
     "text": [
      "\n",
      "\n",
      "\u001b[1m> Entering new AgentExecutor chain...\u001b[0m\n",
      "\u001b[32;1m\u001b[1;3mAction: sql_db_list_tables\n",
      "Action Input: \"\"\u001b[0m\n",
      "Observation: \u001b[38;5;200m\u001b[1;3mcorporate_portfolio\u001b[0m\n",
      "Thought:\u001b[32;1m\u001b[1;3mThe corporate_portfolio table seems to be the most relevant one. I should check its schema to see if it contains the necessary columns for the RWTool.\n",
      "Action: sql_db_schema\n",
      "Action Input: \"corporate_portfolio\"\u001b[0m\n",
      "Observation: \u001b[33;1m\u001b[1;3m\n",
      "CREATE TABLE corporate_portfolio (\n",
      "\t\"REPORTING_DATE\" TEXT, \n",
      "\t\"PARTNER_ID\" TEXT, \n",
      "\t\"LOAN_ID\" TEXT, \n",
      "\t\"PRODUCT\" TEXT, \n",
      "\t\"STATUS\" TEXT, \n",
      "\t\"EXPOSURE_DRAWN\" REAL, \n",
      "\t\"EXPOSURE_UNDRAWN\" REAL, \n",
      "\t\"EXPOSURE\" REAL, \n",
      "\t\"EAD\" REAL, \n",
      "\t\"EAD_COLL\" REAL, \n",
      "\t\"PD\" REAL, \n",
      "\t\"LGD\" REAL, \n",
      "\t\"SIZE\" REAL, \n",
      "\t\"MATURITY\" REAL, \n",
      "\t\"F_LARGE_FIN\" TEXT, \n",
      "\t\"RW\" REAL, \n",
      "\t\"RWA\" REAL\n",
      ")\n",
      "\n",
      "/*\n",
      "2 rows from corporate_portfolio table:\n",
      "REPORTING_DATE\tPARTNER_ID\tLOAN_ID\tPRODUCT\tSTATUS\tEXPOSURE_DRAWN\tEXPOSURE_UNDRAWN\tEXPOSURE\tEAD\tEAD_COLL\tPD\tLGD\tSIZE\tMATURITY\tF_LARGE_FIN\tRW\tRWA\n",
      "2022-12-31\tuawif424nf9573\t2507309957ifvm41\tINVESTMENT\tPerforming\t25088.77133\t0.0\t25088.77133\t25131.35378\t25131.35378\t0.0058159\t0.0\t0.123770567\t3.63013699\tN\t0.0\t0.0\n",
      "2022-12-31\tdninx621xv9731\t1439964799kgeq68\tCREDIT_CARD\tPerforming\t5141.569897\t4578.250143\t9719.82004\t7061.256068\t0.0\t0.0156611\t0.7026\t2.345659392\t1.41369863\tN\t1.196209223\t8446.739634\n",
      "*/\u001b[0m\n",
      "Thought:\u001b[32;1m\u001b[1;3mThe corporate_portfolio table contains all the necessary columns for the RWTool. I can use the PD, LGD, MATURITY, SIZE, and F_LARGE_FIN columns. However, the question asks what the RW would be if the PD doubles. This means I need to calculate the RW with the PD value doubled. I will use the RWTool for this.\n",
      "Action: RWTool\n",
      "Action Input: \n",
      "{\n",
      "  \"PD\": 0.0058159 * 2,\n",
      "  \"LGD\": 0.0,\n",
      "  \"MATURITY\": 3.63013699,\n",
      "  \"SIZE\": 0.123770567,\n",
      "  \"F_LARGE_FIN\": \"N\"\n",
      "}\u001b[0m\n",
      "Observation: \u001b[38;5;200m\u001b[1;3m0.0\u001b[0m\n",
      "Thought:\u001b[32;1m\u001b[1;3mThe RWTool has returned a value of 0.0. This means that if the PD doubles, the RW would still be 0.0.\n",
      "Final Answer: The RW would be 0.0 if the PD doubles.\u001b[0m\n",
      "\n",
      "\u001b[1m> Finished chain.\u001b[0m\n"
     ]
    }
   ],
   "source": [
    "output = agent.run(\"What will be the RW if PD doubles\")"
   ]
  },
  {
   "cell_type": "code",
   "execution_count": null,
   "id": "610fc690-3d33-41e2-b167-da41017b37bb",
   "metadata": {},
   "outputs": [],
   "source": []
  },
  {
   "cell_type": "code",
   "execution_count": 3,
   "id": "5dbaad7b-94ef-4084-a5c4-d63110f13698",
   "metadata": {
    "execution": {
     "iopub.execute_input": "2023-10-19T07:25:16.632184Z",
     "iopub.status.busy": "2023-10-19T07:25:16.631803Z",
     "iopub.status.idle": "2023-10-19T07:25:16.635499Z",
     "shell.execute_reply": "2023-10-19T07:25:16.634681Z",
     "shell.execute_reply.started": "2023-10-19T07:25:16.632156Z"
    }
   },
   "outputs": [],
   "source": [
    "# output = agent.run(\"What about if LGD doubles\")"
   ]
  },
  {
   "cell_type": "code",
   "execution_count": null,
   "id": "fd1fe668-a009-4bcb-b0d0-4e9bac7822e7",
   "metadata": {},
   "outputs": [],
   "source": []
  },
  {
   "cell_type": "code",
   "execution_count": 4,
   "id": "0947ec84-bb67-4f65-817c-f1fe91a5cd1d",
   "metadata": {
    "execution": {
     "iopub.execute_input": "2023-10-19T07:25:19.038539Z",
     "iopub.status.busy": "2023-10-19T07:25:19.038163Z",
     "iopub.status.idle": "2023-10-19T07:25:19.041778Z",
     "shell.execute_reply": "2023-10-19T07:25:19.041015Z",
     "shell.execute_reply.started": "2023-10-19T07:25:19.038512Z"
    }
   },
   "outputs": [],
   "source": [
    "# output = agent.run(\"And if MATURITY becomes 6.23\")"
   ]
  },
  {
   "cell_type": "code",
   "execution_count": null,
   "id": "dc365500-b504-4a50-a4c7-4916bf025e68",
   "metadata": {},
   "outputs": [],
   "source": []
  },
  {
   "cell_type": "code",
   "execution_count": 5,
   "id": "0922d2c6-c7ee-48f8-9aa3-931256c21c7b",
   "metadata": {
    "execution": {
     "iopub.execute_input": "2023-10-19T07:25:21.882865Z",
     "iopub.status.busy": "2023-10-19T07:25:21.882491Z",
     "iopub.status.idle": "2023-10-19T07:25:21.886178Z",
     "shell.execute_reply": "2023-10-19T07:25:21.885372Z",
     "shell.execute_reply.started": "2023-10-19T07:25:21.882837Z"
    }
   },
   "outputs": [],
   "source": [
    "# output = agent.run(\"What if all three parameters change like that?\")"
   ]
  },
  {
   "cell_type": "code",
   "execution_count": null,
   "id": "c3c81eda-73b6-424b-a22e-23c2066db26c",
   "metadata": {},
   "outputs": [],
   "source": []
  },
  {
   "cell_type": "code",
   "execution_count": 6,
   "id": "34775e87-4422-4c80-8fe6-e599211f4ece",
   "metadata": {
    "execution": {
     "iopub.execute_input": "2023-10-19T07:25:24.119433Z",
     "iopub.status.busy": "2023-10-19T07:25:24.119049Z",
     "iopub.status.idle": "2023-10-19T07:25:24.122780Z",
     "shell.execute_reply": "2023-10-19T07:25:24.121979Z",
     "shell.execute_reply.started": "2023-10-19T07:25:24.119407Z"
    }
   },
   "outputs": [],
   "source": [
    "# output = agent.run(\"Start over again and read the all information in table corporate_portfolio for loan id 1439964799kgeq68 but for reporting date 2023-03-31\")"
   ]
  },
  {
   "cell_type": "code",
   "execution_count": null,
   "id": "ecca417b-62e6-4b65-b64b-8a487a66a6db",
   "metadata": {},
   "outputs": [],
   "source": []
  },
  {
   "cell_type": "code",
   "execution_count": 7,
   "id": "fe409172-0a05-4942-b747-f5b0ca29c3ad",
   "metadata": {
    "execution": {
     "iopub.execute_input": "2023-10-19T07:25:27.045573Z",
     "iopub.status.busy": "2023-10-19T07:25:27.045082Z",
     "iopub.status.idle": "2023-10-19T07:25:27.049143Z",
     "shell.execute_reply": "2023-10-19T07:25:27.048425Z",
     "shell.execute_reply.started": "2023-10-19T07:25:27.045529Z"
    }
   },
   "outputs": [],
   "source": [
    "# output = agent.run(\"What is the change in PD for loan id 1439964799kgeq68 between reporting date 2022-12-31 and 2023-03-31\")"
   ]
  },
  {
   "cell_type": "code",
   "execution_count": null,
   "id": "2ed72d60-3b35-4620-9a50-da001c390c5a",
   "metadata": {},
   "outputs": [],
   "source": []
  },
  {
   "cell_type": "code",
   "execution_count": 8,
   "id": "1988e046-d4a2-4e7a-b330-eeb9bd571c4e",
   "metadata": {
    "execution": {
     "iopub.execute_input": "2023-10-19T07:25:29.173315Z",
     "iopub.status.busy": "2023-10-19T07:25:29.172943Z",
     "iopub.status.idle": "2023-10-19T07:25:29.176318Z",
     "shell.execute_reply": "2023-10-19T07:25:29.175691Z",
     "shell.execute_reply.started": "2023-10-19T07:25:29.173289Z"
    }
   },
   "outputs": [],
   "source": [
    "# output = agent.run(\"Read the information for ACCOUNT_NUMBER = '1851285872eypk20' in rwa_data table and then calculate the RW if LGD doubles and PD becomes 0.2\")"
   ]
  },
  {
   "cell_type": "code",
   "execution_count": null,
   "id": "5bc7bcfd-8dab-42d7-9a0e-4231d4aee83c",
   "metadata": {},
   "outputs": [],
   "source": []
  }
 ],
 "metadata": {
  "kernelspec": {
   "display_name": "saturn (Python 3)",
   "language": "python",
   "name": "python3"
  },
  "language_info": {
   "codemirror_mode": {
    "name": "ipython",
    "version": 3
   },
   "file_extension": ".py",
   "mimetype": "text/x-python",
   "name": "python",
   "nbconvert_exporter": "python",
   "pygments_lexer": "ipython3",
   "version": "3.9.15"
  }
 },
 "nbformat": 4,
 "nbformat_minor": 5
}
