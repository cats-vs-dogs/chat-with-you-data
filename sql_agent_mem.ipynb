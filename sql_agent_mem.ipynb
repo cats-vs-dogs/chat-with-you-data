{
 "cells": [
  {
   "cell_type": "code",
   "execution_count": 1,
   "id": "e555460c-4010-40d3-a235-1dcc79412745",
   "metadata": {
    "execution": {
     "iopub.execute_input": "2023-10-18T07:06:21.396812Z",
     "iopub.status.busy": "2023-10-18T07:06:21.396430Z",
     "iopub.status.idle": "2023-10-18T07:06:23.124243Z",
     "shell.execute_reply": "2023-10-18T07:06:23.123634Z",
     "shell.execute_reply.started": "2023-10-18T07:06:21.396782Z"
    },
    "tags": []
   },
   "outputs": [],
   "source": [
    "from langchain.llms import OpenAI\n",
    "from langchain.chat_models import ChatOpenAI\n",
    "from langchain import SQLDatabase\n",
    "from langchain_experimental.sql import SQLDatabaseChain\n",
    "from langchain.chains import create_sql_query_chain\n",
    "\n",
    "from langchain.prompts import PromptTemplate\n",
    "\n",
    "from langchain.agents import create_sql_agent\n",
    "from langchain.agents.agent_toolkits import SQLDatabaseToolkit\n",
    "# from langchain.agents import AgentExecutor\n",
    "from langchain.agents.agent_types import AgentType\n",
    "from langchain.memory import ConversationBufferMemory\n",
    "\n",
    "from langchain.agents import load_tools"
   ]
  },
  {
   "cell_type": "code",
   "execution_count": 3,
   "id": "9ec5cdcc-d056-4519-b603-bf12c3100363",
   "metadata": {
    "execution": {
     "iopub.execute_input": "2023-10-18T07:06:24.794526Z",
     "iopub.status.busy": "2023-10-18T07:06:24.794156Z",
     "iopub.status.idle": "2023-10-18T07:06:24.801915Z",
     "shell.execute_reply": "2023-10-18T07:06:24.801374Z",
     "shell.execute_reply.started": "2023-10-18T07:06:24.794501Z"
    },
    "tags": []
   },
   "outputs": [],
   "source": [
    "import os\n",
    "from dotenv import load_dotenv\n",
    "load_dotenv()\n",
    "OPENAI_API_KEY = os.getenv('OPENAI_API_KEY')"
   ]
  },
  {
   "cell_type": "code",
   "execution_count": 4,
   "id": "ed315fb8-25b5-42bd-969c-77c475d3d1f4",
   "metadata": {
    "execution": {
     "iopub.execute_input": "2023-10-18T07:06:27.111217Z",
     "iopub.status.busy": "2023-10-18T07:06:27.110835Z",
     "iopub.status.idle": "2023-10-18T07:06:27.122127Z",
     "shell.execute_reply": "2023-10-18T07:06:27.121580Z",
     "shell.execute_reply.started": "2023-10-18T07:06:27.111192Z"
    },
    "tags": []
   },
   "outputs": [],
   "source": [
    "# llm = OpenAI(temperature=0, verbose=True)\n",
    "llm = ChatOpenAI(model_name='gpt-4',temperature=0)"
   ]
  },
  {
   "cell_type": "code",
   "execution_count": 5,
   "id": "2d5e045a-3751-4831-8ad7-aa611c8b44e5",
   "metadata": {
    "execution": {
     "iopub.execute_input": "2023-10-18T07:06:29.441117Z",
     "iopub.status.busy": "2023-10-18T07:06:29.440719Z",
     "iopub.status.idle": "2023-10-18T07:06:29.479736Z",
     "shell.execute_reply": "2023-10-18T07:06:29.479176Z",
     "shell.execute_reply.started": "2023-10-18T07:06:29.441083Z"
    },
    "tags": []
   },
   "outputs": [],
   "source": [
    "tools = load_tools(\n",
    "    ['llm-math'],\n",
    "    llm=llm\n",
    ")"
   ]
  },
  {
   "cell_type": "code",
   "execution_count": 6,
   "id": "af5610c4-5467-4844-87bb-71e39788d757",
   "metadata": {
    "execution": {
     "iopub.execute_input": "2023-10-18T07:06:30.076864Z",
     "iopub.status.busy": "2023-10-18T07:06:30.076500Z",
     "iopub.status.idle": "2023-10-18T07:06:30.921195Z",
     "shell.execute_reply": "2023-10-18T07:06:30.920555Z",
     "shell.execute_reply.started": "2023-10-18T07:06:30.076841Z"
    },
    "tags": []
   },
   "outputs": [],
   "source": [
    "from langchain.tools import Tool, BaseTool\n",
    "from pydantic.v1 import BaseModel, Field\n",
    "import math\n",
    "from scipy.stats import norm\n",
    "\n",
    "def rw_corp(Input_String: str) -> str:\n",
    "\n",
    "    \"\"\" \n",
    "    calculates the risk weight from input parameters \n",
    "    PD, LGD, MATURITY, F_LARGE_FIN and SIZE which are fed into the formula in this particular order \n",
    "    \"\"\"\n",
    "    \n",
    "    PD_s, LGD_s, MATURITY_s, SIZE_s, F_LARGE_FIN_s = Input_String.split(\",\")\n",
    "\n",
    "    PD = float(eval(PD_s.split(\":\")[1].strip()))\n",
    "    LGD = float(eval(LGD_s.split(\":\")[1].strip()))\n",
    "    MATURITY = float(eval(MATURITY_s.split(\":\")[1].strip()))\n",
    "    SIZE = float(eval(SIZE_s.split(\":\")[1].strip()))\n",
    "    F_LARGE_FIN = (F_LARGE_FIN_s.split(\":\")[1].strip())\n",
    "       \n",
    "    pd_final = max(0.0003, PD)\n",
    "    size_final = max(5, min(SIZE, 50))    \n",
    "    r0 = (0.12 * (1.0 - math.exp(-50.0 * pd_final)) / (1.0 - math.exp(-50.0))) + \\\n",
    "        (0.24 * (1.0 - (1 - math.exp(-50.0 * pd_final)) / (1.0 - math.exp(-50.0)))) - \\\n",
    "        (0.04 * (1.0 - (size_final - 5.0) / 45.0))\n",
    "    if F_LARGE_FIN == 'Y':\n",
    "        r = r0 * 1.25\n",
    "    else:\n",
    "        r = r0\n",
    "    b = (0.11852 - 0.05478 * math.log(pd_final)) ** 2\n",
    "    ma = ((1 - 1.5 * b) ** -1) * (1 + (MATURITY - 2.5) * b)    \n",
    "    rw = ((LGD * norm.cdf((1 - r) ** -0.5 * norm.ppf(pd_final) + (r / (1 - r)) ** 0.5 * norm.ppf(0.999)) - pd_final * LGD) * ma) * 12.5 * 1.06\n",
    "    return rw  \n",
    "\n",
    "\n",
    "class RWInput(BaseModel):\n",
    "    Input_String: str = Field(description='This is a string that contains values for the input parameters \\\n",
    "                              PD, LGD, MATURITY, SIZE and F_LARGE_FIN which are fed into the formula in this particular order ')\n",
    "    \n",
    "RWTool = Tool.from_function(\n",
    "    func=rw_corp,\n",
    "    name=\"RWTool\",\n",
    "    description=\"\"\"\n",
    "    This is a custom tool that calculates the risk weight from a set of input parameters:\n",
    "        PD - Probability of Default,\n",
    "        LGD - Loss Given Default,\n",
    "        MATURITY - Remaining maturity of the loan in years,\n",
    "        SIZE - The size of the client in MEUR, usually this is the client's turnover, \n",
    "        F_LARGE_FIN - If 'Y' the client is a Large Financial Institution        \n",
    "        \"\"\",\n",
    "    args_schema=RWInput\n",
    ")"
   ]
  },
  {
   "cell_type": "code",
   "execution_count": 7,
   "id": "a77e56ef-05a8-43eb-8c3f-df28f3096a91",
   "metadata": {
    "execution": {
     "iopub.execute_input": "2023-10-18T07:06:32.376504Z",
     "iopub.status.busy": "2023-10-18T07:06:32.375832Z",
     "iopub.status.idle": "2023-10-18T07:06:32.379650Z",
     "shell.execute_reply": "2023-10-18T07:06:32.378918Z",
     "shell.execute_reply.started": "2023-10-18T07:06:32.376479Z"
    },
    "tags": []
   },
   "outputs": [],
   "source": [
    "tools.append(RWTool)"
   ]
  },
  {
   "cell_type": "code",
   "execution_count": 8,
   "id": "f091f2a0-a1f0-40c1-bd8c-ace3ce6d2807",
   "metadata": {
    "execution": {
     "iopub.execute_input": "2023-10-18T07:06:33.175763Z",
     "iopub.status.busy": "2023-10-18T07:06:33.175393Z",
     "iopub.status.idle": "2023-10-18T07:06:33.194452Z",
     "shell.execute_reply": "2023-10-18T07:06:33.193904Z",
     "shell.execute_reply.started": "2023-10-18T07:06:33.175739Z"
    },
    "tags": []
   },
   "outputs": [],
   "source": [
    "db = SQLDatabase.from_uri(\"sqlite:///./portfolio_data.db\",\n",
    "                         include_tables=['corporate_portfolio'],\n",
    "                         sample_rows_in_table_info=2\n",
    ")"
   ]
  },
  {
   "cell_type": "code",
   "execution_count": 9,
   "id": "82dc629a-15e5-4ab6-bb46-dbff10a0d6e6",
   "metadata": {
    "execution": {
     "iopub.execute_input": "2023-10-18T07:06:55.236706Z",
     "iopub.status.busy": "2023-10-18T07:06:55.236323Z",
     "iopub.status.idle": "2023-10-18T07:06:55.243274Z",
     "shell.execute_reply": "2023-10-18T07:06:55.242649Z",
     "shell.execute_reply.started": "2023-10-18T07:06:55.236681Z"
    },
    "tags": []
   },
   "outputs": [],
   "source": [
    "toolkit = SQLDatabaseToolkit(db=db, llm=llm)\n",
    "\n",
    "# custom_suffix = \"\"\"\n",
    "# Use this math tool for performing mathematical operation on sql querry results.\n",
    "# Example of such question: What is the difference between two sums obtained via a sql querry.\n",
    "# \"\"\"\n",
    "agent = create_sql_agent(\n",
    "    llm=llm,\n",
    "    toolkit=toolkit,\n",
    "    verbose=True,\n",
    "    agent_type=AgentType.ZERO_SHOT_REACT_DESCRIPTION,\n",
    "    extra_tools=tools,\n",
    "  \n",
    ")"
   ]
  },
  {
   "cell_type": "markdown",
   "id": "e4ecf9d4-42bf-470c-8d3b-ce4b954b268e",
   "metadata": {},
   "source": [
    "### sql"
   ]
  },
  {
   "cell_type": "code",
   "execution_count": 9,
   "id": "936ce1ad-666a-4dd6-a50b-e2b9017fc674",
   "metadata": {
    "execution": {
     "iopub.execute_input": "2023-10-19T07:25:59.231660Z",
     "iopub.status.busy": "2023-10-19T07:25:59.231284Z",
     "iopub.status.idle": "2023-10-19T07:25:59.234671Z",
     "shell.execute_reply": "2023-10-19T07:25:59.234046Z",
     "shell.execute_reply.started": "2023-10-19T07:25:59.231632Z"
    },
    "tags": []
   },
   "outputs": [],
   "source": [
    "# output = agent.run(\"What are total RWA and EAD for reporting date 31-12-2022?\")"
   ]
  },
  {
   "cell_type": "code",
   "execution_count": null,
   "id": "e89a0568-eb00-4491-bf23-e4ce81e13f75",
   "metadata": {},
   "outputs": [],
   "source": []
  },
  {
   "cell_type": "code",
   "execution_count": 10,
   "id": "7f5d555d-0114-48a7-a156-863283fe9679",
   "metadata": {
    "execution": {
     "iopub.execute_input": "2023-10-19T07:26:00.832345Z",
     "iopub.status.busy": "2023-10-19T07:26:00.831968Z",
     "iopub.status.idle": "2023-10-19T07:26:00.835524Z",
     "shell.execute_reply": "2023-10-19T07:26:00.834844Z",
     "shell.execute_reply.started": "2023-10-19T07:26:00.832317Z"
    },
    "tags": []
   },
   "outputs": [],
   "source": [
    "# output = agent.run(\"What is the change in total RWA from reporting date 2022-12-31 to reporting date 2023-03-31?\")"
   ]
  },
  {
   "cell_type": "code",
   "execution_count": null,
   "id": "faec70ed-e645-4085-818b-f8dbd06eae6f",
   "metadata": {},
   "outputs": [],
   "source": []
  },
  {
   "cell_type": "code",
   "execution_count": 18,
   "id": "b166dcf8-3e00-46f4-a908-6e4912c858af",
   "metadata": {
    "execution": {
     "iopub.execute_input": "2023-10-17T05:54:15.975973Z",
     "iopub.status.busy": "2023-10-17T05:54:15.975568Z",
     "iopub.status.idle": "2023-10-17T05:54:15.978869Z",
     "shell.execute_reply": "2023-10-17T05:54:15.978327Z",
     "shell.execute_reply.started": "2023-10-17T05:54:15.975946Z"
    },
    "tags": []
   },
   "outputs": [],
   "source": [
    "# output = agent.run(\"What is the total exposure of only those loan ids that have status from Performing on reporting date 2022-12-31 and status Non Performing on reporting date 2023-03-31?\")"
   ]
  },
  {
   "cell_type": "code",
   "execution_count": null,
   "id": "b5810309-3a89-4b52-aa48-ccfc2ad332a7",
   "metadata": {},
   "outputs": [],
   "source": []
  },
  {
   "cell_type": "markdown",
   "id": "2e79a255-73fd-4e2a-a827-4a7acaed37bc",
   "metadata": {},
   "source": [
    "#### sql + rw"
   ]
  },
  {
   "cell_type": "code",
   "execution_count": 1,
   "id": "deec3f0f-d955-4592-ba04-f2532a82dc9e",
   "metadata": {
    "execution": {
     "iopub.execute_input": "2023-10-19T07:25:10.652099Z",
     "iopub.status.busy": "2023-10-19T07:25:10.651708Z",
     "iopub.status.idle": "2023-10-19T07:25:10.655342Z",
     "shell.execute_reply": "2023-10-19T07:25:10.654776Z",
     "shell.execute_reply.started": "2023-10-19T07:25:10.652069Z"
    },
    "tags": []
   },
   "outputs": [],
   "source": [
    "# output = agent.run(\"Read the information in table corporate_portfolio for loan id 1439964799kgeq68 and for reporting date 31-12-2022\")"
   ]
  },
  {
   "cell_type": "code",
   "execution_count": null,
   "id": "7f7642ed-2d8f-485a-8d21-5163ea7cc455",
   "metadata": {},
   "outputs": [],
   "source": []
  },
  {
   "cell_type": "code",
   "execution_count": 2,
   "id": "667f4bcd-b21d-4a5f-ab38-3e5e8e97fd3c",
   "metadata": {
    "execution": {
     "iopub.execute_input": "2023-10-19T07:25:14.417494Z",
     "iopub.status.busy": "2023-10-19T07:25:14.417125Z",
     "iopub.status.idle": "2023-10-19T07:25:14.420441Z",
     "shell.execute_reply": "2023-10-19T07:25:14.419872Z",
     "shell.execute_reply.started": "2023-10-19T07:25:14.417468Z"
    }
   },
   "outputs": [],
   "source": [
    "# output = agent.run(\"What will be the RW if PD doubles\")"
   ]
  },
  {
   "cell_type": "code",
   "execution_count": null,
   "id": "610fc690-3d33-41e2-b167-da41017b37bb",
   "metadata": {},
   "outputs": [],
   "source": []
  },
  {
   "cell_type": "code",
   "execution_count": 3,
   "id": "5dbaad7b-94ef-4084-a5c4-d63110f13698",
   "metadata": {
    "execution": {
     "iopub.execute_input": "2023-10-19T07:25:16.632184Z",
     "iopub.status.busy": "2023-10-19T07:25:16.631803Z",
     "iopub.status.idle": "2023-10-19T07:25:16.635499Z",
     "shell.execute_reply": "2023-10-19T07:25:16.634681Z",
     "shell.execute_reply.started": "2023-10-19T07:25:16.632156Z"
    }
   },
   "outputs": [],
   "source": [
    "# output = agent.run(\"What about if LGD doubles\")"
   ]
  },
  {
   "cell_type": "code",
   "execution_count": null,
   "id": "fd1fe668-a009-4bcb-b0d0-4e9bac7822e7",
   "metadata": {},
   "outputs": [],
   "source": []
  },
  {
   "cell_type": "code",
   "execution_count": 4,
   "id": "0947ec84-bb67-4f65-817c-f1fe91a5cd1d",
   "metadata": {
    "execution": {
     "iopub.execute_input": "2023-10-19T07:25:19.038539Z",
     "iopub.status.busy": "2023-10-19T07:25:19.038163Z",
     "iopub.status.idle": "2023-10-19T07:25:19.041778Z",
     "shell.execute_reply": "2023-10-19T07:25:19.041015Z",
     "shell.execute_reply.started": "2023-10-19T07:25:19.038512Z"
    }
   },
   "outputs": [],
   "source": [
    "# output = agent.run(\"And if MATURITY becomes 6.23\")"
   ]
  },
  {
   "cell_type": "code",
   "execution_count": null,
   "id": "dc365500-b504-4a50-a4c7-4916bf025e68",
   "metadata": {},
   "outputs": [],
   "source": []
  },
  {
   "cell_type": "code",
   "execution_count": 5,
   "id": "0922d2c6-c7ee-48f8-9aa3-931256c21c7b",
   "metadata": {
    "execution": {
     "iopub.execute_input": "2023-10-19T07:25:21.882865Z",
     "iopub.status.busy": "2023-10-19T07:25:21.882491Z",
     "iopub.status.idle": "2023-10-19T07:25:21.886178Z",
     "shell.execute_reply": "2023-10-19T07:25:21.885372Z",
     "shell.execute_reply.started": "2023-10-19T07:25:21.882837Z"
    }
   },
   "outputs": [],
   "source": [
    "# output = agent.run(\"What if all three parameters change like that?\")"
   ]
  },
  {
   "cell_type": "code",
   "execution_count": null,
   "id": "c3c81eda-73b6-424b-a22e-23c2066db26c",
   "metadata": {},
   "outputs": [],
   "source": []
  },
  {
   "cell_type": "code",
   "execution_count": 6,
   "id": "34775e87-4422-4c80-8fe6-e599211f4ece",
   "metadata": {
    "execution": {
     "iopub.execute_input": "2023-10-19T07:25:24.119433Z",
     "iopub.status.busy": "2023-10-19T07:25:24.119049Z",
     "iopub.status.idle": "2023-10-19T07:25:24.122780Z",
     "shell.execute_reply": "2023-10-19T07:25:24.121979Z",
     "shell.execute_reply.started": "2023-10-19T07:25:24.119407Z"
    }
   },
   "outputs": [],
   "source": [
    "# output = agent.run(\"Start over again and read the all information in table corporate_portfolio for loan id 1439964799kgeq68 but for reporting date 2023-03-31\")"
   ]
  },
  {
   "cell_type": "code",
   "execution_count": null,
   "id": "ecca417b-62e6-4b65-b64b-8a487a66a6db",
   "metadata": {},
   "outputs": [],
   "source": []
  },
  {
   "cell_type": "code",
   "execution_count": 7,
   "id": "fe409172-0a05-4942-b747-f5b0ca29c3ad",
   "metadata": {
    "execution": {
     "iopub.execute_input": "2023-10-19T07:25:27.045573Z",
     "iopub.status.busy": "2023-10-19T07:25:27.045082Z",
     "iopub.status.idle": "2023-10-19T07:25:27.049143Z",
     "shell.execute_reply": "2023-10-19T07:25:27.048425Z",
     "shell.execute_reply.started": "2023-10-19T07:25:27.045529Z"
    }
   },
   "outputs": [],
   "source": [
    "# output = agent.run(\"What is the change in PD for loan id 1439964799kgeq68 between reporting date 2022-12-31 and 2023-03-31\")"
   ]
  },
  {
   "cell_type": "code",
   "execution_count": null,
   "id": "2ed72d60-3b35-4620-9a50-da001c390c5a",
   "metadata": {},
   "outputs": [],
   "source": []
  },
  {
   "cell_type": "code",
   "execution_count": 8,
   "id": "1988e046-d4a2-4e7a-b330-eeb9bd571c4e",
   "metadata": {
    "execution": {
     "iopub.execute_input": "2023-10-19T07:25:29.173315Z",
     "iopub.status.busy": "2023-10-19T07:25:29.172943Z",
     "iopub.status.idle": "2023-10-19T07:25:29.176318Z",
     "shell.execute_reply": "2023-10-19T07:25:29.175691Z",
     "shell.execute_reply.started": "2023-10-19T07:25:29.173289Z"
    }
   },
   "outputs": [],
   "source": [
    "# output = agent.run(\"Read the information for ACCOUNT_NUMBER = '1851285872eypk20' in rwa_data table and then calculate the RW if LGD doubles and PD becomes 0.2\")"
   ]
  },
  {
   "cell_type": "code",
   "execution_count": null,
   "id": "5bc7bcfd-8dab-42d7-9a0e-4231d4aee83c",
   "metadata": {},
   "outputs": [],
   "source": []
  }
 ],
 "metadata": {
  "kernelspec": {
   "display_name": "saturn (Python 3)",
   "language": "python",
   "name": "python3"
  },
  "language_info": {
   "codemirror_mode": {
    "name": "ipython",
    "version": 3
   },
   "file_extension": ".py",
   "mimetype": "text/x-python",
   "name": "python",
   "nbconvert_exporter": "python",
   "pygments_lexer": "ipython3",
   "version": "3.9.15"
  }
 },
 "nbformat": 4,
 "nbformat_minor": 5
}
