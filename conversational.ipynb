{
 "cells": [
  {
   "cell_type": "code",
   "execution_count": 1,
   "id": "c3057dfb-5f39-43c6-8332-13f93693c895",
   "metadata": {
    "execution": {
     "iopub.execute_input": "2023-10-08T08:47:50.165341Z",
     "iopub.status.busy": "2023-10-08T08:47:50.164928Z",
     "iopub.status.idle": "2023-10-08T08:47:51.545172Z",
     "shell.execute_reply": "2023-10-08T08:47:51.544582Z",
     "shell.execute_reply.started": "2023-10-08T08:47:50.165288Z"
    },
    "tags": []
   },
   "outputs": [],
   "source": [
    "from langchain.chat_models import ChatOpenAI\n",
    "from langchain import SQLDatabase\n",
    "from langchain_experimental.sql import SQLDatabaseChain\n",
    "from langchain.agents import initialize_agent\n",
    "from langchain.tools import Tool, BaseTool\n",
    "from pydantic.v1 import BaseModel, Field\n",
    "# from langchain.agents import load_tools\n",
    "from langchain.memory import ConversationBufferMemory"
   ]
  },
  {
   "cell_type": "code",
   "execution_count": 2,
   "id": "799e80ad-4d2e-4ded-8816-d198d6ceeead",
   "metadata": {
    "execution": {
     "iopub.execute_input": "2023-10-08T08:47:52.721350Z",
     "iopub.status.busy": "2023-10-08T08:47:52.720968Z",
     "iopub.status.idle": "2023-10-08T08:47:52.730272Z",
     "shell.execute_reply": "2023-10-08T08:47:52.729745Z",
     "shell.execute_reply.started": "2023-10-08T08:47:52.721323Z"
    },
    "tags": []
   },
   "outputs": [],
   "source": [
    "import os\n",
    "from dotenv import load_dotenv\n",
    "load_dotenv()\n",
    "OPENAI_API_KEY = os.getenv('OPENAI_API_KEY')"
   ]
  },
  {
   "cell_type": "code",
   "execution_count": 3,
   "id": "7eafcc6a-9288-453b-ad3e-bdd56459c577",
   "metadata": {
    "execution": {
     "iopub.execute_input": "2023-10-08T08:47:53.666556Z",
     "iopub.status.busy": "2023-10-08T08:47:53.665906Z",
     "iopub.status.idle": "2023-10-08T08:47:54.025175Z",
     "shell.execute_reply": "2023-10-08T08:47:54.024586Z",
     "shell.execute_reply.started": "2023-10-08T08:47:53.666526Z"
    },
    "tags": []
   },
   "outputs": [],
   "source": [
    "import math\n",
    "from scipy.stats import norm\n",
    "\n",
    "def rw_corp(Input_String: str) -> str:\n",
    "\n",
    "    \"\"\" \n",
    "    calculates the risk weight from input parameters \n",
    "    PD, LGD, MATURITY, F_LARGE_FIN and SIZE which are fed into the formula in this particular order \n",
    "    \"\"\"\n",
    "    \n",
    "    PD_s, LGD_s, MATURITY_s, SIZE_s, F_LARGE_FIN_s = Input_String.split(\",\")\n",
    "\n",
    "    PD = float(eval(PD_s.split(\":\")[1].strip()))\n",
    "    LGD = float(eval(LGD_s.split(\":\")[1].strip()))\n",
    "    MATURITY = float(eval(MATURITY_s.split(\":\")[1].strip()))\n",
    "    SIZE = float(eval(SIZE_s.split(\":\")[1].strip()))\n",
    "    F_LARGE_FIN = (F_LARGE_FIN_s.split(\":\")[1].strip())\n",
    "       \n",
    "    pd_final = max(0.0003, PD)\n",
    "    size_final = max(5, min(SIZE, 50))    \n",
    "    r0 = (0.12 * (1.0 - math.exp(-50.0 * pd_final)) / (1.0 - math.exp(-50.0))) + \\\n",
    "        (0.24 * (1.0 - (1 - math.exp(-50.0 * pd_final)) / (1.0 - math.exp(-50.0)))) - \\\n",
    "        (0.04 * (1.0 - (size_final - 5.0) / 45.0))\n",
    "    if F_LARGE_FIN == 'Y':\n",
    "        r = r0 * 1.25\n",
    "    else:\n",
    "        r = r0\n",
    "    b = (0.11852 - 0.05478 * math.log(pd_final)) ** 2\n",
    "    ma = ((1 - 1.5 * b) ** -1) * (1 + (MATURITY - 2.5) * b)    \n",
    "    rw = ((LGD * norm.cdf((1 - r) ** -0.5 * norm.ppf(pd_final) + (r / (1 - r)) ** 0.5 * norm.ppf(0.999)) - pd_final * LGD) * ma) * 12.5 * 1.06\n",
    "    return rw  \n",
    "\n",
    "\n",
    "class RWInput(BaseModel):\n",
    "    Input_String: str = Field(description='This is a string that contains values for the input parameters \\\n",
    "                              PD, LGD, MATURITY, SIZE and F_LARGE_FIN which are fed into the formula in this particular order ')\n",
    "    \n",
    "RWTool = Tool.from_function(\n",
    "    func=rw_corp,\n",
    "    name=\"RWTool\",\n",
    "    description=\"\"\"\n",
    "    This is a custom tool that calculates the risk weight from a set of input parameters:\n",
    "        PD - Probability of Default,\n",
    "        LGD - Loss Given Default,\n",
    "        MATURITY - Remaining maturity of the loan in years,\n",
    "        SIZE - The size of the client in MEUR, usually this is the client's turnover \n",
    "        F_LARGE_FIN - If 'Y' the client is a Large Financial Institution,\n",
    "        \n",
    "        \"\"\",\n",
    "    args_schema=RWInput\n",
    ")"
   ]
  },
  {
   "cell_type": "code",
   "execution_count": 4,
   "id": "ea8a63f4-c8dd-4390-99f0-b08f70512490",
   "metadata": {
    "execution": {
     "iopub.execute_input": "2023-10-08T08:47:56.975537Z",
     "iopub.status.busy": "2023-10-08T08:47:56.975152Z",
     "iopub.status.idle": "2023-10-08T08:47:57.000899Z",
     "shell.execute_reply": "2023-10-08T08:47:57.000368Z",
     "shell.execute_reply.started": "2023-10-08T08:47:56.975510Z"
    },
    "tags": []
   },
   "outputs": [],
   "source": [
    "llm = ChatOpenAI(temperature=0, model=\"gpt-4\")\n",
    "# llm = ChatOpenAI(temperature=0, model=\"gpt-3.5-turbo-0613\")\n",
    "db = SQLDatabase.from_uri(\"sqlite:///./portfolio_data.db\",\n",
    "                          include_tables=['corporate_portfolio']\n",
    ")\n",
    "db_chain = SQLDatabaseChain.from_llm(llm, db, verbose=True)\n",
    "\n",
    "SQLTool = Tool(\n",
    "        name=\"db_query_tool\",\n",
    "        func=db_chain.run,\n",
    "        description=\"useful for quering a database\"\n",
    ")"
   ]
  },
  {
   "cell_type": "code",
   "execution_count": 5,
   "id": "70e545b3-54da-4cae-a0df-aa415fb9fc16",
   "metadata": {
    "execution": {
     "iopub.execute_input": "2023-10-08T08:47:59.177212Z",
     "iopub.status.busy": "2023-10-08T08:47:59.176832Z",
     "iopub.status.idle": "2023-10-08T08:47:59.184037Z",
     "shell.execute_reply": "2023-10-08T08:47:59.183296Z",
     "shell.execute_reply.started": "2023-10-08T08:47:59.177185Z"
    },
    "tags": []
   },
   "outputs": [],
   "source": [
    "tools = [SQLTool, RWTool]\n",
    "\n",
    "memory = ConversationBufferMemory(memory_key=\"chat_history\")\n",
    "\n",
    "agent = initialize_agent(\n",
    "    agent='conversational-react-description', \n",
    "    tools=tools, \n",
    "    llm=llm,\n",
    "    verbose=True,\n",
    "    max_iterations=3,\n",
    "    memory=memory,\n",
    "    handle_parsing_errors=True\n",
    ")\n",
    "\n",
    "\n",
    "# agent = initialize_agent(\n",
    "#     tools, \n",
    "#     llm, \n",
    "#     agent=AgentType.ZERO_SHOT_REACT_DESCRIPTION, \n",
    "#     verbose=True, \n",
    "#     handle_parsing_errors=True\n",
    "# )"
   ]
  },
  {
   "cell_type": "code",
   "execution_count": 27,
   "id": "794b3a67",
   "metadata": {
    "execution": {
     "iopub.execute_input": "2023-10-08T09:11:36.277251Z",
     "iopub.status.busy": "2023-10-08T09:11:36.276825Z",
     "iopub.status.idle": "2023-10-08T09:11:49.436394Z",
     "shell.execute_reply": "2023-10-08T09:11:49.435600Z",
     "shell.execute_reply.started": "2023-10-08T09:11:36.277223Z"
    },
    "tags": []
   },
   "outputs": [
    {
     "name": "stdout",
     "output_type": "stream",
     "text": [
      "\n",
      "\n",
      "\u001b[1m> Entering new AgentExecutor chain...\u001b[0m\n",
      "\u001b[32;1m\u001b[1;3mThought: Do I need to use a tool? Yes\n",
      "Action: db_query_tool\n",
      "Action Input: {\"query\": \"SELECT SUM(RWA), SUM(EAD) FROM corporate_portfolio WHERE reporting_date = '31-12-2022'\"}\u001b[0m\n",
      "\n",
      "\u001b[1m> Entering new SQLDatabaseChain chain...\u001b[0m\n",
      "{\"query\": \"SELECT SUM(RWA), SUM(EAD) FROM corporate_portfolio WHERE reporting_date = '31-12-2022'\"}\n",
      "SQLQuery:\u001b[32;1m\u001b[1;3mSELECT SUM(\"RWA\"), SUM(\"EAD\") FROM corporate_portfolio WHERE \"REPORTING_DATE\" = '2022-12-31'\u001b[0m\n",
      "SQLResult: \u001b[33;1m\u001b[1;3m[(85075812.12498187, 156657332.34921697)]\u001b[0m\n",
      "Answer:\u001b[32;1m\u001b[1;3mThe total RWA and EAD on 31-12-2022 are 85075812.12 and 156657332.35 respectively.\u001b[0m\n",
      "\u001b[1m> Finished chain.\u001b[0m\n",
      "\n",
      "Observation: \u001b[36;1m\u001b[1;3mThe total RWA and EAD on 31-12-2022 are 85075812.12 and 156657332.35 respectively.\u001b[0m\n",
      "Thought:\u001b[32;1m\u001b[1;3mDo I need to use a tool? No\n",
      "AI: The total Risk-Weighted Assets (RWA) for the reporting date 31-12-2022 is approximately 85,075,812.12 and the total Exposure At Default (EAD) is approximately 156,657,332.35.\u001b[0m\n",
      "\n",
      "\u001b[1m> Finished chain.\u001b[0m\n"
     ]
    }
   ],
   "source": [
    "# output = agent.run(\"What are total RWA and EAD in table corporate_portfolio?\")\n",
    "output = agent.run(\"What are total RWA and EAD for reporting date 31-12-2022?\")"
   ]
  },
  {
   "cell_type": "code",
   "execution_count": 28,
   "id": "b41450aa-e9c8-4f8a-b41a-00be39f867f3",
   "metadata": {
    "execution": {
     "iopub.execute_input": "2023-10-08T09:11:54.775742Z",
     "iopub.status.busy": "2023-10-08T09:11:54.775335Z",
     "iopub.status.idle": "2023-10-08T09:11:54.779700Z",
     "shell.execute_reply": "2023-10-08T09:11:54.778935Z",
     "shell.execute_reply.started": "2023-10-08T09:11:54.775717Z"
    }
   },
   "outputs": [
    {
     "name": "stdout",
     "output_type": "stream",
     "text": [
      "The total Risk-Weighted Assets (RWA) for the reporting date 31-12-2022 is approximately 85,075,812.12 and the total Exposure At Default (EAD) is approximately 156,657,332.35.\n"
     ]
    }
   ],
   "source": [
    "print(output)"
   ]
  },
  {
   "cell_type": "code",
   "execution_count": 7,
   "id": "3bb7c316-05d5-4e5b-9070-91f529447ed4",
   "metadata": {
    "execution": {
     "iopub.execute_input": "2023-10-08T08:48:21.306364Z",
     "iopub.status.busy": "2023-10-08T08:48:21.305977Z",
     "iopub.status.idle": "2023-10-08T08:49:02.413010Z",
     "shell.execute_reply": "2023-10-08T08:49:02.412173Z",
     "shell.execute_reply.started": "2023-10-08T08:48:21.306342Z"
    },
    "tags": []
   },
   "outputs": [
    {
     "name": "stdout",
     "output_type": "stream",
     "text": [
      "\n",
      "\n",
      "\u001b[1m> Entering new AgentExecutor chain...\u001b[0m\n",
      "\u001b[32;1m\u001b[1;3mThought: Do I need to use a tool? Yes\n",
      "Action: db_query_tool\n",
      "Action Input: {\"table\": \"corporate_portfolio\", \"query\": {\"loan_id\": \"1439964799kgeq68\", \"reporting_date\": \"31-12-2022\"}}\u001b[0m\n",
      "\n",
      "\u001b[1m> Entering new SQLDatabaseChain chain...\u001b[0m\n",
      "{\"table\": \"corporate_portfolio\", \"query\": {\"loan_id\": \"1439964799kgeq68\", \"reporting_date\": \"31-12-2022\"}}\n",
      "SQLQuery:\u001b[32;1m\u001b[1;3mSELECT \"LOAN_ID\", \"REPORTING_DATE\", \"PARTNER_ID\", \"PRODUCT\", \"STATUS\", \"EXPOSURE_DRAWN\", \"EXPOSURE_UNDRAWN\", \"EXPOSURE\", \"EAD\", \"EAD_COLL\", \"PD\", \"LGD\", \"SIZE\", \"MATURITY\", \"F_LARGE_FIN\", \"RW\", \"RWA\" FROM corporate_portfolio WHERE \"LOAN_ID\" = '1439964799kgeq68' AND \"REPORTING_DATE\" = '2022-12-31' LIMIT 5\u001b[0m\n",
      "SQLResult: \u001b[33;1m\u001b[1;3m[('1439964799kgeq68', '2022-12-31', 'dninx621xv9731', 'CREDIT_CARD', 'Performing', 5141.569897, 4578.250143, 9719.82004, 7061.256068, 0.0, 0.0156611, 0.7026, 2.345659392, 1.41369863, 'N', 1.196209223, 8446.739634)]\u001b[0m\n",
      "Answer:\u001b[32;1m\u001b[1;3mThe loan with ID '1439964799kgeq68' on the reporting date '31-12-2022' belongs to the partner with ID 'dninx621xv9731'. The product is a 'CREDIT_CARD' and its status is 'Performing'. The exposure drawn is 5141.569897, the undrawn exposure is 4578.250143, and the total exposure is 9719.82004. The EAD is 7061.256068 and the EAD_COLL is 0.0. The PD is 0.0156611 and the LGD is 0.7026. The size is 2.345659392 and the maturity is 1.41369863. The F_LARGE_FIN is 'N', the RW is 1.196209223, and the RWA is 8446.739634.\u001b[0m\n",
      "\u001b[1m> Finished chain.\u001b[0m\n",
      "\n",
      "Observation: \u001b[36;1m\u001b[1;3mThe loan with ID '1439964799kgeq68' on the reporting date '31-12-2022' belongs to the partner with ID 'dninx621xv9731'. The product is a 'CREDIT_CARD' and its status is 'Performing'. The exposure drawn is 5141.569897, the undrawn exposure is 4578.250143, and the total exposure is 9719.82004. The EAD is 7061.256068 and the EAD_COLL is 0.0. The PD is 0.0156611 and the LGD is 0.7026. The size is 2.345659392 and the maturity is 1.41369863. The F_LARGE_FIN is 'N', the RW is 1.196209223, and the RWA is 8446.739634.\u001b[0m\n",
      "Thought:\u001b[32;1m\u001b[1;3mDo I need to use a tool? No\n",
      "AI: The loan with ID '1439964799kgeq68' on the reporting date '31-12-2022' belongs to the partner with ID 'dninx621xv9731'. The product is a 'CREDIT_CARD' and its status is 'Performing'. The exposure drawn is 5141.57, the undrawn exposure is 4578.25, and the total exposure is 9719.82. The Exposure At Default (EAD) is 7061.26 and the EAD_COLL is 0.0. The Probability of Default (PD) is 0.0156611 and the Loss Given Default (LGD) is 0.7026. The size is 2.35 and the maturity is 1.41 years. The F_LARGE_FIN is 'N', the Risk Weight (RW) is 1.196209223, and the Risk-Weighted Assets (RWA) is 8446.74.\u001b[0m\n",
      "\n",
      "\u001b[1m> Finished chain.\u001b[0m\n"
     ]
    }
   ],
   "source": [
    "output = agent.run(\"Read the information in table corporate_portfolio for loan id 1439964799kgeq68 and for reporting date 31-12-2022\")"
   ]
  },
  {
   "cell_type": "code",
   "execution_count": 8,
   "id": "824be0ea-380f-43d0-8ec4-21cdae090c55",
   "metadata": {
    "execution": {
     "iopub.execute_input": "2023-10-08T08:49:11.422040Z",
     "iopub.status.busy": "2023-10-08T08:49:11.421641Z",
     "iopub.status.idle": "2023-10-08T08:49:19.184845Z",
     "shell.execute_reply": "2023-10-08T08:49:19.184072Z",
     "shell.execute_reply.started": "2023-10-08T08:49:11.422015Z"
    },
    "tags": []
   },
   "outputs": [
    {
     "name": "stdout",
     "output_type": "stream",
     "text": [
      "\n",
      "\n",
      "\u001b[1m> Entering new AgentExecutor chain...\u001b[0m\n",
      "\u001b[32;1m\u001b[1;3mThought: Do I need to use a tool? Yes\n",
      "Action: RWTool\n",
      "Action Input: {\"PD\": 0.0313222, \"LGD\": 0.7026, \"MATURITY\": 1.41, \"SIZE\": 2.35, \"F_LARGE_FIN\": \"N\"}\u001b[0m\n",
      "Observation: \u001b[33;1m\u001b[1;3m1.4629293690925356\u001b[0m\n",
      "Thought:\u001b[32;1m\u001b[1;3mDo I need to use a tool? No\n",
      "AI: If the Probability of Default (PD) doubles, the new Risk Weight (RW) would be approximately 1.463.\u001b[0m\n",
      "\n",
      "\u001b[1m> Finished chain.\u001b[0m\n"
     ]
    }
   ],
   "source": [
    "output = agent.run(\"What will be the RW if PD doubles\")"
   ]
  },
  {
   "cell_type": "code",
   "execution_count": 20,
   "id": "8b4db047-7397-4b84-b6fc-27e3ef05c4ba",
   "metadata": {
    "execution": {
     "iopub.execute_input": "2023-10-08T09:09:44.239187Z",
     "iopub.status.busy": "2023-10-08T09:09:44.238778Z",
     "iopub.status.idle": "2023-10-08T09:09:44.243351Z",
     "shell.execute_reply": "2023-10-08T09:09:44.242571Z",
     "shell.execute_reply.started": "2023-10-08T09:09:44.239161Z"
    },
    "tags": []
   },
   "outputs": [
    {
     "name": "stdout",
     "output_type": "stream",
     "text": [
      "If the Probability of Default (PD) doubles, the new Risk Weight (RW) would be approximately 1.463.\n"
     ]
    }
   ],
   "source": [
    "print(output)"
   ]
  },
  {
   "cell_type": "code",
   "execution_count": 21,
   "id": "c0a3a491-6bfc-4fc6-9c47-833f877a31ed",
   "metadata": {
    "execution": {
     "iopub.execute_input": "2023-10-08T09:10:16.191917Z",
     "iopub.status.busy": "2023-10-08T09:10:16.191524Z",
     "iopub.status.idle": "2023-10-08T09:10:24.188675Z",
     "shell.execute_reply": "2023-10-08T09:10:24.187883Z",
     "shell.execute_reply.started": "2023-10-08T09:10:16.191892Z"
    },
    "tags": []
   },
   "outputs": [
    {
     "name": "stdout",
     "output_type": "stream",
     "text": [
      "\n",
      "\n",
      "\u001b[1m> Entering new AgentExecutor chain...\u001b[0m\n",
      "\u001b[32;1m\u001b[1;3mThought: Do I need to use a tool? Yes\n",
      "Action: RWTool\n",
      "Action Input: {\"PD\": 0.0156611, \"LGD\": 0.7026*2, \"MATURITY\": 1.41, \"SIZE\": 2.35, \"F_LARGE_FIN\": \"N\"}\u001b[0m\n",
      "Observation: \u001b[33;1m\u001b[1;3m2.3911990032552444\u001b[0m\n",
      "Thought:\u001b[32;1m\u001b[1;3mDo I need to use a tool? No\n",
      "AI: If the Loss Given Default (LGD) doubles, the new Risk Weight (RW) would be approximately 2.391.\u001b[0m\n",
      "\n",
      "\u001b[1m> Finished chain.\u001b[0m\n"
     ]
    }
   ],
   "source": [
    "output = agent.run(\"What about if LGD doubles\")"
   ]
  },
  {
   "cell_type": "code",
   "execution_count": 22,
   "id": "0250d416-8062-4ae8-a378-05eecbc80093",
   "metadata": {
    "execution": {
     "iopub.execute_input": "2023-10-08T09:10:31.664273Z",
     "iopub.status.busy": "2023-10-08T09:10:31.663854Z",
     "iopub.status.idle": "2023-10-08T09:10:31.668585Z",
     "shell.execute_reply": "2023-10-08T09:10:31.667788Z",
     "shell.execute_reply.started": "2023-10-08T09:10:31.664244Z"
    }
   },
   "outputs": [
    {
     "name": "stdout",
     "output_type": "stream",
     "text": [
      "If the Loss Given Default (LGD) doubles, the new Risk Weight (RW) would be approximately 2.391.\n"
     ]
    }
   ],
   "source": [
    "print(output)"
   ]
  },
  {
   "cell_type": "code",
   "execution_count": 23,
   "id": "0c86645f-98e8-4f43-bff7-c3d1339b421d",
   "metadata": {
    "execution": {
     "iopub.execute_input": "2023-10-08T09:10:36.141336Z",
     "iopub.status.busy": "2023-10-08T09:10:36.140828Z",
     "iopub.status.idle": "2023-10-08T09:10:44.372571Z",
     "shell.execute_reply": "2023-10-08T09:10:44.371653Z",
     "shell.execute_reply.started": "2023-10-08T09:10:36.141301Z"
    },
    "tags": []
   },
   "outputs": [
    {
     "name": "stdout",
     "output_type": "stream",
     "text": [
      "\n",
      "\n",
      "\u001b[1m> Entering new AgentExecutor chain...\u001b[0m\n",
      "\u001b[32;1m\u001b[1;3mThought: Do I need to use a tool? Yes\n",
      "Action: RWTool\n",
      "Action Input: {\"PD\": 0.0156611, \"LGD\": 0.7026, \"MATURITY\": 6.23, \"SIZE\": 2.35, \"F_LARGE_FIN\": \"N\"}\u001b[0m\n",
      "Observation: \u001b[33;1m\u001b[1;3m1.9901793310985323\u001b[0m\n",
      "Thought:\u001b[32;1m\u001b[1;3mDo I need to use a tool? No\n",
      "AI: If the maturity becomes 6.23, the new Risk Weight (RW) would be approximately 1.990.\u001b[0m\n",
      "\n",
      "\u001b[1m> Finished chain.\u001b[0m\n"
     ]
    }
   ],
   "source": [
    "output = agent.run(\"And if MATURITY becomes 6.23\")"
   ]
  },
  {
   "cell_type": "code",
   "execution_count": 24,
   "id": "1c2112ec-efb8-4a82-805d-55b9c23526e1",
   "metadata": {
    "execution": {
     "iopub.execute_input": "2023-10-08T09:10:54.130120Z",
     "iopub.status.busy": "2023-10-08T09:10:54.129714Z",
     "iopub.status.idle": "2023-10-08T09:10:54.134149Z",
     "shell.execute_reply": "2023-10-08T09:10:54.133326Z",
     "shell.execute_reply.started": "2023-10-08T09:10:54.130093Z"
    }
   },
   "outputs": [
    {
     "name": "stdout",
     "output_type": "stream",
     "text": [
      "If the maturity becomes 6.23, the new Risk Weight (RW) would be approximately 1.990.\n"
     ]
    }
   ],
   "source": [
    "print(output)"
   ]
  },
  {
   "cell_type": "code",
   "execution_count": 25,
   "id": "be4b1763-a8ec-48e9-a64a-19375f894e21",
   "metadata": {
    "execution": {
     "iopub.execute_input": "2023-10-08T09:10:58.377623Z",
     "iopub.status.busy": "2023-10-08T09:10:58.377246Z",
     "iopub.status.idle": "2023-10-08T09:11:05.830262Z",
     "shell.execute_reply": "2023-10-08T09:11:05.829541Z",
     "shell.execute_reply.started": "2023-10-08T09:10:58.377596Z"
    }
   },
   "outputs": [
    {
     "name": "stdout",
     "output_type": "stream",
     "text": [
      "\n",
      "\n",
      "\u001b[1m> Entering new AgentExecutor chain...\u001b[0m\n",
      "\u001b[32;1m\u001b[1;3mThought: Do I need to use a tool? Yes\n",
      "Action: RWTool\n",
      "Action Input: {\"PD\": 0.0313222, \"LGD\": 1.4052, \"MATURITY\": 6.23, \"SIZE\": 2.35, \"F_LARGE_FIN\": \"N\"}\u001b[0m\n",
      "Observation: \u001b[33;1m\u001b[1;3m4.420645788063997\u001b[0m\n",
      "Thought:\u001b[32;1m\u001b[1;3mDo I need to use a tool? No\n",
      "AI: If all three parameters change like that, the new Risk Weight (RW) would be approximately 4.421.\u001b[0m\n",
      "\n",
      "\u001b[1m> Finished chain.\u001b[0m\n"
     ]
    }
   ],
   "source": [
    "output = agent.run(\"What if all three parameters change like that?\")"
   ]
  },
  {
   "cell_type": "code",
   "execution_count": 26,
   "id": "1369b709-1817-434b-aecd-f7b964a0873a",
   "metadata": {
    "execution": {
     "iopub.execute_input": "2023-10-08T09:11:12.401937Z",
     "iopub.status.busy": "2023-10-08T09:11:12.401536Z",
     "iopub.status.idle": "2023-10-08T09:11:12.405730Z",
     "shell.execute_reply": "2023-10-08T09:11:12.405014Z",
     "shell.execute_reply.started": "2023-10-08T09:11:12.401910Z"
    }
   },
   "outputs": [
    {
     "name": "stdout",
     "output_type": "stream",
     "text": [
      "If all three parameters change like that, the new Risk Weight (RW) would be approximately 4.421.\n"
     ]
    }
   ],
   "source": [
    "print(output)"
   ]
  },
  {
   "cell_type": "code",
   "execution_count": null,
   "id": "c220ec3d-1b86-4188-b68c-024843e0c15a",
   "metadata": {
    "tags": []
   },
   "outputs": [],
   "source": [
    "output = agent.run(\"Start over again and read the all information in table corporate_portfolio for loan id 1439964799kgeq68 but for reporting date 2023-03-31\")"
   ]
  },
  {
   "cell_type": "code",
   "execution_count": null,
   "id": "e7a0df71-c8b0-4dd0-a87a-cf1c86188305",
   "metadata": {},
   "outputs": [],
   "source": [
    "output = agent.run(\"What is the change in PD for loan id 1439964799kgeq68 between reporting date 2022-12-31 and 2023-03-31\")"
   ]
  },
  {
   "cell_type": "code",
   "execution_count": null,
   "id": "b1b5387f-707e-40e5-85ee-9e3fc196adf2",
   "metadata": {},
   "outputs": [],
   "source": [
    "output = agent.run(\"What is the other info for loan id 1439964799kgeq68 on reporting date 2023-03-31\")"
   ]
  },
  {
   "cell_type": "code",
   "execution_count": null,
   "id": "71f608a6-3e76-4360-98a8-74aa1c9cdb11",
   "metadata": {},
   "outputs": [],
   "source": []
  },
  {
   "cell_type": "code",
   "execution_count": null,
   "id": "51ed4714-ec0e-4419-a646-60959f421103",
   "metadata": {
    "tags": []
   },
   "outputs": [],
   "source": [
    "output = agent.run(\"Read the information for ACCOUNT_NUMBER = '1851285872eypk20' in rwa_data table and then calculate the RW if LGD doubles and PD becomes 0.2\")"
   ]
  },
  {
   "cell_type": "code",
   "execution_count": null,
   "id": "2225fd64-186b-4e72-a502-e003d2482935",
   "metadata": {},
   "outputs": [],
   "source": [
    "output = agent.run(\"Read the information for ACCOUNT_NUMBER = '1851285872eypk20' in rwa_data table\")"
   ]
  },
  {
   "cell_type": "code",
   "execution_count": null,
   "id": "30f7d611-5ae3-43e4-9e11-c0c067c368ac",
   "metadata": {},
   "outputs": [],
   "source": [
    "output = agent.run(\"What will be the RW if MATURITY is 5?\")"
   ]
  },
  {
   "cell_type": "code",
   "execution_count": null,
   "id": "aa701dac-320b-413c-9c90-a92201d37caa",
   "metadata": {
    "tags": []
   },
   "outputs": [],
   "source": [
    "output = agent.run(\"What is the RW for LOAN_ID dninx621xv9731 for reporting date 31-12-2022?\")"
   ]
  },
  {
   "cell_type": "code",
   "execution_count": null,
   "id": "0495e89c-6bd9-4c89-8642-881a571af918",
   "metadata": {
    "tags": []
   },
   "outputs": [],
   "source": [
    "output = agent.run(\"Read the info for LOAN_ID dninx621xv9731 for reporting date 31-12-2022\")"
   ]
  },
  {
   "cell_type": "code",
   "execution_count": null,
   "id": "518feb99-d13b-478b-acbc-82d96d60a5ac",
   "metadata": {},
   "outputs": [],
   "source": [
    "output = agent.run(\"What will be the RW if PD doubles?\")"
   ]
  },
  {
   "cell_type": "code",
   "execution_count": null,
   "id": "b8b3b786-c7b1-4cd8-a761-a0e581bd669f",
   "metadata": {
    "tags": []
   },
   "outputs": [],
   "source": [
    "output = agent.run(\"What is the difference between the sum of RWA for reporting date 2022-12-31 and the sum of RWA for reporting date 2023-03-31?\")"
   ]
  },
  {
   "cell_type": "code",
   "execution_count": null,
   "id": "f4755313-9f65-4106-85fa-f68bdc8dfdb2",
   "metadata": {},
   "outputs": [],
   "source": []
  }
 ],
 "metadata": {
  "kernelspec": {
   "display_name": "saturn (Python 3)",
   "language": "python",
   "name": "python3"
  },
  "language_info": {
   "codemirror_mode": {
    "name": "ipython",
    "version": 3
   },
   "file_extension": ".py",
   "mimetype": "text/x-python",
   "name": "python",
   "nbconvert_exporter": "python",
   "pygments_lexer": "ipython3",
   "version": "3.9.15"
  }
 },
 "nbformat": 4,
 "nbformat_minor": 5
}
