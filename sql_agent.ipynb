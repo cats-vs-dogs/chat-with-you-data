{
 "cells": [
  {
   "cell_type": "code",
   "execution_count": 1,
   "id": "e555460c-4010-40d3-a235-1dcc79412745",
   "metadata": {
    "execution": {
     "iopub.execute_input": "2023-10-20T15:13:39.289179Z",
     "iopub.status.busy": "2023-10-20T15:13:39.288791Z",
     "iopub.status.idle": "2023-10-20T15:13:40.663217Z",
     "shell.execute_reply": "2023-10-20T15:13:40.662519Z",
     "shell.execute_reply.started": "2023-10-20T15:13:39.289150Z"
    },
    "tags": []
   },
   "outputs": [],
   "source": [
    "from langchain.llms import OpenAI\n",
    "from langchain.chat_models import ChatOpenAI\n",
    "from langchain import SQLDatabase\n",
    "from langchain_experimental.sql import SQLDatabaseChain\n",
    "from langchain.chains import create_sql_query_chain\n",
    "\n",
    "from langchain.prompts import PromptTemplate\n",
    "\n",
    "# from langchain.agents import create_sql_agent\n",
    "# from langchain.agents.agent_toolkits import SQLDatabaseToolkit\n",
    "# from langchain.agents import AgentExecutor\n",
    "from langchain.agents.agent_types import AgentType\n",
    "from langchain.memory import ConversationBufferMemory\n",
    "\n",
    "from langchain.agents import load_tools"
   ]
  },
  {
   "cell_type": "code",
   "execution_count": 2,
   "id": "9ec5cdcc-d056-4519-b603-bf12c3100363",
   "metadata": {
    "execution": {
     "iopub.execute_input": "2023-10-20T15:13:42.194569Z",
     "iopub.status.busy": "2023-10-20T15:13:42.194097Z",
     "iopub.status.idle": "2023-10-20T15:13:42.202041Z",
     "shell.execute_reply": "2023-10-20T15:13:42.201492Z",
     "shell.execute_reply.started": "2023-10-20T15:13:42.194543Z"
    },
    "tags": []
   },
   "outputs": [],
   "source": [
    "import os\n",
    "from dotenv import load_dotenv\n",
    "load_dotenv()\n",
    "OPENAI_API_KEY = os.getenv('OPENAI_API_KEY')"
   ]
  },
  {
   "cell_type": "code",
   "execution_count": 3,
   "id": "ed315fb8-25b5-42bd-969c-77c475d3d1f4",
   "metadata": {
    "execution": {
     "iopub.execute_input": "2023-10-20T15:13:42.480424Z",
     "iopub.status.busy": "2023-10-20T15:13:42.479905Z",
     "iopub.status.idle": "2023-10-20T15:13:42.491005Z",
     "shell.execute_reply": "2023-10-20T15:13:42.490466Z",
     "shell.execute_reply.started": "2023-10-20T15:13:42.480405Z"
    },
    "tags": []
   },
   "outputs": [],
   "source": [
    "# llm = OpenAI(temperature=0, verbose=True)\n",
    "llm = ChatOpenAI(model_name='gpt-4',temperature=0)"
   ]
  },
  {
   "cell_type": "code",
   "execution_count": 4,
   "id": "2d5e045a-3751-4831-8ad7-aa611c8b44e5",
   "metadata": {
    "execution": {
     "iopub.execute_input": "2023-10-20T15:13:43.560737Z",
     "iopub.status.busy": "2023-10-20T15:13:43.560363Z",
     "iopub.status.idle": "2023-10-20T15:13:43.567946Z",
     "shell.execute_reply": "2023-10-20T15:13:43.567392Z",
     "shell.execute_reply.started": "2023-10-20T15:13:43.560716Z"
    },
    "tags": []
   },
   "outputs": [],
   "source": [
    "tools = load_tools(\n",
    "    ['llm-math'],\n",
    "    llm=llm\n",
    ")"
   ]
  },
  {
   "cell_type": "code",
   "execution_count": 5,
   "id": "af5610c4-5467-4844-87bb-71e39788d757",
   "metadata": {
    "execution": {
     "iopub.execute_input": "2023-10-20T15:13:44.719056Z",
     "iopub.status.busy": "2023-10-20T15:13:44.718695Z",
     "iopub.status.idle": "2023-10-20T15:13:44.946132Z",
     "shell.execute_reply": "2023-10-20T15:13:44.945512Z",
     "shell.execute_reply.started": "2023-10-20T15:13:44.719034Z"
    },
    "tags": []
   },
   "outputs": [],
   "source": [
    "from langchain.tools import Tool, BaseTool\n",
    "from pydantic.v1 import BaseModel, Field\n",
    "import math\n",
    "from scipy.stats import norm\n",
    "\n",
    "def rw_corp(Input_String: str) -> str:\n",
    "\n",
    "    \"\"\" \n",
    "    calculates the risk weight from input parameters \n",
    "    PD, LGD, MATURITY, F_LARGE_FIN and SIZE which are fed into the formula in this particular order \n",
    "    \"\"\"\n",
    "    \n",
    "    PD_s, LGD_s, MATURITY_s, SIZE_s, F_LARGE_FIN_s = Input_String.split(\",\")\n",
    "\n",
    "    PD = float(eval(PD_s.split(\":\")[1].strip()))\n",
    "    LGD = float(eval(LGD_s.split(\":\")[1].strip()))\n",
    "    MATURITY = float(eval(MATURITY_s.split(\":\")[1].strip()))\n",
    "    SIZE = float(eval(SIZE_s.split(\":\")[1].strip()))\n",
    "    F_LARGE_FIN = (F_LARGE_FIN_s.split(\":\")[1].strip())\n",
    "       \n",
    "    pd_final = max(0.0003, PD)\n",
    "    size_final = max(5, min(SIZE, 50))    \n",
    "    r0 = (0.12 * (1.0 - math.exp(-50.0 * pd_final)) / (1.0 - math.exp(-50.0))) + \\\n",
    "        (0.24 * (1.0 - (1 - math.exp(-50.0 * pd_final)) / (1.0 - math.exp(-50.0)))) - \\\n",
    "        (0.04 * (1.0 - (size_final - 5.0) / 45.0))\n",
    "    if F_LARGE_FIN == 'Y':\n",
    "        r = r0 * 1.25\n",
    "    else:\n",
    "        r = r0\n",
    "    b = (0.11852 - 0.05478 * math.log(pd_final)) ** 2\n",
    "    ma = ((1 - 1.5 * b) ** -1) * (1 + (MATURITY - 2.5) * b)    \n",
    "    rw = ((LGD * norm.cdf((1 - r) ** -0.5 * norm.ppf(pd_final) + (r / (1 - r)) ** 0.5 * norm.ppf(0.999)) - pd_final * LGD) * ma) * 12.5 * 1.06\n",
    "    return rw  \n",
    "\n",
    "\n",
    "class RWInput(BaseModel):\n",
    "    Input_String: str = Field(description='This is a string that contains values for the input parameters \\\n",
    "                              PD, LGD, MATURITY, SIZE and F_LARGE_FIN which are fed into the formula in this particular order ')\n",
    "    \n",
    "RWTool = Tool.from_function(\n",
    "    func=rw_corp,\n",
    "    name=\"RWTool\",\n",
    "    description=\"\"\"\n",
    "    This is a custom tool that calculates the risk weight from a set of input parameters:\n",
    "        PD - Probability of Default,\n",
    "        LGD - Loss Given Default,\n",
    "        MATURITY - Remaining maturity of the loan in years,\n",
    "        SIZE - The size of the client in MEUR, usually this is the client's turnover, \n",
    "        F_LARGE_FIN - If 'Y' the client is a Large Financial Institution        \n",
    "        \"\"\",\n",
    "    args_schema=RWInput\n",
    ")"
   ]
  },
  {
   "cell_type": "code",
   "execution_count": 6,
   "id": "a77e56ef-05a8-43eb-8c3f-df28f3096a91",
   "metadata": {
    "execution": {
     "iopub.execute_input": "2023-10-20T15:13:45.963106Z",
     "iopub.status.busy": "2023-10-20T15:13:45.962700Z",
     "iopub.status.idle": "2023-10-20T15:13:45.966280Z",
     "shell.execute_reply": "2023-10-20T15:13:45.965691Z",
     "shell.execute_reply.started": "2023-10-20T15:13:45.963082Z"
    },
    "tags": []
   },
   "outputs": [],
   "source": [
    "tools.append(RWTool)"
   ]
  },
  {
   "cell_type": "code",
   "execution_count": 7,
   "id": "156b940c-f5a9-426e-aa3e-f0dc546468e2",
   "metadata": {
    "execution": {
     "iopub.execute_input": "2023-10-19T20:33:02.235158Z",
     "iopub.status.busy": "2023-10-19T20:33:02.234785Z",
     "iopub.status.idle": "2023-10-19T20:33:02.246730Z",
     "shell.execute_reply": "2023-10-19T20:33:02.246126Z",
     "shell.execute_reply.started": "2023-10-19T20:33:02.235134Z"
    },
    "tags": []
   },
   "outputs": [],
   "source": [
    "\"\"\"SQL agent.\"\"\"\n",
    "from typing import Any, Dict, List, Optional, Sequence\n",
    "\n",
    "from langchain.agents.agent import AgentExecutor, BaseSingleActionAgent\n",
    "from langchain.agents.agent_toolkits.sql.prompt import (\n",
    "    SQL_FUNCTIONS_SUFFIX,\n",
    "    SQL_PREFIX,\n",
    "    SQL_SUFFIX,\n",
    ")\n",
    "from langchain.agents.agent_toolkits.sql.toolkit import SQLDatabaseToolkit\n",
    "from langchain.agents.agent_types import AgentType\n",
    "from langchain.agents.mrkl.base import ZeroShotAgent\n",
    "from langchain.agents.mrkl.prompt import FORMAT_INSTRUCTIONS\n",
    "from langchain.agents.openai_functions_agent.base import OpenAIFunctionsAgent\n",
    "from langchain.callbacks.base import BaseCallbackManager\n",
    "from langchain.chains.llm import LLMChain\n",
    "from langchain.prompts.chat import (\n",
    "    ChatPromptTemplate,\n",
    "    HumanMessagePromptTemplate,\n",
    "    MessagesPlaceholder,\n",
    ")\n",
    "from langchain.schema.language_model import BaseLanguageModel\n",
    "from langchain.schema.messages import AIMessage, SystemMessage\n",
    "from langchain.tools import BaseTool\n",
    "\n",
    "def create_sql_agent(\n",
    "    llm: BaseLanguageModel,\n",
    "    toolkit: SQLDatabaseToolkit,\n",
    "    agent_type: AgentType = AgentType.ZERO_SHOT_REACT_DESCRIPTION,\n",
    "    callback_manager: Optional[BaseCallbackManager] = None,\n",
    "    prefix: str = SQL_PREFIX,\n",
    "    suffix: Optional[str] = None,\n",
    "    format_instructions: str = FORMAT_INSTRUCTIONS,\n",
    "    input_variables: Optional[List[str]] = None,\n",
    "    top_k: int = 10,\n",
    "    max_iterations: Optional[int] = 15,\n",
    "    max_execution_time: Optional[float] = None,\n",
    "    early_stopping_method: str = \"force\",\n",
    "    verbose: bool = False,\n",
    "    agent_executor_kwargs: Optional[Dict[str, Any]] = None,\n",
    "    extra_tools: Sequence[BaseTool] = (),\n",
    "    memory: Optional[ConversationBufferMemory] = None,\n",
    "    **kwargs: Any,\n",
    ") -> AgentExecutor:\n",
    "    \"\"\"Construct an SQL agent from an LLM and tools.\"\"\"\n",
    "    tools = toolkit.get_tools() + list(extra_tools)\n",
    "    prefix = prefix.format(dialect=toolkit.dialect, top_k=top_k)\n",
    "    agent: BaseSingleActionAgent\n",
    "\n",
    "    if agent_type == AgentType.ZERO_SHOT_REACT_DESCRIPTION:\n",
    "        prompt = ZeroShotAgent.create_prompt(\n",
    "            tools,\n",
    "            prefix=prefix,\n",
    "            suffix=suffix or SQL_SUFFIX,\n",
    "            format_instructions=format_instructions,\n",
    "            input_variables=input_variables,\n",
    "        )\n",
    "        llm_chain = LLMChain(\n",
    "            llm=llm,\n",
    "            prompt=prompt,\n",
    "            callback_manager=callback_manager,\n",
    "        )\n",
    "        tool_names = [tool.name for tool in tools]\n",
    "        agent = ZeroShotAgent(llm_chain=llm_chain, allowed_tools=tool_names, **kwargs)\n",
    "\n",
    "    elif agent_type == AgentType.OPENAI_FUNCTIONS:\n",
    "        messages = [\n",
    "            SystemMessage(content=prefix),\n",
    "            HumanMessagePromptTemplate.from_template(\"{input}\"),\n",
    "            AIMessage(content=suffix or SQL_FUNCTIONS_SUFFIX),\n",
    "            MessagesPlaceholder(variable_name=\"agent_scratchpad\"),\n",
    "        ]\n",
    "        input_variables = [\"input\", \"agent_scratchpad\"]\n",
    "        # input_variables = ['input', 'history', 'agent_scratchpad']\n",
    "        _prompt = ChatPromptTemplate(input_variables=input_variables, messages=messages)\n",
    "\n",
    "        agent = OpenAIFunctionsAgent(\n",
    "            llm=llm,\n",
    "            prompt=_prompt,\n",
    "            tools=tools,\n",
    "            callback_manager=callback_manager,\n",
    "            **kwargs,\n",
    "        )\n",
    "    else:\n",
    "        raise ValueError(f\"Agent type {agent_type} not supported at the moment.\")\n",
    "\n",
    "    return AgentExecutor.from_agent_and_tools(\n",
    "        agent=agent,\n",
    "        tools=tools,\n",
    "        callback_manager=callback_manager,\n",
    "        verbose=verbose,\n",
    "        max_iterations=max_iterations,\n",
    "        max_execution_time=max_execution_time,\n",
    "        early_stopping_method=early_stopping_method,\n",
    "        memory=memory,\n",
    "        **(agent_executor_kwargs or {}),\n",
    "    )"
   ]
  },
  {
   "cell_type": "code",
   "execution_count": 7,
   "id": "f091f2a0-a1f0-40c1-bd8c-ace3ce6d2807",
   "metadata": {
    "execution": {
     "iopub.execute_input": "2023-10-20T15:13:50.851015Z",
     "iopub.status.busy": "2023-10-20T15:13:50.850609Z",
     "iopub.status.idle": "2023-10-20T15:13:50.943082Z",
     "shell.execute_reply": "2023-10-20T15:13:50.942493Z",
     "shell.execute_reply.started": "2023-10-20T15:13:50.850990Z"
    },
    "tags": []
   },
   "outputs": [],
   "source": [
    "db = SQLDatabase.from_uri(\"sqlite:///./portfolio_data.db\",\n",
    "                         include_tables=['corporate_portfolio'],\n",
    "                         sample_rows_in_table_info=2\n",
    ")"
   ]
  },
  {
   "cell_type": "code",
   "execution_count": 8,
   "id": "82dc629a-15e5-4ab6-bb46-dbff10a0d6e6",
   "metadata": {
    "execution": {
     "iopub.execute_input": "2023-10-20T15:13:51.095965Z",
     "iopub.status.busy": "2023-10-20T15:13:51.095636Z",
     "iopub.status.idle": "2023-10-20T15:13:51.390586Z",
     "shell.execute_reply": "2023-10-20T15:13:51.389778Z",
     "shell.execute_reply.started": "2023-10-20T15:13:51.095944Z"
    },
    "tags": []
   },
   "outputs": [
    {
     "ename": "NameError",
     "evalue": "name 'SQLDatabaseToolkit' is not defined",
     "output_type": "error",
     "traceback": [
      "\u001b[0;31m---------------------------------------------------------------------------\u001b[0m",
      "\u001b[0;31mNameError\u001b[0m                                 Traceback (most recent call last)",
      "Cell \u001b[0;32mIn[8], line 1\u001b[0m\n\u001b[0;32m----> 1\u001b[0m toolkit \u001b[38;5;241m=\u001b[39m \u001b[43mSQLDatabaseToolkit\u001b[49m(db\u001b[38;5;241m=\u001b[39mdb, llm\u001b[38;5;241m=\u001b[39mllm)\n\u001b[1;32m      2\u001b[0m memory \u001b[38;5;241m=\u001b[39m ConversationBufferMemory(memory_key\u001b[38;5;241m=\u001b[39m\u001b[38;5;124m\"\u001b[39m\u001b[38;5;124mchat_history\u001b[39m\u001b[38;5;124m\"\u001b[39m)\n\u001b[1;32m      4\u001b[0m agent \u001b[38;5;241m=\u001b[39m create_sql_agent(\n\u001b[1;32m      5\u001b[0m     llm\u001b[38;5;241m=\u001b[39mllm,\n\u001b[1;32m      6\u001b[0m     toolkit\u001b[38;5;241m=\u001b[39mtoolkit,\n\u001b[0;32m   (...)\u001b[0m\n\u001b[1;32m     10\u001b[0m   \n\u001b[1;32m     11\u001b[0m )\n",
      "\u001b[0;31mNameError\u001b[0m: name 'SQLDatabaseToolkit' is not defined"
     ]
    }
   ],
   "source": [
    "toolkit = SQLDatabaseToolkit(db=db, llm=llm)\n",
    "memory = ConversationBufferMemory(memory_key=\"chat_history\")\n",
    "\n",
    "agent = create_sql_agent(\n",
    "    llm=llm,\n",
    "    toolkit=toolkit,\n",
    "    verbose=True,\n",
    "    agent_type=AgentType.ZERO_SHOT_REACT_DESCRIPTION,\n",
    "    extra_tools=tools,\n",
    "  \n",
    ")\n",
    "\n",
    "# memory = ConversationBufferMemory(memory_key=\"chat_history\")\n",
    "# agent = create_sql_agent(\n",
    "#     llm=llm,\n",
    "#     toolkit=toolkit,\n",
    "#     verbose=True,\n",
    "#     agent=AgentType.CHAT_CONVERSATIONAL_REACT_DESCRIPTION,\n",
    "#     # agent='conversational-react-description', \n",
    "#     max_iterations=3,\n",
    "#     memory=memory,\n",
    "#     handle_parsing_errors=True,\n",
    "#     extra_tools=tools  \n",
    "# )"
   ]
  },
  {
   "cell_type": "code",
   "execution_count": null,
   "id": "60f48398-b7e8-433e-948d-6b613d87e578",
   "metadata": {
    "tags": []
   },
   "outputs": [],
   "source": [
    "# t = toolkit.get_tools()"
   ]
  },
  {
   "cell_type": "code",
   "execution_count": null,
   "id": "fca4acc9-52f1-4515-ab7d-05fdda6fcf82",
   "metadata": {
    "tags": []
   },
   "outputs": [],
   "source": [
    "# t[3]"
   ]
  },
  {
   "cell_type": "code",
   "execution_count": null,
   "id": "098d1a94-9b67-45f7-9bd6-ef40ce9c1547",
   "metadata": {
    "tags": []
   },
   "outputs": [],
   "source": [
    "# print(agent.agent.llm_chain.prompt.template)"
   ]
  },
  {
   "cell_type": "code",
   "execution_count": 10,
   "id": "741d0769-aa5b-4281-8222-5c5da5705bf1",
   "metadata": {
    "execution": {
     "iopub.execute_input": "2023-10-19T20:33:06.529041Z",
     "iopub.status.busy": "2023-10-19T20:33:06.528669Z",
     "iopub.status.idle": "2023-10-19T20:33:06.533466Z",
     "shell.execute_reply": "2023-10-19T20:33:06.532903Z",
     "shell.execute_reply.started": "2023-10-19T20:33:06.529016Z"
    },
    "tags": []
   },
   "outputs": [],
   "source": [
    "my_prompt = \"\"\"\n",
    "\n",
    "You are an agent designed to interact with a SQL database.\n",
    "Given an input question, create a syntactically correct sqlite query to run, then look at the results of the query and return the answer.\n",
    "Unless the user specifies a specific number of examples they wish to obtain, always limit your query to at most 10 results.\n",
    "You can order the results by a relevant column to return the most interesting examples in the database.\n",
    "Never query for all the columns from a specific table, only ask for the relevant columns given the question.\n",
    "You have access to tools for interacting with the database.\n",
    "Only use the below tools. Only use the information returned by the below tools to construct your final answer.\n",
    "You MUST double check your query before executing it. If you get an error while executing a query, rewrite the query and try again.\n",
    "\n",
    "DO NOT make any DML statements (INSERT, UPDATE, DELETE, DROP etc.) to the database.\n",
    "\n",
    "If the question does not seem related to the database, just return \"I don't know\" as the answer.\n",
    "\n",
    "\n",
    "sql_db_query: Input to this tool is a detailed and correct SQL query, output is a result from the database. If the query is not correct, an error message will be returned. If an error is returned, rewrite the query, check the query, and try again. If you encounter an issue with Unknown column 'xxxx' in 'field list', use sql_db_schema to query the correct table fields.\n",
    "sql_db_schema: Input to this tool is a comma-separated list of tables, output is the schema and sample rows for those tables. Be sure that the tables actually exist by calling sql_db_list_tables first! Example Input: 'table1, table2, table3'\n",
    "sql_db_list_tables: Input is an empty string, output is a comma separated list of tables in the database.\n",
    "sql_db_query_checker: Use this tool to double check if your query is correct before executing it. Always use this tool before executing a query with sql_db_query!\n",
    "Calculator: Useful for when you need to answer questions about math.\n",
    "RWTool: \n",
    "    This is a custom tool that calculates the risk weight from a set of input parameters:\n",
    "        PD - Probability of Default,\n",
    "        LGD - Loss Given Default,\n",
    "        MATURITY - Remaining maturity of the loan in years,\n",
    "        SIZE - The size of the client in MEUR, usually this is the client's turnover, \n",
    "        F_LARGE_FIN - If 'Y' the client is a Large Financial Institution        \n",
    "        \n",
    "\n",
    "Use the following format:\n",
    "\n",
    "Question: the input question you must answer\n",
    "Thought: you should always think about what to do\n",
    "Action: the action to take, should be one of [sql_db_query, sql_db_schema, sql_db_list_tables, sql_db_query_checker, Calculator, RWTool]\n",
    "Action Input: the input to the action\n",
    "Observation: the result of the action\n",
    "... (this Thought/Action/Action Input/Observation can repeat N times)\n",
    "Thought: I now know the final answer\n",
    "Final Answer: the final answer to the original input question\n",
    "\n",
    "Begin!\n",
    "\n",
    "Previous conversation history:\n",
    "{history}\n",
    "\n",
    "Question: {input}\n",
    "Thought: I should look at the tables in the database to see what I can query. Then I should query the schema of the most relevant tables.\n",
    "{agent_scratchpad}\n",
    "\n",
    "\"\"\""
   ]
  },
  {
   "cell_type": "code",
   "execution_count": 11,
   "id": "4370e3b5-6aa6-42b7-acfe-357df8d5e2d7",
   "metadata": {
    "execution": {
     "iopub.execute_input": "2023-10-19T20:33:08.500138Z",
     "iopub.status.busy": "2023-10-19T20:33:08.499735Z",
     "iopub.status.idle": "2023-10-19T20:33:08.503357Z",
     "shell.execute_reply": "2023-10-19T20:33:08.502729Z",
     "shell.execute_reply.started": "2023-10-19T20:33:08.500111Z"
    },
    "tags": []
   },
   "outputs": [],
   "source": [
    "agent.agent.llm_chain.prompt.template = my_prompt"
   ]
  },
  {
   "cell_type": "code",
   "execution_count": null,
   "id": "46281c57-014e-4506-8bfd-85cb45e82555",
   "metadata": {
    "tags": []
   },
   "outputs": [],
   "source": [
    "# agent.agent.llm_chain.prompt.input_variables = ['input', 'agent_scratchpad', 'history']"
   ]
  },
  {
   "cell_type": "code",
   "execution_count": null,
   "id": "16698567-d736-4852-918b-7a644dd85a0f",
   "metadata": {
    "tags": []
   },
   "outputs": [],
   "source": [
    "# print(agent.agent.llm_chain.prompt.template)"
   ]
  },
  {
   "cell_type": "code",
   "execution_count": null,
   "id": "6dc095a0-f609-4dcf-bf7c-236d79422d40",
   "metadata": {
    "tags": []
   },
   "outputs": [],
   "source": [
    "# print(agent.agent.llm_chain.prompt)"
   ]
  },
  {
   "cell_type": "markdown",
   "id": "e4ecf9d4-42bf-470c-8d3b-ce4b954b268e",
   "metadata": {},
   "source": [
    "### sql"
   ]
  },
  {
   "cell_type": "code",
   "execution_count": null,
   "id": "936ce1ad-666a-4dd6-a50b-e2b9017fc674",
   "metadata": {
    "tags": []
   },
   "outputs": [],
   "source": [
    "output = agent.run({\n",
    "    \"input\": \"What are total RWA and EAD for reporting date 31-12-2022?\",\n",
    "    \"history\": []\n",
    "})"
   ]
  },
  {
   "cell_type": "code",
   "execution_count": null,
   "id": "7f5d555d-0114-48a7-a156-863283fe9679",
   "metadata": {
    "tags": []
   },
   "outputs": [],
   "source": [
    "# output = agent.run(\"What is the change in total RWA from reporting date 2022-12-31 to reporting date 2023-03-31?\")"
   ]
  },
  {
   "cell_type": "code",
   "execution_count": null,
   "id": "b166dcf8-3e00-46f4-a908-6e4912c858af",
   "metadata": {
    "tags": []
   },
   "outputs": [],
   "source": [
    "# output = agent.run(\"What is the total exposure of only those loan ids that have status from Performing on reporting date 2022-12-31 and status Non Performing on reporting date 2023-03-31?\")"
   ]
  },
  {
   "cell_type": "code",
   "execution_count": null,
   "id": "b5810309-3a89-4b52-aa48-ccfc2ad332a7",
   "metadata": {},
   "outputs": [],
   "source": []
  },
  {
   "cell_type": "code",
   "execution_count": null,
   "id": "dd374ebc-29ed-4eef-9004-167384507f7d",
   "metadata": {},
   "outputs": [],
   "source": []
  },
  {
   "cell_type": "code",
   "execution_count": null,
   "id": "cd1d0673-b6b3-4ec1-b212-976e82f62e00",
   "metadata": {},
   "outputs": [],
   "source": []
  },
  {
   "cell_type": "code",
   "execution_count": null,
   "id": "87dcf4e2-201c-41bc-bcd7-3d113f375082",
   "metadata": {},
   "outputs": [],
   "source": []
  },
  {
   "cell_type": "markdown",
   "id": "2e79a255-73fd-4e2a-a827-4a7acaed37bc",
   "metadata": {},
   "source": [
    "#### sql + rw"
   ]
  },
  {
   "cell_type": "code",
   "execution_count": 12,
   "id": "deec3f0f-d955-4592-ba04-f2532a82dc9e",
   "metadata": {
    "execution": {
     "iopub.execute_input": "2023-10-19T20:33:11.429815Z",
     "iopub.status.busy": "2023-10-19T20:33:11.429432Z",
     "iopub.status.idle": "2023-10-19T20:33:12.128956Z",
     "shell.execute_reply": "2023-10-19T20:33:12.127538Z",
     "shell.execute_reply.started": "2023-10-19T20:33:11.429791Z"
    },
    "tags": []
   },
   "outputs": [
    {
     "name": "stdout",
     "output_type": "stream",
     "text": [
      "\n",
      "\n",
      "\u001b[1m> Entering new AgentExecutor chain...\u001b[0m\n"
     ]
    },
    {
     "ename": "KeyError",
     "evalue": "'history'",
     "output_type": "error",
     "traceback": [
      "\u001b[0;31m---------------------------------------------------------------------------\u001b[0m",
      "\u001b[0;31mKeyError\u001b[0m                                  Traceback (most recent call last)",
      "Cell \u001b[0;32mIn[12], line 1\u001b[0m\n\u001b[0;32m----> 1\u001b[0m output \u001b[38;5;241m=\u001b[39m \u001b[43magent\u001b[49m\u001b[38;5;241;43m.\u001b[39;49m\u001b[43mrun\u001b[49m\u001b[43m(\u001b[49m\u001b[43m{\u001b[49m\n\u001b[1;32m      2\u001b[0m \u001b[43m    \u001b[49m\u001b[38;5;124;43m\"\u001b[39;49m\u001b[38;5;124;43minput\u001b[39;49m\u001b[38;5;124;43m\"\u001b[39;49m\u001b[43m:\u001b[49m\u001b[43m \u001b[49m\u001b[38;5;124;43m\"\u001b[39;49m\u001b[38;5;124;43mRead the information in table corporate_portfolio for loan id 1439964799kgeq68 and for reporting date 31-12-2022\u001b[39;49m\u001b[38;5;124;43m\"\u001b[39;49m\u001b[43m,\u001b[49m\n\u001b[1;32m      3\u001b[0m \u001b[43m    \u001b[49m\u001b[38;5;124;43m\"\u001b[39;49m\u001b[38;5;124;43mhistory\u001b[39;49m\u001b[38;5;124;43m\"\u001b[39;49m\u001b[43m:\u001b[49m\u001b[43m \u001b[49m\u001b[38;5;124;43m\"\u001b[39;49m\u001b[38;5;124;43mchat_history\u001b[39;49m\u001b[38;5;124;43m\"\u001b[39;49m\n\u001b[1;32m      4\u001b[0m \u001b[43m}\u001b[49m\u001b[43m)\u001b[49m\n",
      "File \u001b[0;32m/opt/saturncloud/envs/saturn/lib/python3.9/site-packages/langchain/chains/base.py:503\u001b[0m, in \u001b[0;36mChain.run\u001b[0;34m(self, callbacks, tags, metadata, *args, **kwargs)\u001b[0m\n\u001b[1;32m    501\u001b[0m     \u001b[38;5;28;01mif\u001b[39;00m \u001b[38;5;28mlen\u001b[39m(args) \u001b[38;5;241m!=\u001b[39m \u001b[38;5;241m1\u001b[39m:\n\u001b[1;32m    502\u001b[0m         \u001b[38;5;28;01mraise\u001b[39;00m \u001b[38;5;167;01mValueError\u001b[39;00m(\u001b[38;5;124m\"\u001b[39m\u001b[38;5;124m`run` supports only one positional argument.\u001b[39m\u001b[38;5;124m\"\u001b[39m)\n\u001b[0;32m--> 503\u001b[0m     \u001b[38;5;28;01mreturn\u001b[39;00m \u001b[38;5;28;43mself\u001b[39;49m\u001b[43m(\u001b[49m\u001b[43margs\u001b[49m\u001b[43m[\u001b[49m\u001b[38;5;241;43m0\u001b[39;49m\u001b[43m]\u001b[49m\u001b[43m,\u001b[49m\u001b[43m \u001b[49m\u001b[43mcallbacks\u001b[49m\u001b[38;5;241;43m=\u001b[39;49m\u001b[43mcallbacks\u001b[49m\u001b[43m,\u001b[49m\u001b[43m \u001b[49m\u001b[43mtags\u001b[49m\u001b[38;5;241;43m=\u001b[39;49m\u001b[43mtags\u001b[49m\u001b[43m,\u001b[49m\u001b[43m \u001b[49m\u001b[43mmetadata\u001b[49m\u001b[38;5;241;43m=\u001b[39;49m\u001b[43mmetadata\u001b[49m\u001b[43m)\u001b[49m[\n\u001b[1;32m    504\u001b[0m         _output_key\n\u001b[1;32m    505\u001b[0m     ]\n\u001b[1;32m    507\u001b[0m \u001b[38;5;28;01mif\u001b[39;00m kwargs \u001b[38;5;129;01mand\u001b[39;00m \u001b[38;5;129;01mnot\u001b[39;00m args:\n\u001b[1;32m    508\u001b[0m     \u001b[38;5;28;01mreturn\u001b[39;00m \u001b[38;5;28mself\u001b[39m(kwargs, callbacks\u001b[38;5;241m=\u001b[39mcallbacks, tags\u001b[38;5;241m=\u001b[39mtags, metadata\u001b[38;5;241m=\u001b[39mmetadata)[\n\u001b[1;32m    509\u001b[0m         _output_key\n\u001b[1;32m    510\u001b[0m     ]\n",
      "File \u001b[0;32m/opt/saturncloud/envs/saturn/lib/python3.9/site-packages/langchain/chains/base.py:308\u001b[0m, in \u001b[0;36mChain.__call__\u001b[0;34m(self, inputs, return_only_outputs, callbacks, tags, metadata, run_name, include_run_info)\u001b[0m\n\u001b[1;32m    306\u001b[0m \u001b[38;5;28;01mexcept\u001b[39;00m \u001b[38;5;167;01mBaseException\u001b[39;00m \u001b[38;5;28;01mas\u001b[39;00m e:\n\u001b[1;32m    307\u001b[0m     run_manager\u001b[38;5;241m.\u001b[39mon_chain_error(e)\n\u001b[0;32m--> 308\u001b[0m     \u001b[38;5;28;01mraise\u001b[39;00m e\n\u001b[1;32m    309\u001b[0m run_manager\u001b[38;5;241m.\u001b[39mon_chain_end(outputs)\n\u001b[1;32m    310\u001b[0m final_outputs: Dict[\u001b[38;5;28mstr\u001b[39m, Any] \u001b[38;5;241m=\u001b[39m \u001b[38;5;28mself\u001b[39m\u001b[38;5;241m.\u001b[39mprep_outputs(\n\u001b[1;32m    311\u001b[0m     inputs, outputs, return_only_outputs\n\u001b[1;32m    312\u001b[0m )\n",
      "File \u001b[0;32m/opt/saturncloud/envs/saturn/lib/python3.9/site-packages/langchain/chains/base.py:302\u001b[0m, in \u001b[0;36mChain.__call__\u001b[0;34m(self, inputs, return_only_outputs, callbacks, tags, metadata, run_name, include_run_info)\u001b[0m\n\u001b[1;32m    295\u001b[0m run_manager \u001b[38;5;241m=\u001b[39m callback_manager\u001b[38;5;241m.\u001b[39mon_chain_start(\n\u001b[1;32m    296\u001b[0m     dumpd(\u001b[38;5;28mself\u001b[39m),\n\u001b[1;32m    297\u001b[0m     inputs,\n\u001b[1;32m    298\u001b[0m     name\u001b[38;5;241m=\u001b[39mrun_name,\n\u001b[1;32m    299\u001b[0m )\n\u001b[1;32m    300\u001b[0m \u001b[38;5;28;01mtry\u001b[39;00m:\n\u001b[1;32m    301\u001b[0m     outputs \u001b[38;5;241m=\u001b[39m (\n\u001b[0;32m--> 302\u001b[0m         \u001b[38;5;28;43mself\u001b[39;49m\u001b[38;5;241;43m.\u001b[39;49m\u001b[43m_call\u001b[49m\u001b[43m(\u001b[49m\u001b[43minputs\u001b[49m\u001b[43m,\u001b[49m\u001b[43m \u001b[49m\u001b[43mrun_manager\u001b[49m\u001b[38;5;241;43m=\u001b[39;49m\u001b[43mrun_manager\u001b[49m\u001b[43m)\u001b[49m\n\u001b[1;32m    303\u001b[0m         \u001b[38;5;28;01mif\u001b[39;00m new_arg_supported\n\u001b[1;32m    304\u001b[0m         \u001b[38;5;28;01melse\u001b[39;00m \u001b[38;5;28mself\u001b[39m\u001b[38;5;241m.\u001b[39m_call(inputs)\n\u001b[1;32m    305\u001b[0m     )\n\u001b[1;32m    306\u001b[0m \u001b[38;5;28;01mexcept\u001b[39;00m \u001b[38;5;167;01mBaseException\u001b[39;00m \u001b[38;5;28;01mas\u001b[39;00m e:\n\u001b[1;32m    307\u001b[0m     run_manager\u001b[38;5;241m.\u001b[39mon_chain_error(e)\n",
      "File \u001b[0;32m/opt/saturncloud/envs/saturn/lib/python3.9/site-packages/langchain/agents/agent.py:1146\u001b[0m, in \u001b[0;36mAgentExecutor._call\u001b[0;34m(self, inputs, run_manager)\u001b[0m\n\u001b[1;32m   1144\u001b[0m \u001b[38;5;66;03m# We now enter the agent loop (until it returns something).\u001b[39;00m\n\u001b[1;32m   1145\u001b[0m \u001b[38;5;28;01mwhile\u001b[39;00m \u001b[38;5;28mself\u001b[39m\u001b[38;5;241m.\u001b[39m_should_continue(iterations, time_elapsed):\n\u001b[0;32m-> 1146\u001b[0m     next_step_output \u001b[38;5;241m=\u001b[39m \u001b[38;5;28;43mself\u001b[39;49m\u001b[38;5;241;43m.\u001b[39;49m\u001b[43m_take_next_step\u001b[49m\u001b[43m(\u001b[49m\n\u001b[1;32m   1147\u001b[0m \u001b[43m        \u001b[49m\u001b[43mname_to_tool_map\u001b[49m\u001b[43m,\u001b[49m\n\u001b[1;32m   1148\u001b[0m \u001b[43m        \u001b[49m\u001b[43mcolor_mapping\u001b[49m\u001b[43m,\u001b[49m\n\u001b[1;32m   1149\u001b[0m \u001b[43m        \u001b[49m\u001b[43minputs\u001b[49m\u001b[43m,\u001b[49m\n\u001b[1;32m   1150\u001b[0m \u001b[43m        \u001b[49m\u001b[43mintermediate_steps\u001b[49m\u001b[43m,\u001b[49m\n\u001b[1;32m   1151\u001b[0m \u001b[43m        \u001b[49m\u001b[43mrun_manager\u001b[49m\u001b[38;5;241;43m=\u001b[39;49m\u001b[43mrun_manager\u001b[49m\u001b[43m,\u001b[49m\n\u001b[1;32m   1152\u001b[0m \u001b[43m    \u001b[49m\u001b[43m)\u001b[49m\n\u001b[1;32m   1153\u001b[0m     \u001b[38;5;28;01mif\u001b[39;00m \u001b[38;5;28misinstance\u001b[39m(next_step_output, AgentFinish):\n\u001b[1;32m   1154\u001b[0m         \u001b[38;5;28;01mreturn\u001b[39;00m \u001b[38;5;28mself\u001b[39m\u001b[38;5;241m.\u001b[39m_return(\n\u001b[1;32m   1155\u001b[0m             next_step_output, intermediate_steps, run_manager\u001b[38;5;241m=\u001b[39mrun_manager\n\u001b[1;32m   1156\u001b[0m         )\n",
      "File \u001b[0;32m/opt/saturncloud/envs/saturn/lib/python3.9/site-packages/langchain/agents/agent.py:933\u001b[0m, in \u001b[0;36mAgentExecutor._take_next_step\u001b[0;34m(self, name_to_tool_map, color_mapping, inputs, intermediate_steps, run_manager)\u001b[0m\n\u001b[1;32m    930\u001b[0m     intermediate_steps \u001b[38;5;241m=\u001b[39m \u001b[38;5;28mself\u001b[39m\u001b[38;5;241m.\u001b[39m_prepare_intermediate_steps(intermediate_steps)\n\u001b[1;32m    932\u001b[0m     \u001b[38;5;66;03m# Call the LLM to see what to do.\u001b[39;00m\n\u001b[0;32m--> 933\u001b[0m     output \u001b[38;5;241m=\u001b[39m \u001b[38;5;28;43mself\u001b[39;49m\u001b[38;5;241;43m.\u001b[39;49m\u001b[43magent\u001b[49m\u001b[38;5;241;43m.\u001b[39;49m\u001b[43mplan\u001b[49m\u001b[43m(\u001b[49m\n\u001b[1;32m    934\u001b[0m \u001b[43m        \u001b[49m\u001b[43mintermediate_steps\u001b[49m\u001b[43m,\u001b[49m\n\u001b[1;32m    935\u001b[0m \u001b[43m        \u001b[49m\u001b[43mcallbacks\u001b[49m\u001b[38;5;241;43m=\u001b[39;49m\u001b[43mrun_manager\u001b[49m\u001b[38;5;241;43m.\u001b[39;49m\u001b[43mget_child\u001b[49m\u001b[43m(\u001b[49m\u001b[43m)\u001b[49m\u001b[43m \u001b[49m\u001b[38;5;28;43;01mif\u001b[39;49;00m\u001b[43m \u001b[49m\u001b[43mrun_manager\u001b[49m\u001b[43m \u001b[49m\u001b[38;5;28;43;01melse\u001b[39;49;00m\u001b[43m \u001b[49m\u001b[38;5;28;43;01mNone\u001b[39;49;00m\u001b[43m,\u001b[49m\n\u001b[1;32m    936\u001b[0m \u001b[43m        \u001b[49m\u001b[38;5;241;43m*\u001b[39;49m\u001b[38;5;241;43m*\u001b[39;49m\u001b[43minputs\u001b[49m\u001b[43m,\u001b[49m\n\u001b[1;32m    937\u001b[0m \u001b[43m    \u001b[49m\u001b[43m)\u001b[49m\n\u001b[1;32m    938\u001b[0m \u001b[38;5;28;01mexcept\u001b[39;00m OutputParserException \u001b[38;5;28;01mas\u001b[39;00m e:\n\u001b[1;32m    939\u001b[0m     \u001b[38;5;28;01mif\u001b[39;00m \u001b[38;5;28misinstance\u001b[39m(\u001b[38;5;28mself\u001b[39m\u001b[38;5;241m.\u001b[39mhandle_parsing_errors, \u001b[38;5;28mbool\u001b[39m):\n",
      "File \u001b[0;32m/opt/saturncloud/envs/saturn/lib/python3.9/site-packages/langchain/agents/agent.py:546\u001b[0m, in \u001b[0;36mAgent.plan\u001b[0;34m(self, intermediate_steps, callbacks, **kwargs)\u001b[0m\n\u001b[1;32m    534\u001b[0m \u001b[38;5;250m\u001b[39m\u001b[38;5;124;03m\"\"\"Given input, decided what to do.\u001b[39;00m\n\u001b[1;32m    535\u001b[0m \n\u001b[1;32m    536\u001b[0m \u001b[38;5;124;03mArgs:\u001b[39;00m\n\u001b[0;32m   (...)\u001b[0m\n\u001b[1;32m    543\u001b[0m \u001b[38;5;124;03m    Action specifying what tool to use.\u001b[39;00m\n\u001b[1;32m    544\u001b[0m \u001b[38;5;124;03m\"\"\"\u001b[39;00m\n\u001b[1;32m    545\u001b[0m full_inputs \u001b[38;5;241m=\u001b[39m \u001b[38;5;28mself\u001b[39m\u001b[38;5;241m.\u001b[39mget_full_inputs(intermediate_steps, \u001b[38;5;241m*\u001b[39m\u001b[38;5;241m*\u001b[39mkwargs)\n\u001b[0;32m--> 546\u001b[0m full_output \u001b[38;5;241m=\u001b[39m \u001b[38;5;28;43mself\u001b[39;49m\u001b[38;5;241;43m.\u001b[39;49m\u001b[43mllm_chain\u001b[49m\u001b[38;5;241;43m.\u001b[39;49m\u001b[43mpredict\u001b[49m\u001b[43m(\u001b[49m\u001b[43mcallbacks\u001b[49m\u001b[38;5;241;43m=\u001b[39;49m\u001b[43mcallbacks\u001b[49m\u001b[43m,\u001b[49m\u001b[43m \u001b[49m\u001b[38;5;241;43m*\u001b[39;49m\u001b[38;5;241;43m*\u001b[39;49m\u001b[43mfull_inputs\u001b[49m\u001b[43m)\u001b[49m\n\u001b[1;32m    547\u001b[0m \u001b[38;5;28;01mreturn\u001b[39;00m \u001b[38;5;28mself\u001b[39m\u001b[38;5;241m.\u001b[39moutput_parser\u001b[38;5;241m.\u001b[39mparse(full_output)\n",
      "File \u001b[0;32m/opt/saturncloud/envs/saturn/lib/python3.9/site-packages/langchain/chains/llm.py:257\u001b[0m, in \u001b[0;36mLLMChain.predict\u001b[0;34m(self, callbacks, **kwargs)\u001b[0m\n\u001b[1;32m    242\u001b[0m \u001b[38;5;28;01mdef\u001b[39;00m \u001b[38;5;21mpredict\u001b[39m(\u001b[38;5;28mself\u001b[39m, callbacks: Callbacks \u001b[38;5;241m=\u001b[39m \u001b[38;5;28;01mNone\u001b[39;00m, \u001b[38;5;241m*\u001b[39m\u001b[38;5;241m*\u001b[39mkwargs: Any) \u001b[38;5;241m-\u001b[39m\u001b[38;5;241m>\u001b[39m \u001b[38;5;28mstr\u001b[39m:\n\u001b[1;32m    243\u001b[0m \u001b[38;5;250m    \u001b[39m\u001b[38;5;124;03m\"\"\"Format prompt with kwargs and pass to LLM.\u001b[39;00m\n\u001b[1;32m    244\u001b[0m \n\u001b[1;32m    245\u001b[0m \u001b[38;5;124;03m    Args:\u001b[39;00m\n\u001b[0;32m   (...)\u001b[0m\n\u001b[1;32m    255\u001b[0m \u001b[38;5;124;03m            completion = llm.predict(adjective=\"funny\")\u001b[39;00m\n\u001b[1;32m    256\u001b[0m \u001b[38;5;124;03m    \"\"\"\u001b[39;00m\n\u001b[0;32m--> 257\u001b[0m     \u001b[38;5;28;01mreturn\u001b[39;00m \u001b[38;5;28;43mself\u001b[39;49m\u001b[43m(\u001b[49m\u001b[43mkwargs\u001b[49m\u001b[43m,\u001b[49m\u001b[43m \u001b[49m\u001b[43mcallbacks\u001b[49m\u001b[38;5;241;43m=\u001b[39;49m\u001b[43mcallbacks\u001b[49m\u001b[43m)\u001b[49m[\u001b[38;5;28mself\u001b[39m\u001b[38;5;241m.\u001b[39moutput_key]\n",
      "File \u001b[0;32m/opt/saturncloud/envs/saturn/lib/python3.9/site-packages/langchain/chains/base.py:308\u001b[0m, in \u001b[0;36mChain.__call__\u001b[0;34m(self, inputs, return_only_outputs, callbacks, tags, metadata, run_name, include_run_info)\u001b[0m\n\u001b[1;32m    306\u001b[0m \u001b[38;5;28;01mexcept\u001b[39;00m \u001b[38;5;167;01mBaseException\u001b[39;00m \u001b[38;5;28;01mas\u001b[39;00m e:\n\u001b[1;32m    307\u001b[0m     run_manager\u001b[38;5;241m.\u001b[39mon_chain_error(e)\n\u001b[0;32m--> 308\u001b[0m     \u001b[38;5;28;01mraise\u001b[39;00m e\n\u001b[1;32m    309\u001b[0m run_manager\u001b[38;5;241m.\u001b[39mon_chain_end(outputs)\n\u001b[1;32m    310\u001b[0m final_outputs: Dict[\u001b[38;5;28mstr\u001b[39m, Any] \u001b[38;5;241m=\u001b[39m \u001b[38;5;28mself\u001b[39m\u001b[38;5;241m.\u001b[39mprep_outputs(\n\u001b[1;32m    311\u001b[0m     inputs, outputs, return_only_outputs\n\u001b[1;32m    312\u001b[0m )\n",
      "File \u001b[0;32m/opt/saturncloud/envs/saturn/lib/python3.9/site-packages/langchain/chains/base.py:302\u001b[0m, in \u001b[0;36mChain.__call__\u001b[0;34m(self, inputs, return_only_outputs, callbacks, tags, metadata, run_name, include_run_info)\u001b[0m\n\u001b[1;32m    295\u001b[0m run_manager \u001b[38;5;241m=\u001b[39m callback_manager\u001b[38;5;241m.\u001b[39mon_chain_start(\n\u001b[1;32m    296\u001b[0m     dumpd(\u001b[38;5;28mself\u001b[39m),\n\u001b[1;32m    297\u001b[0m     inputs,\n\u001b[1;32m    298\u001b[0m     name\u001b[38;5;241m=\u001b[39mrun_name,\n\u001b[1;32m    299\u001b[0m )\n\u001b[1;32m    300\u001b[0m \u001b[38;5;28;01mtry\u001b[39;00m:\n\u001b[1;32m    301\u001b[0m     outputs \u001b[38;5;241m=\u001b[39m (\n\u001b[0;32m--> 302\u001b[0m         \u001b[38;5;28;43mself\u001b[39;49m\u001b[38;5;241;43m.\u001b[39;49m\u001b[43m_call\u001b[49m\u001b[43m(\u001b[49m\u001b[43minputs\u001b[49m\u001b[43m,\u001b[49m\u001b[43m \u001b[49m\u001b[43mrun_manager\u001b[49m\u001b[38;5;241;43m=\u001b[39;49m\u001b[43mrun_manager\u001b[49m\u001b[43m)\u001b[49m\n\u001b[1;32m    303\u001b[0m         \u001b[38;5;28;01mif\u001b[39;00m new_arg_supported\n\u001b[1;32m    304\u001b[0m         \u001b[38;5;28;01melse\u001b[39;00m \u001b[38;5;28mself\u001b[39m\u001b[38;5;241m.\u001b[39m_call(inputs)\n\u001b[1;32m    305\u001b[0m     )\n\u001b[1;32m    306\u001b[0m \u001b[38;5;28;01mexcept\u001b[39;00m \u001b[38;5;167;01mBaseException\u001b[39;00m \u001b[38;5;28;01mas\u001b[39;00m e:\n\u001b[1;32m    307\u001b[0m     run_manager\u001b[38;5;241m.\u001b[39mon_chain_error(e)\n",
      "File \u001b[0;32m/opt/saturncloud/envs/saturn/lib/python3.9/site-packages/langchain/chains/llm.py:93\u001b[0m, in \u001b[0;36mLLMChain._call\u001b[0;34m(self, inputs, run_manager)\u001b[0m\n\u001b[1;32m     88\u001b[0m \u001b[38;5;28;01mdef\u001b[39;00m \u001b[38;5;21m_call\u001b[39m(\n\u001b[1;32m     89\u001b[0m     \u001b[38;5;28mself\u001b[39m,\n\u001b[1;32m     90\u001b[0m     inputs: Dict[\u001b[38;5;28mstr\u001b[39m, Any],\n\u001b[1;32m     91\u001b[0m     run_manager: Optional[CallbackManagerForChainRun] \u001b[38;5;241m=\u001b[39m \u001b[38;5;28;01mNone\u001b[39;00m,\n\u001b[1;32m     92\u001b[0m ) \u001b[38;5;241m-\u001b[39m\u001b[38;5;241m>\u001b[39m Dict[\u001b[38;5;28mstr\u001b[39m, \u001b[38;5;28mstr\u001b[39m]:\n\u001b[0;32m---> 93\u001b[0m     response \u001b[38;5;241m=\u001b[39m \u001b[38;5;28;43mself\u001b[39;49m\u001b[38;5;241;43m.\u001b[39;49m\u001b[43mgenerate\u001b[49m\u001b[43m(\u001b[49m\u001b[43m[\u001b[49m\u001b[43minputs\u001b[49m\u001b[43m]\u001b[49m\u001b[43m,\u001b[49m\u001b[43m \u001b[49m\u001b[43mrun_manager\u001b[49m\u001b[38;5;241;43m=\u001b[39;49m\u001b[43mrun_manager\u001b[49m\u001b[43m)\u001b[49m\n\u001b[1;32m     94\u001b[0m     \u001b[38;5;28;01mreturn\u001b[39;00m \u001b[38;5;28mself\u001b[39m\u001b[38;5;241m.\u001b[39mcreate_outputs(response)[\u001b[38;5;241m0\u001b[39m]\n",
      "File \u001b[0;32m/opt/saturncloud/envs/saturn/lib/python3.9/site-packages/langchain/chains/llm.py:102\u001b[0m, in \u001b[0;36mLLMChain.generate\u001b[0;34m(self, input_list, run_manager)\u001b[0m\n\u001b[1;32m     96\u001b[0m \u001b[38;5;28;01mdef\u001b[39;00m \u001b[38;5;21mgenerate\u001b[39m(\n\u001b[1;32m     97\u001b[0m     \u001b[38;5;28mself\u001b[39m,\n\u001b[1;32m     98\u001b[0m     input_list: List[Dict[\u001b[38;5;28mstr\u001b[39m, Any]],\n\u001b[1;32m     99\u001b[0m     run_manager: Optional[CallbackManagerForChainRun] \u001b[38;5;241m=\u001b[39m \u001b[38;5;28;01mNone\u001b[39;00m,\n\u001b[1;32m    100\u001b[0m ) \u001b[38;5;241m-\u001b[39m\u001b[38;5;241m>\u001b[39m LLMResult:\n\u001b[1;32m    101\u001b[0m \u001b[38;5;250m    \u001b[39m\u001b[38;5;124;03m\"\"\"Generate LLM result from inputs.\"\"\"\u001b[39;00m\n\u001b[0;32m--> 102\u001b[0m     prompts, stop \u001b[38;5;241m=\u001b[39m \u001b[38;5;28;43mself\u001b[39;49m\u001b[38;5;241;43m.\u001b[39;49m\u001b[43mprep_prompts\u001b[49m\u001b[43m(\u001b[49m\u001b[43minput_list\u001b[49m\u001b[43m,\u001b[49m\u001b[43m \u001b[49m\u001b[43mrun_manager\u001b[49m\u001b[38;5;241;43m=\u001b[39;49m\u001b[43mrun_manager\u001b[49m\u001b[43m)\u001b[49m\n\u001b[1;32m    103\u001b[0m     \u001b[38;5;28;01mreturn\u001b[39;00m \u001b[38;5;28mself\u001b[39m\u001b[38;5;241m.\u001b[39mllm\u001b[38;5;241m.\u001b[39mgenerate_prompt(\n\u001b[1;32m    104\u001b[0m         prompts,\n\u001b[1;32m    105\u001b[0m         stop,\n\u001b[1;32m    106\u001b[0m         callbacks\u001b[38;5;241m=\u001b[39mrun_manager\u001b[38;5;241m.\u001b[39mget_child() \u001b[38;5;28;01mif\u001b[39;00m run_manager \u001b[38;5;28;01melse\u001b[39;00m \u001b[38;5;28;01mNone\u001b[39;00m,\n\u001b[1;32m    107\u001b[0m         \u001b[38;5;241m*\u001b[39m\u001b[38;5;241m*\u001b[39m\u001b[38;5;28mself\u001b[39m\u001b[38;5;241m.\u001b[39mllm_kwargs,\n\u001b[1;32m    108\u001b[0m     )\n",
      "File \u001b[0;32m/opt/saturncloud/envs/saturn/lib/python3.9/site-packages/langchain/chains/llm.py:138\u001b[0m, in \u001b[0;36mLLMChain.prep_prompts\u001b[0;34m(self, input_list, run_manager)\u001b[0m\n\u001b[1;32m    136\u001b[0m \u001b[38;5;28;01mfor\u001b[39;00m inputs \u001b[38;5;129;01min\u001b[39;00m input_list:\n\u001b[1;32m    137\u001b[0m     selected_inputs \u001b[38;5;241m=\u001b[39m {k: inputs[k] \u001b[38;5;28;01mfor\u001b[39;00m k \u001b[38;5;129;01min\u001b[39;00m \u001b[38;5;28mself\u001b[39m\u001b[38;5;241m.\u001b[39mprompt\u001b[38;5;241m.\u001b[39minput_variables}\n\u001b[0;32m--> 138\u001b[0m     prompt \u001b[38;5;241m=\u001b[39m \u001b[38;5;28;43mself\u001b[39;49m\u001b[38;5;241;43m.\u001b[39;49m\u001b[43mprompt\u001b[49m\u001b[38;5;241;43m.\u001b[39;49m\u001b[43mformat_prompt\u001b[49m\u001b[43m(\u001b[49m\u001b[38;5;241;43m*\u001b[39;49m\u001b[38;5;241;43m*\u001b[39;49m\u001b[43mselected_inputs\u001b[49m\u001b[43m)\u001b[49m\n\u001b[1;32m    139\u001b[0m     _colored_text \u001b[38;5;241m=\u001b[39m get_colored_text(prompt\u001b[38;5;241m.\u001b[39mto_string(), \u001b[38;5;124m\"\u001b[39m\u001b[38;5;124mgreen\u001b[39m\u001b[38;5;124m\"\u001b[39m)\n\u001b[1;32m    140\u001b[0m     _text \u001b[38;5;241m=\u001b[39m \u001b[38;5;124m\"\u001b[39m\u001b[38;5;124mPrompt after formatting:\u001b[39m\u001b[38;5;130;01m\\n\u001b[39;00m\u001b[38;5;124m\"\u001b[39m \u001b[38;5;241m+\u001b[39m _colored_text\n",
      "File \u001b[0;32m/opt/saturncloud/envs/saturn/lib/python3.9/site-packages/langchain/prompts/base.py:138\u001b[0m, in \u001b[0;36mStringPromptTemplate.format_prompt\u001b[0;34m(self, **kwargs)\u001b[0m\n\u001b[1;32m    136\u001b[0m \u001b[38;5;28;01mdef\u001b[39;00m \u001b[38;5;21mformat_prompt\u001b[39m(\u001b[38;5;28mself\u001b[39m, \u001b[38;5;241m*\u001b[39m\u001b[38;5;241m*\u001b[39mkwargs: Any) \u001b[38;5;241m-\u001b[39m\u001b[38;5;241m>\u001b[39m PromptValue:\n\u001b[1;32m    137\u001b[0m \u001b[38;5;250m    \u001b[39m\u001b[38;5;124;03m\"\"\"Create Chat Messages.\"\"\"\u001b[39;00m\n\u001b[0;32m--> 138\u001b[0m     \u001b[38;5;28;01mreturn\u001b[39;00m StringPromptValue(text\u001b[38;5;241m=\u001b[39m\u001b[38;5;28;43mself\u001b[39;49m\u001b[38;5;241;43m.\u001b[39;49m\u001b[43mformat\u001b[49m\u001b[43m(\u001b[49m\u001b[38;5;241;43m*\u001b[39;49m\u001b[38;5;241;43m*\u001b[39;49m\u001b[43mkwargs\u001b[49m\u001b[43m)\u001b[49m)\n",
      "File \u001b[0;32m/opt/saturncloud/envs/saturn/lib/python3.9/site-packages/langchain/prompts/prompt.py:119\u001b[0m, in \u001b[0;36mPromptTemplate.format\u001b[0;34m(self, **kwargs)\u001b[0m\n\u001b[1;32m    104\u001b[0m \u001b[38;5;250m\u001b[39m\u001b[38;5;124;03m\"\"\"Format the prompt with the inputs.\u001b[39;00m\n\u001b[1;32m    105\u001b[0m \n\u001b[1;32m    106\u001b[0m \u001b[38;5;124;03mArgs:\u001b[39;00m\n\u001b[0;32m   (...)\u001b[0m\n\u001b[1;32m    116\u001b[0m \u001b[38;5;124;03m        prompt.format(variable1=\"foo\")\u001b[39;00m\n\u001b[1;32m    117\u001b[0m \u001b[38;5;124;03m\"\"\"\u001b[39;00m\n\u001b[1;32m    118\u001b[0m kwargs \u001b[38;5;241m=\u001b[39m \u001b[38;5;28mself\u001b[39m\u001b[38;5;241m.\u001b[39m_merge_partial_and_user_variables(\u001b[38;5;241m*\u001b[39m\u001b[38;5;241m*\u001b[39mkwargs)\n\u001b[0;32m--> 119\u001b[0m \u001b[38;5;28;01mreturn\u001b[39;00m \u001b[43mDEFAULT_FORMATTER_MAPPING\u001b[49m\u001b[43m[\u001b[49m\u001b[38;5;28;43mself\u001b[39;49m\u001b[38;5;241;43m.\u001b[39;49m\u001b[43mtemplate_format\u001b[49m\u001b[43m]\u001b[49m\u001b[43m(\u001b[49m\u001b[38;5;28;43mself\u001b[39;49m\u001b[38;5;241;43m.\u001b[39;49m\u001b[43mtemplate\u001b[49m\u001b[43m,\u001b[49m\u001b[43m \u001b[49m\u001b[38;5;241;43m*\u001b[39;49m\u001b[38;5;241;43m*\u001b[39;49m\u001b[43mkwargs\u001b[49m\u001b[43m)\u001b[49m\n",
      "File \u001b[0;32m/opt/saturncloud/envs/saturn/lib/python3.9/string.py:161\u001b[0m, in \u001b[0;36mFormatter.format\u001b[0;34m(self, format_string, *args, **kwargs)\u001b[0m\n\u001b[1;32m    160\u001b[0m \u001b[38;5;28;01mdef\u001b[39;00m \u001b[38;5;21mformat\u001b[39m(\u001b[38;5;28mself\u001b[39m, format_string, \u001b[38;5;241m/\u001b[39m, \u001b[38;5;241m*\u001b[39margs, \u001b[38;5;241m*\u001b[39m\u001b[38;5;241m*\u001b[39mkwargs):\n\u001b[0;32m--> 161\u001b[0m     \u001b[38;5;28;01mreturn\u001b[39;00m \u001b[38;5;28;43mself\u001b[39;49m\u001b[38;5;241;43m.\u001b[39;49m\u001b[43mvformat\u001b[49m\u001b[43m(\u001b[49m\u001b[43mformat_string\u001b[49m\u001b[43m,\u001b[49m\u001b[43m \u001b[49m\u001b[43margs\u001b[49m\u001b[43m,\u001b[49m\u001b[43m \u001b[49m\u001b[43mkwargs\u001b[49m\u001b[43m)\u001b[49m\n",
      "File \u001b[0;32m/opt/saturncloud/envs/saturn/lib/python3.9/site-packages/langchain/utils/formatting.py:29\u001b[0m, in \u001b[0;36mStrictFormatter.vformat\u001b[0;34m(self, format_string, args, kwargs)\u001b[0m\n\u001b[1;32m     24\u001b[0m \u001b[38;5;28;01mif\u001b[39;00m \u001b[38;5;28mlen\u001b[39m(args) \u001b[38;5;241m>\u001b[39m \u001b[38;5;241m0\u001b[39m:\n\u001b[1;32m     25\u001b[0m     \u001b[38;5;28;01mraise\u001b[39;00m \u001b[38;5;167;01mValueError\u001b[39;00m(\n\u001b[1;32m     26\u001b[0m         \u001b[38;5;124m\"\u001b[39m\u001b[38;5;124mNo arguments should be provided, \u001b[39m\u001b[38;5;124m\"\u001b[39m\n\u001b[1;32m     27\u001b[0m         \u001b[38;5;124m\"\u001b[39m\u001b[38;5;124meverything should be passed as keyword arguments.\u001b[39m\u001b[38;5;124m\"\u001b[39m\n\u001b[1;32m     28\u001b[0m     )\n\u001b[0;32m---> 29\u001b[0m \u001b[38;5;28;01mreturn\u001b[39;00m \u001b[38;5;28;43msuper\u001b[39;49m\u001b[43m(\u001b[49m\u001b[43m)\u001b[49m\u001b[38;5;241;43m.\u001b[39;49m\u001b[43mvformat\u001b[49m\u001b[43m(\u001b[49m\u001b[43mformat_string\u001b[49m\u001b[43m,\u001b[49m\u001b[43m \u001b[49m\u001b[43margs\u001b[49m\u001b[43m,\u001b[49m\u001b[43m \u001b[49m\u001b[43mkwargs\u001b[49m\u001b[43m)\u001b[49m\n",
      "File \u001b[0;32m/opt/saturncloud/envs/saturn/lib/python3.9/string.py:165\u001b[0m, in \u001b[0;36mFormatter.vformat\u001b[0;34m(self, format_string, args, kwargs)\u001b[0m\n\u001b[1;32m    163\u001b[0m \u001b[38;5;28;01mdef\u001b[39;00m \u001b[38;5;21mvformat\u001b[39m(\u001b[38;5;28mself\u001b[39m, format_string, args, kwargs):\n\u001b[1;32m    164\u001b[0m     used_args \u001b[38;5;241m=\u001b[39m \u001b[38;5;28mset\u001b[39m()\n\u001b[0;32m--> 165\u001b[0m     result, _ \u001b[38;5;241m=\u001b[39m \u001b[38;5;28;43mself\u001b[39;49m\u001b[38;5;241;43m.\u001b[39;49m\u001b[43m_vformat\u001b[49m\u001b[43m(\u001b[49m\u001b[43mformat_string\u001b[49m\u001b[43m,\u001b[49m\u001b[43m \u001b[49m\u001b[43margs\u001b[49m\u001b[43m,\u001b[49m\u001b[43m \u001b[49m\u001b[43mkwargs\u001b[49m\u001b[43m,\u001b[49m\u001b[43m \u001b[49m\u001b[43mused_args\u001b[49m\u001b[43m,\u001b[49m\u001b[43m \u001b[49m\u001b[38;5;241;43m2\u001b[39;49m\u001b[43m)\u001b[49m\n\u001b[1;32m    166\u001b[0m     \u001b[38;5;28mself\u001b[39m\u001b[38;5;241m.\u001b[39mcheck_unused_args(used_args, args, kwargs)\n\u001b[1;32m    167\u001b[0m     \u001b[38;5;28;01mreturn\u001b[39;00m result\n",
      "File \u001b[0;32m/opt/saturncloud/envs/saturn/lib/python3.9/string.py:205\u001b[0m, in \u001b[0;36mFormatter._vformat\u001b[0;34m(self, format_string, args, kwargs, used_args, recursion_depth, auto_arg_index)\u001b[0m\n\u001b[1;32m    201\u001b[0m     auto_arg_index \u001b[38;5;241m=\u001b[39m \u001b[38;5;28;01mFalse\u001b[39;00m\n\u001b[1;32m    203\u001b[0m \u001b[38;5;66;03m# given the field_name, find the object it references\u001b[39;00m\n\u001b[1;32m    204\u001b[0m \u001b[38;5;66;03m#  and the argument it came from\u001b[39;00m\n\u001b[0;32m--> 205\u001b[0m obj, arg_used \u001b[38;5;241m=\u001b[39m \u001b[38;5;28;43mself\u001b[39;49m\u001b[38;5;241;43m.\u001b[39;49m\u001b[43mget_field\u001b[49m\u001b[43m(\u001b[49m\u001b[43mfield_name\u001b[49m\u001b[43m,\u001b[49m\u001b[43m \u001b[49m\u001b[43margs\u001b[49m\u001b[43m,\u001b[49m\u001b[43m \u001b[49m\u001b[43mkwargs\u001b[49m\u001b[43m)\u001b[49m\n\u001b[1;32m    206\u001b[0m used_args\u001b[38;5;241m.\u001b[39madd(arg_used)\n\u001b[1;32m    208\u001b[0m \u001b[38;5;66;03m# do any conversion on the resulting object\u001b[39;00m\n",
      "File \u001b[0;32m/opt/saturncloud/envs/saturn/lib/python3.9/string.py:270\u001b[0m, in \u001b[0;36mFormatter.get_field\u001b[0;34m(self, field_name, args, kwargs)\u001b[0m\n\u001b[1;32m    267\u001b[0m \u001b[38;5;28;01mdef\u001b[39;00m \u001b[38;5;21mget_field\u001b[39m(\u001b[38;5;28mself\u001b[39m, field_name, args, kwargs):\n\u001b[1;32m    268\u001b[0m     first, rest \u001b[38;5;241m=\u001b[39m _string\u001b[38;5;241m.\u001b[39mformatter_field_name_split(field_name)\n\u001b[0;32m--> 270\u001b[0m     obj \u001b[38;5;241m=\u001b[39m \u001b[38;5;28;43mself\u001b[39;49m\u001b[38;5;241;43m.\u001b[39;49m\u001b[43mget_value\u001b[49m\u001b[43m(\u001b[49m\u001b[43mfirst\u001b[49m\u001b[43m,\u001b[49m\u001b[43m \u001b[49m\u001b[43margs\u001b[49m\u001b[43m,\u001b[49m\u001b[43m \u001b[49m\u001b[43mkwargs\u001b[49m\u001b[43m)\u001b[49m\n\u001b[1;32m    272\u001b[0m     \u001b[38;5;66;03m# loop through the rest of the field_name, doing\u001b[39;00m\n\u001b[1;32m    273\u001b[0m     \u001b[38;5;66;03m#  getattr or getitem as needed\u001b[39;00m\n\u001b[1;32m    274\u001b[0m     \u001b[38;5;28;01mfor\u001b[39;00m is_attr, i \u001b[38;5;129;01min\u001b[39;00m rest:\n",
      "File \u001b[0;32m/opt/saturncloud/envs/saturn/lib/python3.9/string.py:227\u001b[0m, in \u001b[0;36mFormatter.get_value\u001b[0;34m(self, key, args, kwargs)\u001b[0m\n\u001b[1;32m    225\u001b[0m     \u001b[38;5;28;01mreturn\u001b[39;00m args[key]\n\u001b[1;32m    226\u001b[0m \u001b[38;5;28;01melse\u001b[39;00m:\n\u001b[0;32m--> 227\u001b[0m     \u001b[38;5;28;01mreturn\u001b[39;00m \u001b[43mkwargs\u001b[49m\u001b[43m[\u001b[49m\u001b[43mkey\u001b[49m\u001b[43m]\u001b[49m\n",
      "\u001b[0;31mKeyError\u001b[0m: 'history'"
     ]
    }
   ],
   "source": [
    "output = agent.run({\n",
    "    \"input\": \"Read the information in table corporate_portfolio for loan id 1439964799kgeq68 and for reporting date 31-12-2022\",\n",
    "    \"history\": \"chat_history\"\n",
    "})"
   ]
  },
  {
   "cell_type": "code",
   "execution_count": null,
   "id": "7f7642ed-2d8f-485a-8d21-5163ea7cc455",
   "metadata": {},
   "outputs": [],
   "source": []
  },
  {
   "cell_type": "code",
   "execution_count": null,
   "id": "667f4bcd-b21d-4a5f-ab38-3e5e8e97fd3c",
   "metadata": {
    "tags": []
   },
   "outputs": [],
   "source": [
    "output = agent.run({\n",
    "    \"input\": \"What will be the RW if PD doubles\",\n",
    "    \"history\": \"chat_history\"\n",
    "})"
   ]
  },
  {
   "cell_type": "code",
   "execution_count": null,
   "id": "610fc690-3d33-41e2-b167-da41017b37bb",
   "metadata": {},
   "outputs": [],
   "source": []
  },
  {
   "cell_type": "code",
   "execution_count": null,
   "id": "5dbaad7b-94ef-4084-a5c4-d63110f13698",
   "metadata": {},
   "outputs": [],
   "source": [
    "output = agent.run(\"What about if LGD doubles\")"
   ]
  },
  {
   "cell_type": "code",
   "execution_count": null,
   "id": "fd1fe668-a009-4bcb-b0d0-4e9bac7822e7",
   "metadata": {},
   "outputs": [],
   "source": []
  },
  {
   "cell_type": "code",
   "execution_count": null,
   "id": "0947ec84-bb67-4f65-817c-f1fe91a5cd1d",
   "metadata": {},
   "outputs": [],
   "source": [
    "output = agent.run(\"And if MATURITY becomes 6.23\")"
   ]
  },
  {
   "cell_type": "code",
   "execution_count": null,
   "id": "dc365500-b504-4a50-a4c7-4916bf025e68",
   "metadata": {},
   "outputs": [],
   "source": []
  },
  {
   "cell_type": "code",
   "execution_count": null,
   "id": "0922d2c6-c7ee-48f8-9aa3-931256c21c7b",
   "metadata": {},
   "outputs": [],
   "source": [
    "output = agent.run(\"What if all three parameters change like that?\")"
   ]
  },
  {
   "cell_type": "code",
   "execution_count": null,
   "id": "c3c81eda-73b6-424b-a22e-23c2066db26c",
   "metadata": {},
   "outputs": [],
   "source": []
  },
  {
   "cell_type": "code",
   "execution_count": null,
   "id": "34775e87-4422-4c80-8fe6-e599211f4ece",
   "metadata": {},
   "outputs": [],
   "source": [
    "output = agent.run(\"Start over again and read the all information in table corporate_portfolio for loan id 1439964799kgeq68 but for reporting date 2023-03-31\")"
   ]
  },
  {
   "cell_type": "code",
   "execution_count": null,
   "id": "ecca417b-62e6-4b65-b64b-8a487a66a6db",
   "metadata": {},
   "outputs": [],
   "source": []
  },
  {
   "cell_type": "code",
   "execution_count": null,
   "id": "fe409172-0a05-4942-b747-f5b0ca29c3ad",
   "metadata": {},
   "outputs": [],
   "source": [
    "output = agent.run(\"What is the change in PD for loan id 1439964799kgeq68 between reporting date 2022-12-31 and 2023-03-31\")"
   ]
  },
  {
   "cell_type": "code",
   "execution_count": null,
   "id": "2ed72d60-3b35-4620-9a50-da001c390c5a",
   "metadata": {},
   "outputs": [],
   "source": []
  },
  {
   "cell_type": "code",
   "execution_count": null,
   "id": "1988e046-d4a2-4e7a-b330-eeb9bd571c4e",
   "metadata": {},
   "outputs": [],
   "source": [
    "output = agent.run(\"Read the information for ACCOUNT_NUMBER = '1851285872eypk20' in rwa_data table and then calculate the RW if LGD doubles and PD becomes 0.2\")"
   ]
  },
  {
   "cell_type": "code",
   "execution_count": null,
   "id": "5bc7bcfd-8dab-42d7-9a0e-4231d4aee83c",
   "metadata": {},
   "outputs": [],
   "source": []
  }
 ],
 "metadata": {
  "kernelspec": {
   "display_name": "saturn (Python 3)",
   "language": "python",
   "name": "python3"
  },
  "language_info": {
   "codemirror_mode": {
    "name": "ipython",
    "version": 3
   },
   "file_extension": ".py",
   "mimetype": "text/x-python",
   "name": "python",
   "nbconvert_exporter": "python",
   "pygments_lexer": "ipython3",
   "version": "3.9.15"
  }
 },
 "nbformat": 4,
 "nbformat_minor": 5
}
