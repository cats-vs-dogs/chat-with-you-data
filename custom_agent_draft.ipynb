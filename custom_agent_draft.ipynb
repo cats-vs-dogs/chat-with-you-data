{
 "cells": [
  {
   "cell_type": "code",
   "execution_count": 1,
   "id": "e555460c-4010-40d3-a235-1dcc79412745",
   "metadata": {
    "execution": {
     "iopub.execute_input": "2023-10-20T15:18:27.991567Z",
     "iopub.status.busy": "2023-10-20T15:18:27.990817Z",
     "iopub.status.idle": "2023-10-20T15:18:29.451955Z",
     "shell.execute_reply": "2023-10-20T15:18:29.451336Z",
     "shell.execute_reply.started": "2023-10-20T15:18:27.991527Z"
    },
    "tags": []
   },
   "outputs": [],
   "source": [
    "from langchain.llms import OpenAI\n",
    "from langchain.chat_models import ChatOpenAI\n",
    "from langchain import SQLDatabase\n",
    "from langchain_experimental.sql import SQLDatabaseChain\n",
    "from langchain.chains import create_sql_query_chain\n",
    "\n",
    "from langchain.prompts import PromptTemplate\n",
    "\n",
    "from langchain.agents import create_sql_agent\n",
    "from langchain.agents.agent_toolkits import SQLDatabaseToolkit\n",
    "# from langchain.agents import AgentExecutor\n",
    "from langchain.agents.agent_types import AgentType\n",
    "from langchain.memory import ConversationBufferMemory\n",
    "\n",
    "from langchain.agents import load_tools"
   ]
  },
  {
   "cell_type": "code",
   "execution_count": 2,
   "id": "dbcb8e5d-9751-43b9-ac2f-3db8a9d16317",
   "metadata": {
    "execution": {
     "iopub.execute_input": "2023-10-20T15:18:29.453415Z",
     "iopub.status.busy": "2023-10-20T15:18:29.453042Z",
     "iopub.status.idle": "2023-10-20T15:18:29.457073Z",
     "shell.execute_reply": "2023-10-20T15:18:29.456502Z",
     "shell.execute_reply.started": "2023-10-20T15:18:29.453392Z"
    },
    "tags": []
   },
   "outputs": [],
   "source": [
    "from langchain.agents import Tool, AgentExecutor, LLMSingleActionAgent, AgentOutputParser\n",
    "from langchain.prompts import StringPromptTemplate\n",
    "from langchain.llms import OpenAI\n",
    "from langchain.utilities import SerpAPIWrapper\n",
    "from langchain.chains import LLMChain\n",
    "from typing import List, Union\n",
    "from langchain.schema import AgentAction, AgentFinish, OutputParserException\n",
    "import re"
   ]
  },
  {
   "cell_type": "code",
   "execution_count": 3,
   "id": "9ec5cdcc-d056-4519-b603-bf12c3100363",
   "metadata": {
    "execution": {
     "iopub.execute_input": "2023-10-20T15:18:29.458065Z",
     "iopub.status.busy": "2023-10-20T15:18:29.457818Z",
     "iopub.status.idle": "2023-10-20T15:18:29.464703Z",
     "shell.execute_reply": "2023-10-20T15:18:29.464196Z",
     "shell.execute_reply.started": "2023-10-20T15:18:29.458047Z"
    },
    "tags": []
   },
   "outputs": [],
   "source": [
    "import os\n",
    "from dotenv import load_dotenv\n",
    "load_dotenv()\n",
    "OPENAI_API_KEY = os.getenv('OPENAI_API_KEY')"
   ]
  },
  {
   "cell_type": "code",
   "execution_count": 4,
   "id": "ed315fb8-25b5-42bd-969c-77c475d3d1f4",
   "metadata": {
    "execution": {
     "iopub.execute_input": "2023-10-20T15:18:33.590784Z",
     "iopub.status.busy": "2023-10-20T15:18:33.590055Z",
     "iopub.status.idle": "2023-10-20T15:18:33.603209Z",
     "shell.execute_reply": "2023-10-20T15:18:33.602671Z",
     "shell.execute_reply.started": "2023-10-20T15:18:33.590746Z"
    },
    "tags": []
   },
   "outputs": [],
   "source": [
    "# llm = OpenAI(temperature=0, verbose=True)\n",
    "llm = ChatOpenAI(model_name='gpt-4',temperature=0)\n",
    "# llm = ChatOpenAI(model_name=\"gpt-3.5-turbo-0613\",temperature=0)"
   ]
  },
  {
   "cell_type": "code",
   "execution_count": 5,
   "id": "597e739d-01a4-41a0-a537-cb8812849f22",
   "metadata": {
    "execution": {
     "iopub.execute_input": "2023-10-20T15:18:34.507765Z",
     "iopub.status.busy": "2023-10-20T15:18:34.507393Z",
     "iopub.status.idle": "2023-10-20T15:18:34.524618Z",
     "shell.execute_reply": "2023-10-20T15:18:34.524064Z",
     "shell.execute_reply.started": "2023-10-20T15:18:34.507739Z"
    },
    "tags": []
   },
   "outputs": [],
   "source": [
    "db = SQLDatabase.from_uri(\"sqlite:///./portfolio_data.db\",\n",
    "                         include_tables=['corporate_portfolio'],\n",
    "                         sample_rows_in_table_info=2\n",
    ")"
   ]
  },
  {
   "cell_type": "code",
   "execution_count": 6,
   "id": "5b04c727-695b-4bca-b9b7-0f97e88288fc",
   "metadata": {
    "execution": {
     "iopub.execute_input": "2023-10-20T15:18:34.713968Z",
     "iopub.status.busy": "2023-10-20T15:18:34.713644Z",
     "iopub.status.idle": "2023-10-20T15:18:34.718787Z",
     "shell.execute_reply": "2023-10-20T15:18:34.718210Z",
     "shell.execute_reply.started": "2023-10-20T15:18:34.713946Z"
    },
    "tags": []
   },
   "outputs": [],
   "source": [
    "toolkit = SQLDatabaseToolkit(db=db, llm=llm)\n",
    "\n",
    "sql_agent = create_sql_agent(\n",
    "    llm=llm,\n",
    "    toolkit=toolkit,\n",
    "    verbose=True\n",
    ") "
   ]
  },
  {
   "cell_type": "code",
   "execution_count": 7,
   "id": "7c9afeb4-1f9d-41db-ad4a-a353977c49b8",
   "metadata": {
    "execution": {
     "iopub.execute_input": "2023-10-20T15:18:34.816048Z",
     "iopub.status.busy": "2023-10-20T15:18:34.815579Z",
     "iopub.status.idle": "2023-10-20T15:18:34.822172Z",
     "shell.execute_reply": "2023-10-20T15:18:34.821588Z",
     "shell.execute_reply.started": "2023-10-20T15:18:34.816029Z"
    },
    "tags": []
   },
   "outputs": [],
   "source": [
    "extra_tools = load_tools(\n",
    "    ['llm-math'],\n",
    "    llm=llm\n",
    ")"
   ]
  },
  {
   "cell_type": "code",
   "execution_count": 8,
   "id": "1d7b3708-cf88-4431-bac7-af6decff95c9",
   "metadata": {
    "execution": {
     "iopub.execute_input": "2023-10-20T15:18:37.191155Z",
     "iopub.status.busy": "2023-10-20T15:18:37.190769Z",
     "iopub.status.idle": "2023-10-20T15:18:37.194925Z",
     "shell.execute_reply": "2023-10-20T15:18:37.194316Z",
     "shell.execute_reply.started": "2023-10-20T15:18:37.191130Z"
    },
    "tags": []
   },
   "outputs": [],
   "source": [
    "# from langchain.tools.sql_database.tool import (\n",
    "#     InfoSQLDatabaseTool,\n",
    "#     ListSQLDatabaseTool,\n",
    "#     QuerySQLCheckerTool,\n",
    "#     QuerySQLDataBaseTool,\n",
    "# )\n",
    "\n",
    "# sql_db_list_tables = ListSQLDatabaseTool(db=db, func=sql_agent.run)\n",
    "\n",
    "# sql_db_schema = InfoSQLDatabaseTool(\n",
    "#     db=db,\n",
    "#     func=sql_agent.run,\n",
    "#     description=\"\"\"\n",
    "#     Input to this tool is a comma-separated list of tables, output is the schema and sample rows for those tables. \n",
    "#     Be sure that the tables actually exist by calling sql_db_list_tables first! \n",
    "#     Example Input: 'table1, table2, table3'\n",
    "#     \"\"\"\n",
    "# )\n",
    "\n",
    "# sql_db_query = QuerySQLDataBaseTool(\n",
    "#     db=db,\n",
    "#     func=sql_agent.run,\n",
    "#     description=\"\"\"\n",
    "#     Input to this tool is a detailed and correct SQL query, output is a result from the database. \n",
    "#     If the query is not correct, an error message will be returned. \n",
    "#     If an error is returned, rewrite the query, check the query, and try again. \n",
    "#     If you encounter an issue with Unknown column 'xxxx' in 'field list', use sql_db_schema to query the correct table fields.\n",
    "#     \"\"\"\n",
    "# )\n",
    "\n",
    "# sql_db_query_checker = QuerySQLCheckerTool(\n",
    "#     llm=llm,\n",
    "#     db=db,\n",
    "#     func=sql_agent.run,\n",
    "#     description=\"\"\"\n",
    "#     Use this tool to double check if your query is correct before executing it. \n",
    "#     Always use this tool before executing a query with sql_db_query!\n",
    "#     \"\"\"\n",
    "# )"
   ]
  },
  {
   "cell_type": "code",
   "execution_count": 9,
   "id": "c61fd8cc-7571-4d68-8b9d-c91a9c5a2d6f",
   "metadata": {
    "execution": {
     "iopub.execute_input": "2023-10-20T15:18:37.333935Z",
     "iopub.status.busy": "2023-10-20T15:18:37.333645Z",
     "iopub.status.idle": "2023-10-20T15:18:37.560033Z",
     "shell.execute_reply": "2023-10-20T15:18:37.559418Z",
     "shell.execute_reply.started": "2023-10-20T15:18:37.333914Z"
    },
    "tags": []
   },
   "outputs": [],
   "source": [
    "from langchain.tools import Tool, BaseTool\n",
    "from pydantic.v1 import BaseModel, Field\n",
    "import math\n",
    "from scipy.stats import norm\n",
    "\n",
    "def rw_corp(Input_String: str) -> str:\n",
    "\n",
    "    \"\"\" \n",
    "    calculates the risk weight from input parameters \n",
    "    PD, LGD, MATURITY, F_LARGE_FIN and SIZE which are fed into the formula in this particular order \n",
    "    \"\"\"\n",
    "    \n",
    "    PD_s, LGD_s, MATURITY_s, SIZE_s, F_LARGE_FIN_s = Input_String.split(\",\")\n",
    "\n",
    "    PD = float(eval(PD_s.split(\":\")[1].strip()))\n",
    "    LGD = float(eval(LGD_s.split(\":\")[1].strip()))\n",
    "    MATURITY = float(eval(MATURITY_s.split(\":\")[1].strip()))\n",
    "    SIZE = float(eval(SIZE_s.split(\":\")[1].strip()))\n",
    "    F_LARGE_FIN = (F_LARGE_FIN_s.split(\":\")[1].strip())\n",
    "       \n",
    "    pd_final = max(0.0003, PD)\n",
    "    size_final = max(5, min(SIZE, 50))    \n",
    "    r0 = (0.12 * (1.0 - math.exp(-50.0 * pd_final)) / (1.0 - math.exp(-50.0))) + \\\n",
    "        (0.24 * (1.0 - (1 - math.exp(-50.0 * pd_final)) / (1.0 - math.exp(-50.0)))) - \\\n",
    "        (0.04 * (1.0 - (size_final - 5.0) / 45.0))\n",
    "    if F_LARGE_FIN == 'Y':\n",
    "        r = r0 * 1.25\n",
    "    else:\n",
    "        r = r0\n",
    "    b = (0.11852 - 0.05478 * math.log(pd_final)) ** 2\n",
    "    ma = ((1 - 1.5 * b) ** -1) * (1 + (MATURITY - 2.5) * b)    \n",
    "    rw = ((LGD * norm.cdf((1 - r) ** -0.5 * norm.ppf(pd_final) + (r / (1 - r)) ** 0.5 * norm.ppf(0.999)) - pd_final * LGD) * ma) * 12.5 * 1.06\n",
    "    return rw  \n",
    "\n",
    "\n",
    "class RWInput(BaseModel):\n",
    "    Input_String: str = Field(description='This is a string that contains values for the input parameters \\\n",
    "                              PD, LGD, MATURITY, SIZE and F_LARGE_FIN which are fed into the formula in this particular order ')\n",
    "    \n",
    "RWTool = Tool.from_function(\n",
    "    func=rw_corp,\n",
    "    name=\"RWTool\",\n",
    "    description=\"\"\"\n",
    "    This is a custom tool that calculates the risk weight from a set of input parameters:\n",
    "        PD - Probability of Default,\n",
    "        LGD - Loss Given Default,\n",
    "        MATURITY - Remaining maturity of the loan in years,\n",
    "        SIZE - The size of the client in MEUR, usually this is the client's turnover, \n",
    "        F_LARGE_FIN - If 'Y' the client is a Large Financial Institution        \n",
    "        \"\"\",\n",
    "    args_schema=RWInput\n",
    ")"
   ]
  },
  {
   "cell_type": "code",
   "execution_count": 10,
   "id": "7eb83cb8-b509-4e17-9a47-08a0b5f59f6c",
   "metadata": {
    "execution": {
     "iopub.execute_input": "2023-10-20T15:18:38.599007Z",
     "iopub.status.busy": "2023-10-20T15:18:38.598600Z",
     "iopub.status.idle": "2023-10-20T15:18:38.602144Z",
     "shell.execute_reply": "2023-10-20T15:18:38.601589Z",
     "shell.execute_reply.started": "2023-10-20T15:18:38.598980Z"
    },
    "tags": []
   },
   "outputs": [],
   "source": [
    "# tools.append(sql_db_query)\n",
    "# tools.append(sql_db_schema)\n",
    "# tools.append(sql_db_list_tables)\n",
    "# tools.append(sql_db_query_checker)\n",
    "extra_tools.append(RWTool)"
   ]
  },
  {
   "cell_type": "code",
   "execution_count": 11,
   "id": "948b954f-ac2d-4532-8dd3-3470c065606c",
   "metadata": {
    "execution": {
     "iopub.execute_input": "2023-10-20T15:18:38.725339Z",
     "iopub.status.busy": "2023-10-20T15:18:38.724980Z",
     "iopub.status.idle": "2023-10-20T15:18:38.728865Z",
     "shell.execute_reply": "2023-10-20T15:18:38.728308Z",
     "shell.execute_reply.started": "2023-10-20T15:18:38.725300Z"
    },
    "tags": []
   },
   "outputs": [],
   "source": [
    "tools = toolkit.get_tools() + list(extra_tools)"
   ]
  },
  {
   "cell_type": "code",
   "execution_count": 23,
   "id": "33b8517a-4e13-49de-abea-841450de6fdd",
   "metadata": {
    "execution": {
     "iopub.execute_input": "2023-10-20T15:56:52.719489Z",
     "iopub.status.busy": "2023-10-20T15:56:52.719107Z",
     "iopub.status.idle": "2023-10-20T15:56:52.724153Z",
     "shell.execute_reply": "2023-10-20T15:56:52.723571Z",
     "shell.execute_reply.started": "2023-10-20T15:56:52.719464Z"
    },
    "tags": []
   },
   "outputs": [],
   "source": [
    "template = \"\"\"\n",
    "\n",
    "You are an agent designed to interact with a SQL database.\n",
    "Given an input question, create a syntactically correct sqlite query to run, then look at the results of the query and return the answer.\n",
    "Unless the user specifies a specific number of examples they wish to obtain, always limit your query to at most 10 results.\n",
    "You can order the results by a relevant column to return the most interesting examples in the database.\n",
    "Never query for all the columns from a specific table, only ask for the relevant columns given the question.\n",
    "You have access to tools for interacting with the database.\n",
    "Only use the below tools. Only use the information returned by the below tools to construct your final answer.\n",
    "You MUST double check your query before executing it. If you get an error while executing a query, rewrite the query and try again.\n",
    "\n",
    "DO NOT make any DML statements (INSERT, UPDATE, DELETE, DROP etc.) to the database.\n",
    "\n",
    "If the question does not seem related to the database, just return \"I don't know\" as the answer.\n",
    "\n",
    "sql_db_query: Input to this tool is a detailed and correct SQL query, output is a result from the database. If the query is not correct, an error message will be returned. If an error is returned, rewrite the query, check the query, and try again. If you encounter an issue with Unknown column 'xxxx' in 'field list', use sql_db_schema to query the correct table fields.\n",
    "sql_db_schema: Input to this tool is a comma-separated list of tables, output is the schema and sample rows for those tables. Be sure that the tables actually exist by calling sql_db_list_tables first! Example Input: 'table1, table2, table3'\n",
    "sql_db_list_tables: Input is an empty string, output is a comma separated list of tables in the database.\n",
    "sql_db_query_checker: Use this tool to double check if your query is correct before executing it. Always use this tool before executing a query with sql_db_query!\n",
    "Calculator: Useful for when you need to answer questions about math.\n",
    "RWTool: \n",
    "    This is a custom tool that calculates the risk weight from a set of input parameters:\n",
    "        PD - Probability of Default,\n",
    "        LGD - Loss Given Default,\n",
    "        MATURITY - Remaining maturity of the loan in years,\n",
    "        SIZE - The size of the client in MEUR, usually this is the client's turnover, \n",
    "        F_LARGE_FIN - If 'Y' the client is a Large Financial Institution        \n",
    "        \n",
    "\n",
    "Use the following format:\n",
    "\n",
    "Question: the input question you must answer\n",
    "Thought: you should always think about what to do\n",
    "Action: the action to take, should be one of [sql_db_query, sql_db_schema, sql_db_list_tables, sql_db_query_checker, Calculator, RWTool]\n",
    "Action Input: the input to the action\n",
    "Observation: the result of the action\n",
    "... (this Thought/Action/Action Input/Observation can repeat N times)\n",
    "Thought: I now know the final answer\n",
    "Final Answer: the final answer to the original input question\n",
    "\n",
    "Begin!\n",
    "\n",
    "Previous conversation history:\n",
    "{history}\n",
    "\n",
    "Question: {input}\n",
    "Thought: I should look at the tables in the database to see what I can query. Then I should query the schema of the most relevant tables.\n",
    "{agent_scratchpad}\n",
    "\n",
    "\"\"\""
   ]
  },
  {
   "cell_type": "code",
   "execution_count": 24,
   "id": "25ce3b62-5f43-4c7f-8b85-ff8c83387ef9",
   "metadata": {
    "execution": {
     "iopub.execute_input": "2023-10-20T15:56:54.934577Z",
     "iopub.status.busy": "2023-10-20T15:56:54.934188Z",
     "iopub.status.idle": "2023-10-20T15:56:54.940711Z",
     "shell.execute_reply": "2023-10-20T15:56:54.940145Z",
     "shell.execute_reply.started": "2023-10-20T15:56:54.934550Z"
    },
    "tags": []
   },
   "outputs": [],
   "source": [
    "class CustomPromptTemplate(StringPromptTemplate):\n",
    "    # The template to use\n",
    "    template: str\n",
    "    # The list of tools available\n",
    "    # tools: List[Tool]\n",
    "\n",
    "    def format(self, **kwargs) -> str:\n",
    "        # Get the intermediate steps (AgentAction, Observation tuples)\n",
    "        # Format them in a particular way\n",
    "        intermediate_steps = kwargs.pop(\"intermediate_steps\")\n",
    "        thoughts = \"\"\n",
    "        for action, observation in intermediate_steps:\n",
    "            thoughts += action.log\n",
    "            thoughts += f\"\\nObservation: {observation}\\nThought: \"\n",
    "        # Set the agent_scratchpad variable to that value\n",
    "        kwargs[\"agent_scratchpad\"] = thoughts\n",
    "        # # Create a tools variable from the list of tools provided\n",
    "        # kwargs[\"tools\"] = \"\\n\".join([f\"{tool.name}: {tool.description}\" for tool in self.tools])\n",
    "        # # Create a list of tool names for the tools provided\n",
    "        # kwargs[\"tool_names\"] = \", \".join([tool.name for tool in self.tools])\n",
    "        return self.template.format(**kwargs)"
   ]
  },
  {
   "cell_type": "code",
   "execution_count": 25,
   "id": "ca1066f2-34ba-4a33-8210-178ec25f529a",
   "metadata": {
    "execution": {
     "iopub.execute_input": "2023-10-20T15:56:57.162096Z",
     "iopub.status.busy": "2023-10-20T15:56:57.161721Z",
     "iopub.status.idle": "2023-10-20T15:56:57.165840Z",
     "shell.execute_reply": "2023-10-20T15:56:57.165189Z",
     "shell.execute_reply.started": "2023-10-20T15:56:57.162069Z"
    },
    "tags": []
   },
   "outputs": [],
   "source": [
    "prompt = CustomPromptTemplate(\n",
    "    template=template,\n",
    "    # tools=tools,\n",
    "    # This omits the `agent_scratchpad`, `tools`, and `tool_names` variables because those are generated dynamically\n",
    "    # This includes the `intermediate_steps` variable because that is needed\n",
    "    input_variables=[\"input\", \"intermediate_steps\", \"history\"]\n",
    ")\n",
    "\n",
    "# from langchain import PromptTemplate\n",
    "\n",
    "# prompt = PromptTemplate(\n",
    "#     input_variables=[\"input\", \"intermediate_steps\"],\n",
    "#     template=template\n",
    "# )"
   ]
  },
  {
   "cell_type": "code",
   "execution_count": 26,
   "id": "f15f0f05-c2f6-46a7-95c2-78495e7e624d",
   "metadata": {
    "execution": {
     "iopub.execute_input": "2023-10-20T15:56:59.510365Z",
     "iopub.status.busy": "2023-10-20T15:56:59.509993Z",
     "iopub.status.idle": "2023-10-20T15:56:59.516029Z",
     "shell.execute_reply": "2023-10-20T15:56:59.515431Z",
     "shell.execute_reply.started": "2023-10-20T15:56:59.510340Z"
    },
    "tags": []
   },
   "outputs": [],
   "source": [
    "class CustomOutputParser(AgentOutputParser):\n",
    "\n",
    "    def parse(self, llm_output: str) -> Union[AgentAction, AgentFinish]:\n",
    "        # Check if agent should finish\n",
    "        if \"Final Answer:\" in llm_output:\n",
    "            return AgentFinish(\n",
    "                # Return values is generally always a dictionary with a single `output` key\n",
    "                # It is not recommended to try anything else at the moment :)\n",
    "                return_values={\"output\": llm_output.split(\"Final Answer:\")[-1].strip()},\n",
    "                log=llm_output,\n",
    "            )\n",
    "        # Parse out the action and action input\n",
    "        regex = r\"Action\\s*\\d*\\s*:(.*?)\\nAction\\s*\\d*\\s*Input\\s*\\d*\\s*:[\\s]*(.*)\"\n",
    "        match = re.search(regex, llm_output, re.DOTALL)\n",
    "        if not match:\n",
    "            raise OutputParserException(f\"Could not parse LLM output: `{llm_output}`\")\n",
    "        action = match.group(1).strip()\n",
    "        action_input = match.group(2)\n",
    "        # Return the action and action input\n",
    "        return AgentAction(tool=action, tool_input=action_input.strip(\" \").strip('\"'), log=llm_output)"
   ]
  },
  {
   "cell_type": "code",
   "execution_count": 27,
   "id": "f21e67cf-725d-4266-9a47-fd9a749af940",
   "metadata": {
    "execution": {
     "iopub.execute_input": "2023-10-20T15:57:02.173030Z",
     "iopub.status.busy": "2023-10-20T15:57:02.172646Z",
     "iopub.status.idle": "2023-10-20T15:57:02.176188Z",
     "shell.execute_reply": "2023-10-20T15:57:02.175619Z",
     "shell.execute_reply.started": "2023-10-20T15:57:02.173005Z"
    },
    "tags": []
   },
   "outputs": [],
   "source": [
    "output_parser = CustomOutputParser()"
   ]
  },
  {
   "cell_type": "code",
   "execution_count": 28,
   "id": "b7925ad6-1bc4-479e-97ff-af3ea66ac236",
   "metadata": {
    "execution": {
     "iopub.execute_input": "2023-10-20T15:57:27.229918Z",
     "iopub.status.busy": "2023-10-20T15:57:27.229524Z",
     "iopub.status.idle": "2023-10-20T15:57:27.233448Z",
     "shell.execute_reply": "2023-10-20T15:57:27.232757Z",
     "shell.execute_reply.started": "2023-10-20T15:57:27.229894Z"
    },
    "tags": []
   },
   "outputs": [],
   "source": [
    "llm_chain = LLMChain(llm=llm, prompt=prompt)"
   ]
  },
  {
   "cell_type": "code",
   "execution_count": 29,
   "id": "f0ed4bd4-c1a9-48b5-8371-2cd22d4fc3b8",
   "metadata": {
    "execution": {
     "iopub.execute_input": "2023-10-20T15:57:28.695135Z",
     "iopub.status.busy": "2023-10-20T15:57:28.694739Z",
     "iopub.status.idle": "2023-10-20T15:57:28.698835Z",
     "shell.execute_reply": "2023-10-20T15:57:28.698209Z",
     "shell.execute_reply.started": "2023-10-20T15:57:28.695111Z"
    },
    "tags": []
   },
   "outputs": [],
   "source": [
    "tool_names = [tool.name for tool in tools]\n",
    "agent = LLMSingleActionAgent(\n",
    "    llm_chain=llm_chain,\n",
    "    output_parser=output_parser,\n",
    "    stop=[\"\\nObservation:\"],\n",
    "    allowed_tools=tool_names\n",
    ")"
   ]
  },
  {
   "cell_type": "code",
   "execution_count": 30,
   "id": "3741b8cc-6c4e-4879-92e7-4e4df5eda40a",
   "metadata": {
    "execution": {
     "iopub.execute_input": "2023-10-20T15:57:55.874068Z",
     "iopub.status.busy": "2023-10-20T15:57:55.873668Z",
     "iopub.status.idle": "2023-10-20T15:57:55.877474Z",
     "shell.execute_reply": "2023-10-20T15:57:55.876816Z",
     "shell.execute_reply.started": "2023-10-20T15:57:55.874041Z"
    },
    "tags": []
   },
   "outputs": [],
   "source": [
    "from langchain.memory import ConversationBufferWindowMemory\n",
    "memory=ConversationBufferWindowMemory(k=4)"
   ]
  },
  {
   "cell_type": "code",
   "execution_count": 31,
   "id": "f02e9990-931a-4b65-ba33-8b6082b0f7f4",
   "metadata": {
    "execution": {
     "iopub.execute_input": "2023-10-20T15:58:08.272788Z",
     "iopub.status.busy": "2023-10-20T15:58:08.272399Z",
     "iopub.status.idle": "2023-10-20T15:58:08.276510Z",
     "shell.execute_reply": "2023-10-20T15:58:08.275861Z",
     "shell.execute_reply.started": "2023-10-20T15:58:08.272762Z"
    },
    "tags": []
   },
   "outputs": [],
   "source": [
    "agent_executor = AgentExecutor.from_agent_and_tools(agent=agent, tools=tools, verbose=True, memory=memory)"
   ]
  },
  {
   "cell_type": "code",
   "execution_count": 32,
   "id": "49ec2a30-f00b-476c-bf02-bb69b0be06a1",
   "metadata": {
    "execution": {
     "iopub.execute_input": "2023-10-20T15:58:10.585548Z",
     "iopub.status.busy": "2023-10-20T15:58:10.585128Z",
     "iopub.status.idle": "2023-10-20T15:58:41.855353Z",
     "shell.execute_reply": "2023-10-20T15:58:41.854722Z",
     "shell.execute_reply.started": "2023-10-20T15:58:10.585519Z"
    },
    "tags": []
   },
   "outputs": [
    {
     "name": "stdout",
     "output_type": "stream",
     "text": [
      "\n",
      "\n",
      "\u001b[1m> Entering new AgentExecutor chain...\u001b[0m\n",
      "\u001b[32;1m\u001b[1;3mAction: sql_db_list_tables\n",
      "Action Input: \"\"\u001b[0m\n",
      "\n",
      "Observation:\u001b[38;5;200m\u001b[1;3mcorporate_portfolio\u001b[0m\n",
      "\u001b[32;1m\u001b[1;3mThe corporate_portfolio table seems to be the only table in the database. I should check its schema to see if it contains the information I need.\n",
      "Action: sql_db_schema\n",
      "Action Input: \"corporate_portfolio\"\u001b[0m\n",
      "\n",
      "Observation:\u001b[33;1m\u001b[1;3m\n",
      "CREATE TABLE corporate_portfolio (\n",
      "\t\"REPORTING_DATE\" TEXT, \n",
      "\t\"PARTNER_ID\" TEXT, \n",
      "\t\"LOAN_ID\" TEXT, \n",
      "\t\"PRODUCT\" TEXT, \n",
      "\t\"STATUS\" TEXT, \n",
      "\t\"EXPOSURE_DRAWN\" REAL, \n",
      "\t\"EXPOSURE_UNDRAWN\" REAL, \n",
      "\t\"EXPOSURE\" REAL, \n",
      "\t\"EAD\" REAL, \n",
      "\t\"EAD_COLL\" REAL, \n",
      "\t\"PD\" REAL, \n",
      "\t\"LGD\" REAL, \n",
      "\t\"SIZE\" REAL, \n",
      "\t\"MATURITY\" REAL, \n",
      "\t\"F_LARGE_FIN\" TEXT, \n",
      "\t\"RW\" REAL, \n",
      "\t\"RWA\" REAL\n",
      ")\n",
      "\n",
      "/*\n",
      "2 rows from corporate_portfolio table:\n",
      "REPORTING_DATE\tPARTNER_ID\tLOAN_ID\tPRODUCT\tSTATUS\tEXPOSURE_DRAWN\tEXPOSURE_UNDRAWN\tEXPOSURE\tEAD\tEAD_COLL\tPD\tLGD\tSIZE\tMATURITY\tF_LARGE_FIN\tRW\tRWA\n",
      "2022-12-31\tuawif424nf9573\t2507309957ifvm41\tINVESTMENT\tPerforming\t25088.77133\t0.0\t25088.77133\t25131.35378\t25131.35378\t0.0058159\t0.0\t0.123770567\t3.63013699\tN\t0.0\t0.0\n",
      "2022-12-31\tdninx621xv9731\t1439964799kgeq68\tCREDIT_CARD\tPerforming\t5141.569897\t4578.250143\t9719.82004\t7061.256068\t0.0\t0.0156611\t0.7026\t2.345659392\t1.41369863\tN\t1.196209223\t8446.739634\n",
      "*/\u001b[0m\n",
      "\u001b[32;1m\u001b[1;3mThe corporate_portfolio table contains the columns \"REPORTING_DATE\", \"EAD\", and \"RWA\" which are relevant to the question. I need to sum the \"EAD\" and \"RWA\" columns for the reporting date \"31-12-2022\". I will write a SQL query to do this and then check it.\n",
      "Action: sql_db_query_checker\n",
      "Action Input: \"SELECT SUM(EAD), SUM(RWA) FROM corporate_portfolio WHERE REPORTING_DATE = '2022-12-31'\"\u001b[0m\n",
      "\n",
      "Observation:\u001b[36;1m\u001b[1;3mSELECT SUM(EAD), SUM(RWA) FROM corporate_portfolio WHERE REPORTING_DATE = '2022-12-31'\u001b[0m\n",
      "\u001b[32;1m\u001b[1;3mThe query is correct. Now I will execute it to get the total EAD and RWA for the reporting date \"31-12-2022\".\n",
      "Action: sql_db_query\n",
      "Action Input: \"SELECT SUM(EAD), SUM(RWA) FROM corporate_portfolio WHERE REPORTING_DATE = '2022-12-31'\"\u001b[0m\n",
      "\n",
      "Observation:\u001b[36;1m\u001b[1;3m[(156657332.34921697, 85075812.12498187)]\u001b[0m\n",
      "\u001b[32;1m\u001b[1;3mI now know the final answer\n",
      "Final Answer: The total EAD for reporting date 31-12-2022 is 156,657,332.35 and the total RWA is 85,075,812.12.\u001b[0m\n",
      "\n",
      "\u001b[1m> Finished chain.\u001b[0m\n"
     ]
    },
    {
     "data": {
      "text/plain": [
       "'The total EAD for reporting date 31-12-2022 is 156,657,332.35 and the total RWA is 85,075,812.12.'"
      ]
     },
     "execution_count": 32,
     "metadata": {},
     "output_type": "execute_result"
    }
   ],
   "source": [
    "agent_executor.run(\"What are total RWA and EAD for reporting date 31-12-2022?\")"
   ]
  },
  {
   "cell_type": "code",
   "execution_count": 21,
   "id": "7f5d555d-0114-48a7-a156-863283fe9679",
   "metadata": {
    "execution": {
     "iopub.execute_input": "2023-10-20T15:19:35.931772Z",
     "iopub.status.busy": "2023-10-20T15:19:35.931380Z",
     "iopub.status.idle": "2023-10-20T15:20:23.582129Z",
     "shell.execute_reply": "2023-10-20T15:20:23.581030Z",
     "shell.execute_reply.started": "2023-10-20T15:19:35.931746Z"
    },
    "tags": []
   },
   "outputs": [
    {
     "name": "stdout",
     "output_type": "stream",
     "text": [
      "\n",
      "\n",
      "\u001b[1m> Entering new AgentExecutor chain...\u001b[0m\n",
      "\u001b[32;1m\u001b[1;3mAction: sql_db_list_tables\n",
      "Action Input: \"\"\u001b[0m\n",
      "\n",
      "Observation:\u001b[38;5;200m\u001b[1;3mcorporate_portfolio\u001b[0m\n",
      "\u001b[32;1m\u001b[1;3mThe corporate_portfolio table seems to be the most relevant one for this question. I should check its schema to understand its structure and the data it contains.\n",
      "Action: sql_db_schema\n",
      "Action Input: \"corporate_portfolio\"\u001b[0m\n",
      "\n",
      "Observation:\u001b[33;1m\u001b[1;3m\n",
      "CREATE TABLE corporate_portfolio (\n",
      "\t\"REPORTING_DATE\" TEXT, \n",
      "\t\"PARTNER_ID\" TEXT, \n",
      "\t\"LOAN_ID\" TEXT, \n",
      "\t\"PRODUCT\" TEXT, \n",
      "\t\"STATUS\" TEXT, \n",
      "\t\"EXPOSURE_DRAWN\" REAL, \n",
      "\t\"EXPOSURE_UNDRAWN\" REAL, \n",
      "\t\"EXPOSURE\" REAL, \n",
      "\t\"EAD\" REAL, \n",
      "\t\"EAD_COLL\" REAL, \n",
      "\t\"PD\" REAL, \n",
      "\t\"LGD\" REAL, \n",
      "\t\"SIZE\" REAL, \n",
      "\t\"MATURITY\" REAL, \n",
      "\t\"F_LARGE_FIN\" TEXT, \n",
      "\t\"RW\" REAL, \n",
      "\t\"RWA\" REAL\n",
      ")\n",
      "\n",
      "/*\n",
      "2 rows from corporate_portfolio table:\n",
      "REPORTING_DATE\tPARTNER_ID\tLOAN_ID\tPRODUCT\tSTATUS\tEXPOSURE_DRAWN\tEXPOSURE_UNDRAWN\tEXPOSURE\tEAD\tEAD_COLL\tPD\tLGD\tSIZE\tMATURITY\tF_LARGE_FIN\tRW\tRWA\n",
      "2022-12-31\tuawif424nf9573\t2507309957ifvm41\tINVESTMENT\tPerforming\t25088.77133\t0.0\t25088.77133\t25131.35378\t25131.35378\t0.0058159\t0.0\t0.123770567\t3.63013699\tN\t0.0\t0.0\n",
      "2022-12-31\tdninx621xv9731\t1439964799kgeq68\tCREDIT_CARD\tPerforming\t5141.569897\t4578.250143\t9719.82004\t7061.256068\t0.0\t0.0156611\t0.7026\t2.345659392\t1.41369863\tN\t1.196209223\t8446.739634\n",
      "*/\u001b[0m\n",
      "\u001b[32;1m\u001b[1;3mThe corporate_portfolio table contains the RWA and REPORTING_DATE columns which are relevant to the question. I need to calculate the change in total RWA from 2022-12-31 to 2023-03-31. I will write a query to sum the RWA for these two dates and then calculate the difference.\n",
      "Action: sql_db_query_checker\n",
      "Action Input: \n",
      "\"SELECT REPORTING_DATE, SUM(RWA) as TOTAL_RWA FROM corporate_portfolio WHERE REPORTING_DATE IN ('2022-12-31', '2023-03-31') GROUP BY REPORTING_DATE\"\u001b[0m\n",
      "\n",
      "Observation:\u001b[36;1m\u001b[1;3mSELECT REPORTING_DATE, SUM(RWA) as TOTAL_RWA FROM corporate_portfolio WHERE REPORTING_DATE IN ('2022-12-31', '2023-03-31') GROUP BY REPORTING_DATE\u001b[0m\n",
      "\u001b[32;1m\u001b[1;3mThe query is correct. Now I will execute it to get the total RWA for the two dates.\n",
      "Action: sql_db_query\n",
      "Action Input: \n",
      "\"SELECT REPORTING_DATE, SUM(RWA) as TOTAL_RWA FROM corporate_portfolio WHERE REPORTING_DATE IN ('2022-12-31', '2023-03-31') GROUP BY REPORTING_DATE\"\u001b[0m\n",
      "\n",
      "Observation:\u001b[36;1m\u001b[1;3m[('2022-12-31', 85075812.12498187), ('2023-03-31', 77146831.5352424)]\u001b[0m\n",
      "\u001b[32;1m\u001b[1;3mI have the total RWA for the two dates. Now I need to calculate the change in total RWA from 2022-12-31 to 2023-03-31.\n",
      "Action: Calculator\n",
      "Action Input: 77146831.5352424 - 85075812.12498187\u001b[0m\n",
      "\n",
      "Observation:\u001b[33;1m\u001b[1;3mAnswer: -7928980.589739472\u001b[0m\n",
      "\u001b[32;1m\u001b[1;3mI now know the final answer\n",
      "Final Answer: The change in total RWA from reporting date 2022-12-31 to reporting date 2023-03-31 is -7928980.59.\u001b[0m\n",
      "\n",
      "\u001b[1m> Finished chain.\u001b[0m\n"
     ]
    },
    {
     "data": {
      "text/plain": [
       "'The change in total RWA from reporting date 2022-12-31 to reporting date 2023-03-31 is -7928980.59.'"
      ]
     },
     "execution_count": 21,
     "metadata": {},
     "output_type": "execute_result"
    }
   ],
   "source": [
    "agent_executor.run(\"What is the change in total RWA from reporting date 2022-12-31 to reporting date 2023-03-31?\")"
   ]
  },
  {
   "cell_type": "code",
   "execution_count": 22,
   "id": "b166dcf8-3e00-46f4-a908-6e4912c858af",
   "metadata": {
    "execution": {
     "iopub.execute_input": "2023-10-20T15:20:34.416692Z",
     "iopub.status.busy": "2023-10-20T15:20:34.416288Z",
     "iopub.status.idle": "2023-10-20T15:21:24.074983Z",
     "shell.execute_reply": "2023-10-20T15:21:24.074389Z",
     "shell.execute_reply.started": "2023-10-20T15:20:34.416666Z"
    },
    "tags": []
   },
   "outputs": [
    {
     "name": "stdout",
     "output_type": "stream",
     "text": [
      "\n",
      "\n",
      "\u001b[1m> Entering new AgentExecutor chain...\u001b[0m\n",
      "\u001b[32;1m\u001b[1;3mAction: sql_db_list_tables\n",
      "Action Input: \"\"\u001b[0m\n",
      "\n",
      "Observation:\u001b[38;5;200m\u001b[1;3mcorporate_portfolio\u001b[0m\n",
      "\u001b[32;1m\u001b[1;3mThe corporate_portfolio table seems to be the most relevant one for this query. I should check its schema to understand the structure and the fields it contains.\n",
      "Action: sql_db_schema\n",
      "Action Input: \"corporate_portfolio\"\u001b[0m\n",
      "\n",
      "Observation:\u001b[33;1m\u001b[1;3m\n",
      "CREATE TABLE corporate_portfolio (\n",
      "\t\"REPORTING_DATE\" TEXT, \n",
      "\t\"PARTNER_ID\" TEXT, \n",
      "\t\"LOAN_ID\" TEXT, \n",
      "\t\"PRODUCT\" TEXT, \n",
      "\t\"STATUS\" TEXT, \n",
      "\t\"EXPOSURE_DRAWN\" REAL, \n",
      "\t\"EXPOSURE_UNDRAWN\" REAL, \n",
      "\t\"EXPOSURE\" REAL, \n",
      "\t\"EAD\" REAL, \n",
      "\t\"EAD_COLL\" REAL, \n",
      "\t\"PD\" REAL, \n",
      "\t\"LGD\" REAL, \n",
      "\t\"SIZE\" REAL, \n",
      "\t\"MATURITY\" REAL, \n",
      "\t\"F_LARGE_FIN\" TEXT, \n",
      "\t\"RW\" REAL, \n",
      "\t\"RWA\" REAL\n",
      ")\n",
      "\n",
      "/*\n",
      "2 rows from corporate_portfolio table:\n",
      "REPORTING_DATE\tPARTNER_ID\tLOAN_ID\tPRODUCT\tSTATUS\tEXPOSURE_DRAWN\tEXPOSURE_UNDRAWN\tEXPOSURE\tEAD\tEAD_COLL\tPD\tLGD\tSIZE\tMATURITY\tF_LARGE_FIN\tRW\tRWA\n",
      "2022-12-31\tuawif424nf9573\t2507309957ifvm41\tINVESTMENT\tPerforming\t25088.77133\t0.0\t25088.77133\t25131.35378\t25131.35378\t0.0058159\t0.0\t0.123770567\t3.63013699\tN\t0.0\t0.0\n",
      "2022-12-31\tdninx621xv9731\t1439964799kgeq68\tCREDIT_CARD\tPerforming\t5141.569897\t4578.250143\t9719.82004\t7061.256068\t0.0\t0.0156611\t0.7026\t2.345659392\t1.41369863\tN\t1.196209223\t8446.739634\n",
      "*/\u001b[0m\n",
      "\u001b[32;1m\u001b[1;3mThe corporate_portfolio table contains the necessary fields for the query. The fields of interest are REPORTING_DATE, LOAN_ID, STATUS, and EXPOSURE. I need to find the total exposure of loans that have a status of 'Performing' on 2022-12-31 and 'Non Performing' on 2023-03-31. I will write a SQL query to get this information.\n",
      "Action: sql_db_query_checker\n",
      "Action Input: \n",
      "\"\"\"\n",
      "SELECT SUM(EXPOSURE) \n",
      "FROM corporate_portfolio \n",
      "WHERE LOAN_ID IN (\n",
      "    SELECT LOAN_ID \n",
      "    FROM corporate_portfolio \n",
      "    WHERE STATUS = 'Performing' AND REPORTING_DATE = '2022-12-31'\n",
      ") \n",
      "AND STATUS = 'Non Performing' AND REPORTING_DATE = '2023-03-31'\n",
      "\"\"\"\u001b[0m\n",
      "\n",
      "Observation:\u001b[36;1m\u001b[1;3mSELECT SUM(EXPOSURE) \n",
      "FROM corporate_portfolio \n",
      "WHERE LOAN_ID IN (\n",
      "    SELECT LOAN_ID \n",
      "    FROM corporate_portfolio \n",
      "    WHERE STATUS = 'Performing' AND REPORTING_DATE = '2022-12-31'\n",
      ") \n",
      "AND STATUS = 'Non Performing' AND REPORTING_DATE = '2023-03-31'\u001b[0m\n",
      "\u001b[32;1m\u001b[1;3mThe query is correct. Now I will execute it to get the total exposure of loans that have a status of 'Performing' on 2022-12-31 and 'Non Performing' on 2023-03-31.\n",
      "Action: sql_db_query\n",
      "Action Input: \n",
      "\"\"\"\n",
      "SELECT SUM(EXPOSURE) \n",
      "FROM corporate_portfolio \n",
      "WHERE LOAN_ID IN (\n",
      "    SELECT LOAN_ID \n",
      "    FROM corporate_portfolio \n",
      "    WHERE STATUS = 'Performing' AND REPORTING_DATE = '2022-12-31'\n",
      ") \n",
      "AND STATUS = 'Non Performing' AND REPORTING_DATE = '2023-03-31'\n",
      "\"\"\"\u001b[0m\n",
      "\n",
      "Observation:\u001b[36;1m\u001b[1;3m[(589368.6751999999,)]\u001b[0m\n",
      "\u001b[32;1m\u001b[1;3mI now know the final answer\n",
      "Final Answer: The total exposure of only those loan ids that have status from Performing on reporting date 2022-12-31 and status Non Performing on reporting date 2023-03-31 is 589368.68.\u001b[0m\n",
      "\n",
      "\u001b[1m> Finished chain.\u001b[0m\n"
     ]
    },
    {
     "data": {
      "text/plain": [
       "'The total exposure of only those loan ids that have status from Performing on reporting date 2022-12-31 and status Non Performing on reporting date 2023-03-31 is 589368.68.'"
      ]
     },
     "execution_count": 22,
     "metadata": {},
     "output_type": "execute_result"
    }
   ],
   "source": [
    "agent_executor.run(\"What is the total exposure of only those loan ids that have status from Performing on reporting date 2022-12-31 and status Non Performing on reporting date 2023-03-31?\")"
   ]
  },
  {
   "cell_type": "code",
   "execution_count": null,
   "id": "b5810309-3a89-4b52-aa48-ccfc2ad332a7",
   "metadata": {},
   "outputs": [],
   "source": []
  },
  {
   "cell_type": "code",
   "execution_count": null,
   "id": "dd374ebc-29ed-4eef-9004-167384507f7d",
   "metadata": {},
   "outputs": [],
   "source": []
  },
  {
   "cell_type": "code",
   "execution_count": null,
   "id": "cd1d0673-b6b3-4ec1-b212-976e82f62e00",
   "metadata": {},
   "outputs": [],
   "source": []
  },
  {
   "cell_type": "code",
   "execution_count": null,
   "id": "87dcf4e2-201c-41bc-bcd7-3d113f375082",
   "metadata": {},
   "outputs": [],
   "source": []
  },
  {
   "cell_type": "markdown",
   "id": "2e79a255-73fd-4e2a-a827-4a7acaed37bc",
   "metadata": {},
   "source": [
    "#### sql + rw"
   ]
  },
  {
   "cell_type": "code",
   "execution_count": 33,
   "id": "deec3f0f-d955-4592-ba04-f2532a82dc9e",
   "metadata": {
    "execution": {
     "iopub.execute_input": "2023-10-20T15:59:00.242131Z",
     "iopub.status.busy": "2023-10-20T15:59:00.241723Z",
     "iopub.status.idle": "2023-10-20T15:59:48.060457Z",
     "shell.execute_reply": "2023-10-20T15:59:48.059710Z",
     "shell.execute_reply.started": "2023-10-20T15:59:00.242105Z"
    },
    "tags": []
   },
   "outputs": [
    {
     "name": "stdout",
     "output_type": "stream",
     "text": [
      "\n",
      "\n",
      "\u001b[1m> Entering new AgentExecutor chain...\u001b[0m\n",
      "\u001b[32;1m\u001b[1;3mAction: sql_db_list_tables\n",
      "Action Input: \"\"\u001b[0m\n",
      "\n",
      "Observation:\u001b[38;5;200m\u001b[1;3mcorporate_portfolio\u001b[0m\n",
      "\u001b[32;1m\u001b[1;3mThe corporate_portfolio table is available in the database. I should now check the schema of this table to understand its structure and the data it contains.\n",
      "Action: sql_db_schema\n",
      "Action Input: \"corporate_portfolio\" \u001b[0m\n",
      "\n",
      "Observation:\u001b[33;1m\u001b[1;3m\n",
      "CREATE TABLE corporate_portfolio (\n",
      "\t\"REPORTING_DATE\" TEXT, \n",
      "\t\"PARTNER_ID\" TEXT, \n",
      "\t\"LOAN_ID\" TEXT, \n",
      "\t\"PRODUCT\" TEXT, \n",
      "\t\"STATUS\" TEXT, \n",
      "\t\"EXPOSURE_DRAWN\" REAL, \n",
      "\t\"EXPOSURE_UNDRAWN\" REAL, \n",
      "\t\"EXPOSURE\" REAL, \n",
      "\t\"EAD\" REAL, \n",
      "\t\"EAD_COLL\" REAL, \n",
      "\t\"PD\" REAL, \n",
      "\t\"LGD\" REAL, \n",
      "\t\"SIZE\" REAL, \n",
      "\t\"MATURITY\" REAL, \n",
      "\t\"F_LARGE_FIN\" TEXT, \n",
      "\t\"RW\" REAL, \n",
      "\t\"RWA\" REAL\n",
      ")\n",
      "\n",
      "/*\n",
      "2 rows from corporate_portfolio table:\n",
      "REPORTING_DATE\tPARTNER_ID\tLOAN_ID\tPRODUCT\tSTATUS\tEXPOSURE_DRAWN\tEXPOSURE_UNDRAWN\tEXPOSURE\tEAD\tEAD_COLL\tPD\tLGD\tSIZE\tMATURITY\tF_LARGE_FIN\tRW\tRWA\n",
      "2022-12-31\tuawif424nf9573\t2507309957ifvm41\tINVESTMENT\tPerforming\t25088.77133\t0.0\t25088.77133\t25131.35378\t25131.35378\t0.0058159\t0.0\t0.123770567\t3.63013699\tN\t0.0\t0.0\n",
      "2022-12-31\tdninx621xv9731\t1439964799kgeq68\tCREDIT_CARD\tPerforming\t5141.569897\t4578.250143\t9719.82004\t7061.256068\t0.0\t0.0156611\t0.7026\t2.345659392\t1.41369863\tN\t1.196209223\t8446.739634\n",
      "*/\u001b[0m\n",
      "\u001b[32;1m\u001b[1;3mThe corporate_portfolio table contains the information I need to answer the question. I will write a SQL query to retrieve the information for loan id 1439964799kgeq68 and for reporting date 31-12-2022.\n",
      "Action: sql_db_query_checker\n",
      "Action Input: \"SELECT * FROM corporate_portfolio WHERE LOAN_ID = '1439964799kgeq68' AND REPORTING_DATE = '2022-12-31' LIMIT 10;\"\u001b[0m\n",
      "\n",
      "Observation:\u001b[36;1m\u001b[1;3mSELECT * FROM corporate_portfolio WHERE LOAN_ID = '1439964799kgeq68' AND REPORTING_DATE = '2022-12-31' LIMIT 10;\u001b[0m\n",
      "\u001b[32;1m\u001b[1;3mThe query is correct. Now I will execute it to get the information for loan id 1439964799kgeq68 and for reporting date 31-12-2022.\n",
      "Action: sql_db_query\n",
      "Action Input: \"SELECT * FROM corporate_portfolio WHERE LOAN_ID = '1439964799kgeq68' AND REPORTING_DATE = '2022-12-31' LIMIT 10;\"\u001b[0m\n",
      "\n",
      "Observation:\u001b[36;1m\u001b[1;3m[('2022-12-31', 'dninx621xv9731', '1439964799kgeq68', 'CREDIT_CARD', 'Performing', 5141.569897, 4578.250143, 9719.82004, 7061.256068, 0.0, 0.0156611, 0.7026, 2.345659392, 1.41369863, 'N', 1.196209223, 8446.739634)]\u001b[0m\n",
      "\u001b[32;1m\u001b[1;3mI now know the final answer\n",
      "Final Answer: The information for loan id 1439964799kgeq68 and for reporting date 31-12-2022 is as follows: \n",
      "- Reporting Date: 2022-12-31\n",
      "- Partner ID: dninx621xv9731\n",
      "- Loan ID: 1439964799kgeq68\n",
      "- Product: CREDIT_CARD\n",
      "- Status: Performing\n",
      "- Exposure Drawn: 5141.569897\n",
      "- Exposure Undrawn: 4578.250143\n",
      "- Exposure: 9719.82004\n",
      "- EAD: 7061.256068\n",
      "- EAD Coll: 0.0\n",
      "- PD: 0.0156611\n",
      "- LGD: 0.7026\n",
      "- Size: 2.345659392\n",
      "- Maturity: 1.41369863\n",
      "- F Large Fin: N\n",
      "- RW: 1.196209223\n",
      "- RWA: 8446.739634\u001b[0m\n",
      "\n",
      "\u001b[1m> Finished chain.\u001b[0m\n"
     ]
    },
    {
     "data": {
      "text/plain": [
       "'The information for loan id 1439964799kgeq68 and for reporting date 31-12-2022 is as follows: \\n- Reporting Date: 2022-12-31\\n- Partner ID: dninx621xv9731\\n- Loan ID: 1439964799kgeq68\\n- Product: CREDIT_CARD\\n- Status: Performing\\n- Exposure Drawn: 5141.569897\\n- Exposure Undrawn: 4578.250143\\n- Exposure: 9719.82004\\n- EAD: 7061.256068\\n- EAD Coll: 0.0\\n- PD: 0.0156611\\n- LGD: 0.7026\\n- Size: 2.345659392\\n- Maturity: 1.41369863\\n- F Large Fin: N\\n- RW: 1.196209223\\n- RWA: 8446.739634'"
      ]
     },
     "execution_count": 33,
     "metadata": {},
     "output_type": "execute_result"
    }
   ],
   "source": [
    "agent_executor.run(\"Read the information in table corporate_portfolio for loan id 1439964799kgeq68 and for reporting date 31-12-2022\")"
   ]
  },
  {
   "cell_type": "code",
   "execution_count": null,
   "id": "7f7642ed-2d8f-485a-8d21-5163ea7cc455",
   "metadata": {},
   "outputs": [],
   "source": []
  },
  {
   "cell_type": "code",
   "execution_count": 34,
   "id": "667f4bcd-b21d-4a5f-ab38-3e5e8e97fd3c",
   "metadata": {
    "execution": {
     "iopub.execute_input": "2023-10-20T16:09:08.881696Z",
     "iopub.status.busy": "2023-10-20T16:09:08.881260Z",
     "iopub.status.idle": "2023-10-20T16:09:46.837581Z",
     "shell.execute_reply": "2023-10-20T16:09:46.836939Z",
     "shell.execute_reply.started": "2023-10-20T16:09:08.881669Z"
    }
   },
   "outputs": [
    {
     "name": "stdout",
     "output_type": "stream",
     "text": [
      "\n",
      "\n",
      "\u001b[1m> Entering new AgentExecutor chain...\u001b[0m\n",
      "\u001b[32;1m\u001b[1;3mAction: sql_db_list_tables\n",
      "Action Input: \"\"\u001b[0m\n",
      "\n",
      "Observation:\u001b[38;5;200m\u001b[1;3mcorporate_portfolio\u001b[0m\n",
      "\u001b[32;1m\u001b[1;3mThe corporate_portfolio table seems to be the most relevant one. I should check its schema to confirm.\n",
      "Action: sql_db_schema\n",
      "Action Input: \"corporate_portfolio\"\u001b[0m\n",
      "\n",
      "Observation:\u001b[33;1m\u001b[1;3m\n",
      "CREATE TABLE corporate_portfolio (\n",
      "\t\"REPORTING_DATE\" TEXT, \n",
      "\t\"PARTNER_ID\" TEXT, \n",
      "\t\"LOAN_ID\" TEXT, \n",
      "\t\"PRODUCT\" TEXT, \n",
      "\t\"STATUS\" TEXT, \n",
      "\t\"EXPOSURE_DRAWN\" REAL, \n",
      "\t\"EXPOSURE_UNDRAWN\" REAL, \n",
      "\t\"EXPOSURE\" REAL, \n",
      "\t\"EAD\" REAL, \n",
      "\t\"EAD_COLL\" REAL, \n",
      "\t\"PD\" REAL, \n",
      "\t\"LGD\" REAL, \n",
      "\t\"SIZE\" REAL, \n",
      "\t\"MATURITY\" REAL, \n",
      "\t\"F_LARGE_FIN\" TEXT, \n",
      "\t\"RW\" REAL, \n",
      "\t\"RWA\" REAL\n",
      ")\n",
      "\n",
      "/*\n",
      "2 rows from corporate_portfolio table:\n",
      "REPORTING_DATE\tPARTNER_ID\tLOAN_ID\tPRODUCT\tSTATUS\tEXPOSURE_DRAWN\tEXPOSURE_UNDRAWN\tEXPOSURE\tEAD\tEAD_COLL\tPD\tLGD\tSIZE\tMATURITY\tF_LARGE_FIN\tRW\tRWA\n",
      "2022-12-31\tuawif424nf9573\t2507309957ifvm41\tINVESTMENT\tPerforming\t25088.77133\t0.0\t25088.77133\t25131.35378\t25131.35378\t0.0058159\t0.0\t0.123770567\t3.63013699\tN\t0.0\t0.0\n",
      "2022-12-31\tdninx621xv9731\t1439964799kgeq68\tCREDIT_CARD\tPerforming\t5141.569897\t4578.250143\t9719.82004\t7061.256068\t0.0\t0.0156611\t0.7026\t2.345659392\t1.41369863\tN\t1.196209223\t8446.739634\n",
      "*/\u001b[0m\n",
      "\u001b[32;1m\u001b[1;3mThe corporate_portfolio table contains the necessary information to calculate the risk weight (RW). The RWTool can be used to calculate the risk weight (RW) if the probability of default (PD) doubles. The parameters needed for the RWTool are PD, LGD, MATURITY, SIZE, and F_LARGE_FIN. These parameters can be obtained from the corporate_portfolio table for the specific loan id and reporting date.\n",
      "\n",
      "Action: sql_db_query\n",
      "Action Input: \"SELECT PD, LGD, MATURITY, SIZE, F_LARGE_FIN FROM corporate_portfolio WHERE LOAN_ID = '1439964799kgeq68' AND REPORTING_DATE = '2022-12-31' LIMIT 1\"\u001b[0m\n",
      "\n",
      "Observation:\u001b[36;1m\u001b[1;3m[(0.0156611, 0.7026, 1.41369863, 2.345659392, 'N')]\u001b[0m\n",
      "\u001b[32;1m\u001b[1;3mI have obtained the necessary parameters from the corporate_portfolio table. The PD is 0.0156611, LGD is 0.7026, MATURITY is 1.41369863, SIZE is 2.345659392, and F_LARGE_FIN is 'N'. Now, I will use the RWTool to calculate the risk weight (RW) if the PD doubles. \n",
      "\n",
      "Action: RWTool\n",
      "Action Input: {'PD': 0.0156611*2, 'LGD': 0.7026, 'MATURITY': 1.41369863, 'SIZE': 2.345659392, 'F_LARGE_FIN': 'N'}\u001b[0m\n",
      "\n",
      "Observation:\u001b[38;5;200m\u001b[1;3m1.4635028819790805\u001b[0m\n",
      "\u001b[32;1m\u001b[1;3mI now know the final answer\n",
      "Final Answer: If the Probability of Default (PD) doubles, the Risk Weight (RW) will be approximately 1.4635.\u001b[0m\n",
      "\n",
      "\u001b[1m> Finished chain.\u001b[0m\n"
     ]
    },
    {
     "data": {
      "text/plain": [
       "'If the Probability of Default (PD) doubles, the Risk Weight (RW) will be approximately 1.4635.'"
      ]
     },
     "execution_count": 34,
     "metadata": {},
     "output_type": "execute_result"
    }
   ],
   "source": [
    "agent_executor.run(\"What will be the RW if PD doubles\")"
   ]
  },
  {
   "cell_type": "code",
   "execution_count": null,
   "id": "610fc690-3d33-41e2-b167-da41017b37bb",
   "metadata": {},
   "outputs": [],
   "source": []
  },
  {
   "cell_type": "code",
   "execution_count": 35,
   "id": "5dbaad7b-94ef-4084-a5c4-d63110f13698",
   "metadata": {
    "execution": {
     "iopub.execute_input": "2023-10-20T16:11:23.361855Z",
     "iopub.status.busy": "2023-10-20T16:11:23.361459Z",
     "iopub.status.idle": "2023-10-20T16:11:46.583792Z",
     "shell.execute_reply": "2023-10-20T16:11:46.583123Z",
     "shell.execute_reply.started": "2023-10-20T16:11:23.361831Z"
    }
   },
   "outputs": [
    {
     "name": "stdout",
     "output_type": "stream",
     "text": [
      "\n",
      "\n",
      "\u001b[1m> Entering new AgentExecutor chain...\u001b[0m\n",
      "\u001b[32;1m\u001b[1;3mAction: sql_db_list_tables\n",
      "Action Input: \"\"\u001b[0m\n",
      "\n",
      "Observation:\u001b[38;5;200m\u001b[1;3mcorporate_portfolio\u001b[0m\n",
      "\u001b[32;1m\u001b[1;3mThe corporate_portfolio table seems to be the most relevant one for this question. I should query its schema to understand its structure and the data it contains.\n",
      "Action: sql_db_schema\n",
      "Action Input: \"corporate_portfolio\" \u001b[0m\n",
      "\n",
      "Observation:\u001b[33;1m\u001b[1;3m\n",
      "CREATE TABLE corporate_portfolio (\n",
      "\t\"REPORTING_DATE\" TEXT, \n",
      "\t\"PARTNER_ID\" TEXT, \n",
      "\t\"LOAN_ID\" TEXT, \n",
      "\t\"PRODUCT\" TEXT, \n",
      "\t\"STATUS\" TEXT, \n",
      "\t\"EXPOSURE_DRAWN\" REAL, \n",
      "\t\"EXPOSURE_UNDRAWN\" REAL, \n",
      "\t\"EXPOSURE\" REAL, \n",
      "\t\"EAD\" REAL, \n",
      "\t\"EAD_COLL\" REAL, \n",
      "\t\"PD\" REAL, \n",
      "\t\"LGD\" REAL, \n",
      "\t\"SIZE\" REAL, \n",
      "\t\"MATURITY\" REAL, \n",
      "\t\"F_LARGE_FIN\" TEXT, \n",
      "\t\"RW\" REAL, \n",
      "\t\"RWA\" REAL\n",
      ")\n",
      "\n",
      "/*\n",
      "2 rows from corporate_portfolio table:\n",
      "REPORTING_DATE\tPARTNER_ID\tLOAN_ID\tPRODUCT\tSTATUS\tEXPOSURE_DRAWN\tEXPOSURE_UNDRAWN\tEXPOSURE\tEAD\tEAD_COLL\tPD\tLGD\tSIZE\tMATURITY\tF_LARGE_FIN\tRW\tRWA\n",
      "2022-12-31\tuawif424nf9573\t2507309957ifvm41\tINVESTMENT\tPerforming\t25088.77133\t0.0\t25088.77133\t25131.35378\t25131.35378\t0.0058159\t0.0\t0.123770567\t3.63013699\tN\t0.0\t0.0\n",
      "2022-12-31\tdninx621xv9731\t1439964799kgeq68\tCREDIT_CARD\tPerforming\t5141.569897\t4578.250143\t9719.82004\t7061.256068\t0.0\t0.0156611\t0.7026\t2.345659392\t1.41369863\tN\t1.196209223\t8446.739634\n",
      "*/\u001b[0m\n",
      "\u001b[32;1m\u001b[1;3mThe corporate_portfolio table contains the necessary information to calculate the Risk Weight (RW) if the Loss Given Default (LGD) doubles. The relevant columns are PD, LGD, MATURITY, SIZE, and F_LARGE_FIN. The loan id 1439964799kgeq68 and reporting date 31-12-2022 are also important to identify the correct row. I will use the RWTool to calculate the new RW if LGD doubles.\n",
      "Action: RWTool\n",
      "Action Input: {\"PD\": 0.0156611, \"LGD\": 0.7026*2, \"MATURITY\": 1.41369863, \"SIZE\": 2.345659392, \"F_LARGE_FIN\": \"N\"}\u001b[0m\n",
      "\n",
      "Observation:\u001b[38;5;200m\u001b[1;3m2.3924184459086373\u001b[0m\n",
      "\u001b[32;1m\u001b[1;3mI now know the final answer\n",
      "Final Answer: If the Loss Given Default (LGD) doubles, the Risk Weight (RW) will be approximately 2.3924.\u001b[0m\n",
      "\n",
      "\u001b[1m> Finished chain.\u001b[0m\n"
     ]
    },
    {
     "data": {
      "text/plain": [
       "'If the Loss Given Default (LGD) doubles, the Risk Weight (RW) will be approximately 2.3924.'"
      ]
     },
     "execution_count": 35,
     "metadata": {},
     "output_type": "execute_result"
    }
   ],
   "source": [
    "agent_executor.run(\"What about if LGD doubles\")"
   ]
  },
  {
   "cell_type": "code",
   "execution_count": null,
   "id": "fd1fe668-a009-4bcb-b0d0-4e9bac7822e7",
   "metadata": {},
   "outputs": [],
   "source": []
  },
  {
   "cell_type": "code",
   "execution_count": 36,
   "id": "0947ec84-bb67-4f65-817c-f1fe91a5cd1d",
   "metadata": {
    "execution": {
     "iopub.execute_input": "2023-10-20T16:12:46.915658Z",
     "iopub.status.busy": "2023-10-20T16:12:46.915263Z",
     "iopub.status.idle": "2023-10-20T16:12:55.740662Z",
     "shell.execute_reply": "2023-10-20T16:12:55.739892Z",
     "shell.execute_reply.started": "2023-10-20T16:12:46.915632Z"
    }
   },
   "outputs": [
    {
     "name": "stdout",
     "output_type": "stream",
     "text": [
      "\n",
      "\n",
      "\u001b[1m> Entering new AgentExecutor chain...\u001b[0m\n",
      "\u001b[32;1m\u001b[1;3mAction: RWTool\n",
      "Action Input: {\"PD\": 0.0156611, \"LGD\": 0.7026, \"MATURITY\": 6.23, \"SIZE\": 2.345659392, \"F_LARGE_FIN\": \"N\"}\u001b[0m\n",
      "\n",
      "Observation:\u001b[38;5;200m\u001b[1;3m1.9901793310985323\u001b[0m\n",
      "\u001b[32;1m\u001b[1;3mI now know the final answer.\n",
      "Final Answer: If the remaining maturity of the loan becomes 6.23 years, the Risk Weight (RW) will be approximately 1.9902.\u001b[0m\n",
      "\n",
      "\u001b[1m> Finished chain.\u001b[0m\n"
     ]
    },
    {
     "data": {
      "text/plain": [
       "'If the remaining maturity of the loan becomes 6.23 years, the Risk Weight (RW) will be approximately 1.9902.'"
      ]
     },
     "execution_count": 36,
     "metadata": {},
     "output_type": "execute_result"
    }
   ],
   "source": [
    "agent_executor.run(\"And if MATURITY becomes 6.23\")"
   ]
  },
  {
   "cell_type": "code",
   "execution_count": null,
   "id": "dc365500-b504-4a50-a4c7-4916bf025e68",
   "metadata": {},
   "outputs": [],
   "source": []
  },
  {
   "cell_type": "code",
   "execution_count": 37,
   "id": "0922d2c6-c7ee-48f8-9aa3-931256c21c7b",
   "metadata": {
    "execution": {
     "iopub.execute_input": "2023-10-20T16:13:09.731042Z",
     "iopub.status.busy": "2023-10-20T16:13:09.730642Z",
     "iopub.status.idle": "2023-10-20T16:13:18.474251Z",
     "shell.execute_reply": "2023-10-20T16:13:18.473507Z",
     "shell.execute_reply.started": "2023-10-20T16:13:09.731016Z"
    }
   },
   "outputs": [
    {
     "name": "stdout",
     "output_type": "stream",
     "text": [
      "\n",
      "\n",
      "\u001b[1m> Entering new AgentExecutor chain...\u001b[0m\n",
      "\u001b[32;1m\u001b[1;3mAction: RWTool\n",
      "Action Input: {\"PD\": 0.0313222, \"LGD\": 1.4052, \"MATURITY\": 6.23, \"SIZE\": 2.345659392, \"F_LARGE_FIN\": \"N\"}\u001b[0m\n",
      "\n",
      "Observation:\u001b[38;5;200m\u001b[1;3m4.420645788063997\u001b[0m\n",
      "\u001b[32;1m\u001b[1;3mI now know the final answer.\n",
      "Final Answer: If all three parameters change like that, the Risk Weight (RW) will be approximately 4.4206.\u001b[0m\n",
      "\n",
      "\u001b[1m> Finished chain.\u001b[0m\n"
     ]
    },
    {
     "data": {
      "text/plain": [
       "'If all three parameters change like that, the Risk Weight (RW) will be approximately 4.4206.'"
      ]
     },
     "execution_count": 37,
     "metadata": {},
     "output_type": "execute_result"
    }
   ],
   "source": [
    "agent_executor.run(\"What if all three parameters change like that?\")"
   ]
  },
  {
   "cell_type": "code",
   "execution_count": null,
   "id": "c3c81eda-73b6-424b-a22e-23c2066db26c",
   "metadata": {},
   "outputs": [],
   "source": []
  },
  {
   "cell_type": "code",
   "execution_count": 38,
   "id": "34775e87-4422-4c80-8fe6-e599211f4ece",
   "metadata": {
    "execution": {
     "iopub.execute_input": "2023-10-20T16:13:54.542125Z",
     "iopub.status.busy": "2023-10-20T16:13:54.541737Z",
     "iopub.status.idle": "2023-10-20T16:14:42.685148Z",
     "shell.execute_reply": "2023-10-20T16:14:42.684548Z",
     "shell.execute_reply.started": "2023-10-20T16:13:54.542099Z"
    },
    "tags": []
   },
   "outputs": [
    {
     "name": "stdout",
     "output_type": "stream",
     "text": [
      "\n",
      "\n",
      "\u001b[1m> Entering new AgentExecutor chain...\u001b[0m\n",
      "\u001b[32;1m\u001b[1;3mAction: sql_db_list_tables\n",
      "Action Input: \"\"\u001b[0m\n",
      "\n",
      "Observation:\u001b[38;5;200m\u001b[1;3mcorporate_portfolio\u001b[0m\n",
      "\u001b[32;1m\u001b[1;3mThe corporate_portfolio table is available. Now I need to check the schema of this table to understand its structure and the data it contains.\n",
      "Action: sql_db_schema\n",
      "Action Input: \"corporate_portfolio\"\u001b[0m\n",
      "\n",
      "Observation:\u001b[33;1m\u001b[1;3m\n",
      "CREATE TABLE corporate_portfolio (\n",
      "\t\"REPORTING_DATE\" TEXT, \n",
      "\t\"PARTNER_ID\" TEXT, \n",
      "\t\"LOAN_ID\" TEXT, \n",
      "\t\"PRODUCT\" TEXT, \n",
      "\t\"STATUS\" TEXT, \n",
      "\t\"EXPOSURE_DRAWN\" REAL, \n",
      "\t\"EXPOSURE_UNDRAWN\" REAL, \n",
      "\t\"EXPOSURE\" REAL, \n",
      "\t\"EAD\" REAL, \n",
      "\t\"EAD_COLL\" REAL, \n",
      "\t\"PD\" REAL, \n",
      "\t\"LGD\" REAL, \n",
      "\t\"SIZE\" REAL, \n",
      "\t\"MATURITY\" REAL, \n",
      "\t\"F_LARGE_FIN\" TEXT, \n",
      "\t\"RW\" REAL, \n",
      "\t\"RWA\" REAL\n",
      ")\n",
      "\n",
      "/*\n",
      "2 rows from corporate_portfolio table:\n",
      "REPORTING_DATE\tPARTNER_ID\tLOAN_ID\tPRODUCT\tSTATUS\tEXPOSURE_DRAWN\tEXPOSURE_UNDRAWN\tEXPOSURE\tEAD\tEAD_COLL\tPD\tLGD\tSIZE\tMATURITY\tF_LARGE_FIN\tRW\tRWA\n",
      "2022-12-31\tuawif424nf9573\t2507309957ifvm41\tINVESTMENT\tPerforming\t25088.77133\t0.0\t25088.77133\t25131.35378\t25131.35378\t0.0058159\t0.0\t0.123770567\t3.63013699\tN\t0.0\t0.0\n",
      "2022-12-31\tdninx621xv9731\t1439964799kgeq68\tCREDIT_CARD\tPerforming\t5141.569897\t4578.250143\t9719.82004\t7061.256068\t0.0\t0.0156611\t0.7026\t2.345659392\t1.41369863\tN\t1.196209223\t8446.739634\n",
      "*/\u001b[0m\n",
      "\u001b[32;1m\u001b[1;3mThe corporate_portfolio table contains the information I need to answer the question. I will write a SQL query to retrieve the information for the loan id \"1439964799kgeq68\" and reporting date \"2023-03-31\".\n",
      "Action: sql_db_query_checker\n",
      "Action Input: \"SELECT * FROM corporate_portfolio WHERE LOAN_ID = '1439964799kgeq68' AND REPORTING_DATE = '2023-03-31' LIMIT 10\"\u001b[0m\n",
      "\n",
      "Observation:\u001b[36;1m\u001b[1;3mSELECT * FROM corporate_portfolio WHERE LOAN_ID = '1439964799kgeq68' AND REPORTING_DATE = '2023-03-31' LIMIT 10\u001b[0m\n",
      "\u001b[32;1m\u001b[1;3mThe query is correct. Now I will execute it to get the information for the loan id \"1439964799kgeq68\" and reporting date \"2023-03-31\".\n",
      "Action: sql_db_query\n",
      "Action Input: \"SELECT * FROM corporate_portfolio WHERE LOAN_ID = '1439964799kgeq68' AND REPORTING_DATE = '2023-03-31' LIMIT 10\"\u001b[0m\n",
      "\n",
      "Observation:\u001b[36;1m\u001b[1;3m[('2023-03-31', 'dninx621xv9731', '1439964799kgeq68', 'CREDIT_CARD', 'Performing', 4419.698264, 5181.260533, 9600.958796, 6582.517105, 0.0, 0.0470619, 0.7026, 2.345659392, 1.16438356, 'N', 1.623828837, 10688.8811)]\u001b[0m\n",
      "\u001b[32;1m\u001b[1;3mI now know the final answer\n",
      "Final Answer: The information for loan id \"1439964799kgeq68\" and reporting date \"2023-03-31\" is as follows: \n",
      "- Reporting Date: 2023-03-31\n",
      "- Partner ID: dninx621xv9731\n",
      "- Loan ID: 1439964799kgeq68\n",
      "- Product: CREDIT_CARD\n",
      "- Status: Performing\n",
      "- Exposure Drawn: 4419.698264\n",
      "- Exposure Undrawn: 5181.260533\n",
      "- Exposure: 9600.958796\n",
      "- EAD: 6582.517105\n",
      "- EAD Coll: 0.0\n",
      "- PD: 0.0470619\n",
      "- LGD: 0.7026\n",
      "- Size: 2.345659392\n",
      "- Maturity: 1.16438356\n",
      "- F Large Fin: N\n",
      "- RW: 1.623828837\n",
      "- RWA: 10688.8811\u001b[0m\n",
      "\n",
      "\u001b[1m> Finished chain.\u001b[0m\n"
     ]
    },
    {
     "data": {
      "text/plain": [
       "'The information for loan id \"1439964799kgeq68\" and reporting date \"2023-03-31\" is as follows: \\n- Reporting Date: 2023-03-31\\n- Partner ID: dninx621xv9731\\n- Loan ID: 1439964799kgeq68\\n- Product: CREDIT_CARD\\n- Status: Performing\\n- Exposure Drawn: 4419.698264\\n- Exposure Undrawn: 5181.260533\\n- Exposure: 9600.958796\\n- EAD: 6582.517105\\n- EAD Coll: 0.0\\n- PD: 0.0470619\\n- LGD: 0.7026\\n- Size: 2.345659392\\n- Maturity: 1.16438356\\n- F Large Fin: N\\n- RW: 1.623828837\\n- RWA: 10688.8811'"
      ]
     },
     "execution_count": 38,
     "metadata": {},
     "output_type": "execute_result"
    }
   ],
   "source": [
    "agent_executor.run(\"Start over again and read the all information in table corporate_portfolio for loan id 1439964799kgeq68 but for reporting date 2023-03-31\")"
   ]
  },
  {
   "cell_type": "code",
   "execution_count": null,
   "id": "ecca417b-62e6-4b65-b64b-8a487a66a6db",
   "metadata": {},
   "outputs": [],
   "source": []
  },
  {
   "cell_type": "code",
   "execution_count": 39,
   "id": "fe409172-0a05-4942-b747-f5b0ca29c3ad",
   "metadata": {
    "execution": {
     "iopub.execute_input": "2023-10-20T16:15:16.877851Z",
     "iopub.status.busy": "2023-10-20T16:15:16.877448Z",
     "iopub.status.idle": "2023-10-20T16:16:15.265184Z",
     "shell.execute_reply": "2023-10-20T16:16:15.264420Z",
     "shell.execute_reply.started": "2023-10-20T16:15:16.877826Z"
    }
   },
   "outputs": [
    {
     "name": "stdout",
     "output_type": "stream",
     "text": [
      "\n",
      "\n",
      "\u001b[1m> Entering new AgentExecutor chain...\u001b[0m\n",
      "\u001b[32;1m\u001b[1;3mAction: sql_db_list_tables\n",
      "Action Input: \"\"\u001b[0m\n",
      "\n",
      "Observation:\u001b[38;5;200m\u001b[1;3mcorporate_portfolio\u001b[0m\n",
      "\u001b[32;1m\u001b[1;3mThe corporate_portfolio table seems to be the most relevant one for this query. I should check its schema to confirm.\n",
      "Action: sql_db_schema\n",
      "Action Input: \"corporate_portfolio\" \u001b[0m\n",
      "\n",
      "Observation:\u001b[33;1m\u001b[1;3m\n",
      "CREATE TABLE corporate_portfolio (\n",
      "\t\"REPORTING_DATE\" TEXT, \n",
      "\t\"PARTNER_ID\" TEXT, \n",
      "\t\"LOAN_ID\" TEXT, \n",
      "\t\"PRODUCT\" TEXT, \n",
      "\t\"STATUS\" TEXT, \n",
      "\t\"EXPOSURE_DRAWN\" REAL, \n",
      "\t\"EXPOSURE_UNDRAWN\" REAL, \n",
      "\t\"EXPOSURE\" REAL, \n",
      "\t\"EAD\" REAL, \n",
      "\t\"EAD_COLL\" REAL, \n",
      "\t\"PD\" REAL, \n",
      "\t\"LGD\" REAL, \n",
      "\t\"SIZE\" REAL, \n",
      "\t\"MATURITY\" REAL, \n",
      "\t\"F_LARGE_FIN\" TEXT, \n",
      "\t\"RW\" REAL, \n",
      "\t\"RWA\" REAL\n",
      ")\n",
      "\n",
      "/*\n",
      "2 rows from corporate_portfolio table:\n",
      "REPORTING_DATE\tPARTNER_ID\tLOAN_ID\tPRODUCT\tSTATUS\tEXPOSURE_DRAWN\tEXPOSURE_UNDRAWN\tEXPOSURE\tEAD\tEAD_COLL\tPD\tLGD\tSIZE\tMATURITY\tF_LARGE_FIN\tRW\tRWA\n",
      "2022-12-31\tuawif424nf9573\t2507309957ifvm41\tINVESTMENT\tPerforming\t25088.77133\t0.0\t25088.77133\t25131.35378\t25131.35378\t0.0058159\t0.0\t0.123770567\t3.63013699\tN\t0.0\t0.0\n",
      "2022-12-31\tdninx621xv9731\t1439964799kgeq68\tCREDIT_CARD\tPerforming\t5141.569897\t4578.250143\t9719.82004\t7061.256068\t0.0\t0.0156611\t0.7026\t2.345659392\t1.41369863\tN\t1.196209223\t8446.739634\n",
      "*/\u001b[0m\n",
      "\u001b[32;1m\u001b[1;3mThe corporate_portfolio table contains the information I need. I can see the PD column and the REPORTING_DATE column. I will write a query to get the PD values for the loan id \"1439964799kgeq68\" for the reporting dates \"2022-12-31\" and \"2023-03-31\".\n",
      "Action: sql_db_query_checker\n",
      "Action Input: \"SELECT REPORTING_DATE, PD FROM corporate_portfolio WHERE LOAN_ID = '1439964799kgeq68' AND (REPORTING_DATE = '2022-12-31' OR REPORTING_DATE = '2023-03-31') ORDER BY REPORTING_DATE DESC LIMIT 10\"\u001b[0m\n",
      "\n",
      "Observation:\u001b[36;1m\u001b[1;3mSELECT REPORTING_DATE, PD FROM corporate_portfolio WHERE LOAN_ID = '1439964799kgeq68' AND (REPORTING_DATE = '2022-12-31' OR REPORTING_DATE = '2023-03-31') ORDER BY REPORTING_DATE DESC LIMIT 10\u001b[0m\n",
      "\u001b[32;1m\u001b[1;3mThe query is correct. Now I will execute it to get the PD values for the loan id \"1439964799kgeq68\" for the reporting dates \"2022-12-31\" and \"2023-03-31\".\n",
      "Action: sql_db_query\n",
      "Action Input: \"SELECT REPORTING_DATE, PD FROM corporate_portfolio WHERE LOAN_ID = '1439964799kgeq68' AND (REPORTING_DATE = '2022-12-31' OR REPORTING_DATE = '2023-03-31') ORDER BY REPORTING_DATE DESC LIMIT 10\"\u001b[0m\n",
      "\n",
      "Observation:\u001b[36;1m\u001b[1;3m[('2023-03-31', 0.0470619), ('2022-12-31', 0.0156611)]\u001b[0m\n",
      "\u001b[32;1m\u001b[1;3mI have the PD values for the loan id \"1439964799kgeq68\" for the reporting dates \"2022-12-31\" and \"2023-03-31\". Now I will calculate the change in PD between these two dates.\n",
      "Action: Calculator\n",
      "Action Input: {\"equation\": \"0.0470619 - 0.0156611\"}\u001b[0m\n",
      "\n",
      "Observation:\u001b[33;1m\u001b[1;3mAnswer: 0.03140079999999999\u001b[0m\n",
      "\u001b[32;1m\u001b[1;3mI now know the final answer\n",
      "Final Answer: The change in PD for loan id 1439964799kgeq68 between reporting date 2022-12-31 and 2023-03-31 is approximately 0.0314.\u001b[0m\n",
      "\n",
      "\u001b[1m> Finished chain.\u001b[0m\n"
     ]
    },
    {
     "data": {
      "text/plain": [
       "'The change in PD for loan id 1439964799kgeq68 between reporting date 2022-12-31 and 2023-03-31 is approximately 0.0314.'"
      ]
     },
     "execution_count": 39,
     "metadata": {},
     "output_type": "execute_result"
    }
   ],
   "source": [
    "agent_executor.run(\"What is the change in PD for loan id 1439964799kgeq68 between reporting date 2022-12-31 and 2023-03-31\")"
   ]
  },
  {
   "cell_type": "code",
   "execution_count": null,
   "id": "2ed72d60-3b35-4620-9a50-da001c390c5a",
   "metadata": {},
   "outputs": [],
   "source": []
  },
  {
   "cell_type": "code",
   "execution_count": null,
   "id": "5bc7bcfd-8dab-42d7-9a0e-4231d4aee83c",
   "metadata": {},
   "outputs": [],
   "source": []
  }
 ],
 "metadata": {
  "kernelspec": {
   "display_name": "saturn (Python 3)",
   "language": "python",
   "name": "python3"
  },
  "language_info": {
   "codemirror_mode": {
    "name": "ipython",
    "version": 3
   },
   "file_extension": ".py",
   "mimetype": "text/x-python",
   "name": "python",
   "nbconvert_exporter": "python",
   "pygments_lexer": "ipython3",
   "version": "3.9.15"
  }
 },
 "nbformat": 4,
 "nbformat_minor": 5
}
