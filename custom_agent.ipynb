{
 "cells": [
  {
   "cell_type": "code",
   "execution_count": 5,
   "id": "e555460c-4010-40d3-a235-1dcc79412745",
   "metadata": {
    "execution": {
     "iopub.execute_input": "2023-10-20T18:27:20.078127Z",
     "iopub.status.busy": "2023-10-20T18:27:20.077729Z",
     "iopub.status.idle": "2023-10-20T18:27:20.083178Z",
     "shell.execute_reply": "2023-10-20T18:27:20.082571Z",
     "shell.execute_reply.started": "2023-10-20T18:27:20.078102Z"
    },
    "tags": []
   },
   "outputs": [],
   "source": [
    "from langchain.chat_models import ChatOpenAI\n",
    "from langchain import SQLDatabase\n",
    "from langchain.agents.agent_toolkits import SQLDatabaseToolkit\n",
    "from langchain.agents import Tool, AgentExecutor, LLMSingleActionAgent, AgentOutputParser, create_sql_agent, load_tools\n",
    "from langchain.prompts import StringPromptTemplate\n",
    "from langchain.chains import LLMChain\n",
    "from langchain.memory import ConversationBufferWindowMemory\n",
    "from langchain.tools import Tool, BaseTool\n",
    "from langchain.schema import AgentAction, AgentFinish, OutputParserException\n",
    "from pydantic.v1 import BaseModel, Field\n",
    "from scipy.stats import norm\n",
    "from typing import List, Union\n",
    "import math\n",
    "import re"
   ]
  },
  {
   "cell_type": "code",
   "execution_count": 6,
   "id": "9ec5cdcc-d056-4519-b603-bf12c3100363",
   "metadata": {
    "execution": {
     "iopub.execute_input": "2023-10-20T18:27:21.746669Z",
     "iopub.status.busy": "2023-10-20T18:27:21.746256Z",
     "iopub.status.idle": "2023-10-20T18:27:21.750489Z",
     "shell.execute_reply": "2023-10-20T18:27:21.749945Z",
     "shell.execute_reply.started": "2023-10-20T18:27:21.746637Z"
    },
    "tags": []
   },
   "outputs": [],
   "source": [
    "import os\n",
    "from dotenv import load_dotenv\n",
    "load_dotenv()\n",
    "OPENAI_API_KEY = os.getenv('OPENAI_API_KEY')"
   ]
  },
  {
   "cell_type": "code",
   "execution_count": 7,
   "id": "ed315fb8-25b5-42bd-969c-77c475d3d1f4",
   "metadata": {
    "execution": {
     "iopub.execute_input": "2023-10-20T18:27:21.930156Z",
     "iopub.status.busy": "2023-10-20T18:27:21.929776Z",
     "iopub.status.idle": "2023-10-20T18:27:21.933476Z",
     "shell.execute_reply": "2023-10-20T18:27:21.932888Z",
     "shell.execute_reply.started": "2023-10-20T18:27:21.930132Z"
    },
    "tags": []
   },
   "outputs": [],
   "source": [
    "llm = ChatOpenAI(model_name='gpt-4',temperature=0)\n",
    "# llm = ChatOpenAI(model_name=\"gpt-3.5-turbo-0613\",temperature=0)"
   ]
  },
  {
   "cell_type": "code",
   "execution_count": 8,
   "id": "597e739d-01a4-41a0-a537-cb8812849f22",
   "metadata": {
    "execution": {
     "iopub.execute_input": "2023-10-20T18:27:23.195873Z",
     "iopub.status.busy": "2023-10-20T18:27:23.195479Z",
     "iopub.status.idle": "2023-10-20T18:27:23.205815Z",
     "shell.execute_reply": "2023-10-20T18:27:23.205131Z",
     "shell.execute_reply.started": "2023-10-20T18:27:23.195848Z"
    },
    "tags": []
   },
   "outputs": [],
   "source": [
    "db = SQLDatabase.from_uri(\"sqlite:///./portfolio_data.db\",\n",
    "                         include_tables=['corporate_portfolio'],\n",
    "                         sample_rows_in_table_info=2\n",
    ")\n",
    "toolkit = SQLDatabaseToolkit(db=db, llm=llm)\n",
    "\n",
    "sql_agent = create_sql_agent(\n",
    "    llm=llm,\n",
    "    toolkit=toolkit,\n",
    "    verbose=True\n",
    ") "
   ]
  },
  {
   "cell_type": "code",
   "execution_count": 9,
   "id": "c61fd8cc-7571-4d68-8b9d-c91a9c5a2d6f",
   "metadata": {
    "execution": {
     "iopub.execute_input": "2023-10-20T18:27:25.746526Z",
     "iopub.status.busy": "2023-10-20T18:27:25.746159Z",
     "iopub.status.idle": "2023-10-20T18:27:25.756418Z",
     "shell.execute_reply": "2023-10-20T18:27:25.755868Z",
     "shell.execute_reply.started": "2023-10-20T18:27:25.746501Z"
    },
    "tags": []
   },
   "outputs": [],
   "source": [
    "def rw_corp(Input_String: str) -> str:\n",
    "\n",
    "    \"\"\" \n",
    "    calculates the risk weight from input parameters \n",
    "    PD, LGD, MATURITY, F_LARGE_FIN and SIZE which are fed into the formula in this particular order \n",
    "    \"\"\"\n",
    "    \n",
    "    PD_s, LGD_s, MATURITY_s, SIZE_s, F_LARGE_FIN_s = Input_String.split(\",\")\n",
    "\n",
    "    PD = float(eval(PD_s.split(\":\")[1].strip()))\n",
    "    LGD = float(eval(LGD_s.split(\":\")[1].strip()))\n",
    "    MATURITY = float(eval(MATURITY_s.split(\":\")[1].strip()))\n",
    "    SIZE = float(eval(SIZE_s.split(\":\")[1].strip()))\n",
    "    F_LARGE_FIN = (F_LARGE_FIN_s.split(\":\")[1].strip())\n",
    "       \n",
    "    pd_final = max(0.0003, PD)\n",
    "    size_final = max(5, min(SIZE, 50))    \n",
    "    r0 = (0.12 * (1.0 - math.exp(-50.0 * pd_final)) / (1.0 - math.exp(-50.0))) + \\\n",
    "        (0.24 * (1.0 - (1 - math.exp(-50.0 * pd_final)) / (1.0 - math.exp(-50.0)))) - \\\n",
    "        (0.04 * (1.0 - (size_final - 5.0) / 45.0))\n",
    "    if F_LARGE_FIN == 'Y':\n",
    "        r = r0 * 1.25\n",
    "    else:\n",
    "        r = r0\n",
    "    b = (0.11852 - 0.05478 * math.log(pd_final)) ** 2\n",
    "    ma = ((1 - 1.5 * b) ** -1) * (1 + (MATURITY - 2.5) * b)    \n",
    "    rw = ((LGD * norm.cdf((1 - r) ** -0.5 * norm.ppf(pd_final) + (r / (1 - r)) ** 0.5 * norm.ppf(0.999)) - pd_final * LGD) * ma) * 12.5 * 1.06\n",
    "    return rw  \n",
    "\n",
    "class RWInput(BaseModel):\n",
    "    Input_String: str = Field(description='This is a string that contains values for the input parameters \\\n",
    "                              PD, LGD, MATURITY, SIZE and F_LARGE_FIN which are fed into the formula in this particular order ')\n",
    "    \n",
    "RWTool = Tool.from_function(\n",
    "    func=rw_corp,\n",
    "    name=\"RWTool\",\n",
    "    description=\"\"\"\n",
    "    This is a custom tool that calculates the risk weight from a set of input parameters:\n",
    "        PD - Probability of Default,\n",
    "        LGD - Loss Given Default,\n",
    "        MATURITY - Remaining maturity of the loan in years,\n",
    "        SIZE - The size of the client in MEUR, usually this is the client's turnover, \n",
    "        F_LARGE_FIN - If 'Y' the client is a Large Financial Institution        \n",
    "        \"\"\",\n",
    "    args_schema=RWInput\n",
    ")"
   ]
  },
  {
   "cell_type": "code",
   "execution_count": 10,
   "id": "7eb83cb8-b509-4e17-9a47-08a0b5f59f6c",
   "metadata": {
    "execution": {
     "iopub.execute_input": "2023-10-20T18:27:28.898137Z",
     "iopub.status.busy": "2023-10-20T18:27:28.897753Z",
     "iopub.status.idle": "2023-10-20T18:27:28.905717Z",
     "shell.execute_reply": "2023-10-20T18:27:28.905135Z",
     "shell.execute_reply.started": "2023-10-20T18:27:28.898114Z"
    },
    "tags": []
   },
   "outputs": [],
   "source": [
    "extra_tools = load_tools(\n",
    "    ['llm-math'],\n",
    "    llm=llm\n",
    ")\n",
    "\n",
    "extra_tools.append(RWTool)\n",
    "\n",
    "tools = toolkit.get_tools() + list(extra_tools)"
   ]
  },
  {
   "cell_type": "code",
   "execution_count": 11,
   "id": "33b8517a-4e13-49de-abea-841450de6fdd",
   "metadata": {
    "execution": {
     "iopub.execute_input": "2023-10-20T18:27:31.344515Z",
     "iopub.status.busy": "2023-10-20T18:27:31.344140Z",
     "iopub.status.idle": "2023-10-20T18:27:31.349584Z",
     "shell.execute_reply": "2023-10-20T18:27:31.348743Z",
     "shell.execute_reply.started": "2023-10-20T18:27:31.344491Z"
    },
    "tags": []
   },
   "outputs": [],
   "source": [
    "template = \"\"\"\n",
    "You are an agent designed to interact with a SQL database.\n",
    "Given an input question, create a syntactically correct sqlite query to run, then look at the results of the query and return the answer.\n",
    "Unless the user specifies a specific number of examples they wish to obtain, always limit your query to at most 10 results.\n",
    "You can order the results by a relevant column to return the most interesting examples in the database.\n",
    "Never query for all the columns from a specific table, only ask for the relevant columns given the question.\n",
    "You have access to tools for interacting with the database.\n",
    "Only use the below tools. Only use the information returned by the below tools to construct your final answer.\n",
    "You MUST double check your query before executing it. If you get an error while executing a query, rewrite the query and try again.\n",
    "\n",
    "DO NOT make any DML statements (INSERT, UPDATE, DELETE, DROP etc.) to the database.\n",
    "\n",
    "If the question does not seem related to the database, just return \"I don't know\" as the answer.\n",
    "\n",
    "sql_db_query: Input to this tool is a detailed and correct SQL query, output is a result from the database. If the query is not correct, an error message will be returned. If an error is returned, rewrite the query, check the query, and try again. If you encounter an issue with Unknown column 'xxxx' in 'field list', use sql_db_schema to query the correct table fields.\n",
    "sql_db_schema: Input to this tool is a comma-separated list of tables, output is the schema and sample rows for those tables. Be sure that the tables actually exist by calling sql_db_list_tables first! Example Input: 'table1, table2, table3'\n",
    "sql_db_list_tables: Input is an empty string, output is a comma separated list of tables in the database.\n",
    "sql_db_query_checker: Use this tool to double check if your query is correct before executing it. Always use this tool before executing a query with sql_db_query!\n",
    "Calculator: Useful for when you need to answer questions about math.\n",
    "RWTool: \n",
    "    This is a custom tool that calculates the risk weight from a set of input parameters:\n",
    "        PD - Probability of Default,\n",
    "        LGD - Loss Given Default,\n",
    "        MATURITY - Remaining maturity of the loan in years,\n",
    "        SIZE - The size of the client in MEUR, usually this is the client's turnover, \n",
    "        F_LARGE_FIN - If 'Y' the client is a Large Financial Institution               \n",
    "\n",
    "Use the following format:\n",
    "Question: the input question you must answer\n",
    "Thought: you should always think about what to do\n",
    "Action: the action to take, should be one of [sql_db_query, sql_db_schema, sql_db_list_tables, sql_db_query_checker, Calculator, RWTool]\n",
    "Action Input: the input to the action\n",
    "Observation: the result of the action\n",
    "... (this Thought/Action/Action Input/Observation can repeat N times)\n",
    "Thought: I now know the final answer\n",
    "Final Answer: the final answer to the original input question\n",
    "\n",
    "Begin!\n",
    "\n",
    "Previous conversation history:\n",
    "{history}\n",
    "\n",
    "Question: {input}\n",
    "Thought: I should look at the tables in the database to see what I can query. Then I should query the schema of the most relevant tables.\n",
    "{agent_scratchpad}\n",
    "\"\"\""
   ]
  },
  {
   "cell_type": "code",
   "execution_count": 12,
   "id": "25ce3b62-5f43-4c7f-8b85-ff8c83387ef9",
   "metadata": {
    "execution": {
     "iopub.execute_input": "2023-10-20T18:27:33.617238Z",
     "iopub.status.busy": "2023-10-20T18:27:33.616874Z",
     "iopub.status.idle": "2023-10-20T18:27:33.623613Z",
     "shell.execute_reply": "2023-10-20T18:27:33.622880Z",
     "shell.execute_reply.started": "2023-10-20T18:27:33.617213Z"
    },
    "tags": []
   },
   "outputs": [],
   "source": [
    "class CustomPromptTemplate(StringPromptTemplate):\n",
    "    template: str\n",
    "    def format(self, **kwargs) -> str:\n",
    "        intermediate_steps = kwargs.pop(\"intermediate_steps\")\n",
    "        thoughts = \"\"\n",
    "        for action, observation in intermediate_steps:\n",
    "            thoughts += action.log\n",
    "            thoughts += f\"\\nObservation: {observation}\\nThought: \"\n",
    "        kwargs[\"agent_scratchpad\"] = thoughts\n",
    "        return self.template.format(**kwargs)"
   ]
  },
  {
   "cell_type": "code",
   "execution_count": 13,
   "id": "ca1066f2-34ba-4a33-8210-178ec25f529a",
   "metadata": {
    "execution": {
     "iopub.execute_input": "2023-10-20T18:27:35.370318Z",
     "iopub.status.busy": "2023-10-20T18:27:35.369930Z",
     "iopub.status.idle": "2023-10-20T18:27:35.374172Z",
     "shell.execute_reply": "2023-10-20T18:27:35.373370Z",
     "shell.execute_reply.started": "2023-10-20T18:27:35.370295Z"
    },
    "tags": []
   },
   "outputs": [],
   "source": [
    "prompt = CustomPromptTemplate(\n",
    "    template=template,\n",
    "    input_variables=[\"input\", \"intermediate_steps\", \"history\"]\n",
    ")"
   ]
  },
  {
   "cell_type": "code",
   "execution_count": 14,
   "id": "f15f0f05-c2f6-46a7-95c2-78495e7e624d",
   "metadata": {
    "execution": {
     "iopub.execute_input": "2023-10-20T18:27:37.651209Z",
     "iopub.status.busy": "2023-10-20T18:27:37.650813Z",
     "iopub.status.idle": "2023-10-20T18:27:37.657236Z",
     "shell.execute_reply": "2023-10-20T18:27:37.656444Z",
     "shell.execute_reply.started": "2023-10-20T18:27:37.651185Z"
    },
    "tags": []
   },
   "outputs": [],
   "source": [
    "class CustomOutputParser(AgentOutputParser):\n",
    "\n",
    "    def parse(self, llm_output: str) -> Union[AgentAction, AgentFinish]:\n",
    "        if \"Final Answer:\" in llm_output:\n",
    "            return AgentFinish(\n",
    "                return_values={\"output\": llm_output.split(\"Final Answer:\")[-1].strip()},\n",
    "                log=llm_output,\n",
    "            )\n",
    "        regex = r\"Action\\s*\\d*\\s*:(.*?)\\nAction\\s*\\d*\\s*Input\\s*\\d*\\s*:[\\s]*(.*)\"\n",
    "        match = re.search(regex, llm_output, re.DOTALL)\n",
    "        if not match:\n",
    "            raise OutputParserException(f\"Could not parse LLM output: `{llm_output}`\")\n",
    "        action = match.group(1).strip()\n",
    "        action_input = match.group(2)\n",
    "        return AgentAction(tool=action, tool_input=action_input.strip(\" \").strip('\"'), log=llm_output)\n",
    "    \n",
    "output_parser = CustomOutputParser()"
   ]
  },
  {
   "cell_type": "code",
   "execution_count": 15,
   "id": "f0ed4bd4-c1a9-48b5-8371-2cd22d4fc3b8",
   "metadata": {
    "execution": {
     "iopub.execute_input": "2023-10-20T18:27:39.947739Z",
     "iopub.status.busy": "2023-10-20T18:27:39.947338Z",
     "iopub.status.idle": "2023-10-20T18:27:39.953724Z",
     "shell.execute_reply": "2023-10-20T18:27:39.953046Z",
     "shell.execute_reply.started": "2023-10-20T18:27:39.947714Z"
    },
    "tags": []
   },
   "outputs": [],
   "source": [
    "llm_chain = LLMChain(llm=llm, prompt=prompt)\n",
    "\n",
    "tool_names = [tool.name for tool in tools]\n",
    "\n",
    "agent = LLMSingleActionAgent(\n",
    "    llm_chain=llm_chain,\n",
    "    output_parser=output_parser,\n",
    "    stop=[\"\\nObservation:\"],\n",
    "    allowed_tools=tool_names\n",
    ")\n",
    "\n",
    "memory=ConversationBufferWindowMemory(k=4)\n",
    "\n",
    "agent_executor = AgentExecutor.from_agent_and_tools(agent=agent, tools=tools, verbose=True, memory=memory)"
   ]
  },
  {
   "cell_type": "code",
   "execution_count": null,
   "id": "bd9e89c7-179b-474c-8ee1-1092ab1d3826",
   "metadata": {},
   "outputs": [],
   "source": []
  },
  {
   "cell_type": "markdown",
   "id": "fa04d37e-69b1-4a18-a5dd-92379903f686",
   "metadata": {},
   "source": [
    "#### sql"
   ]
  },
  {
   "cell_type": "code",
   "execution_count": null,
   "id": "49ec2a30-f00b-476c-bf02-bb69b0be06a1",
   "metadata": {
    "tags": []
   },
   "outputs": [],
   "source": [
    "output = agent_executor.run(\"What are total RWA and EAD for reporting date 31-12-2022?\")"
   ]
  },
  {
   "cell_type": "code",
   "execution_count": null,
   "id": "7f5d555d-0114-48a7-a156-863283fe9679",
   "metadata": {
    "tags": []
   },
   "outputs": [],
   "source": [
    "output = agent_executor.run(\"What is the change in total RWA from reporting date 2022-12-31 to reporting date 2023-03-31?\")"
   ]
  },
  {
   "cell_type": "code",
   "execution_count": null,
   "id": "b166dcf8-3e00-46f4-a908-6e4912c858af",
   "metadata": {
    "tags": []
   },
   "outputs": [],
   "source": [
    "output = agent_executor.run(\"What is the total exposure of only those loan ids that have status from Performing on reporting date 2022-12-31 and status Non Performing on reporting date 2023-03-31?\")"
   ]
  },
  {
   "cell_type": "markdown",
   "id": "2e79a255-73fd-4e2a-a827-4a7acaed37bc",
   "metadata": {},
   "source": [
    "#### sql + rw"
   ]
  },
  {
   "cell_type": "code",
   "execution_count": null,
   "id": "deec3f0f-d955-4592-ba04-f2532a82dc9e",
   "metadata": {
    "tags": []
   },
   "outputs": [],
   "source": [
    "output = agent_executor.run(\"Read the information in table corporate_portfolio for loan id 1439964799kgeq68 and for reporting date 31-12-2022\")"
   ]
  },
  {
   "cell_type": "code",
   "execution_count": null,
   "id": "667f4bcd-b21d-4a5f-ab38-3e5e8e97fd3c",
   "metadata": {},
   "outputs": [],
   "source": [
    "output = agent_executor.run(\"What will be the RW if PD doubles\")"
   ]
  },
  {
   "cell_type": "code",
   "execution_count": null,
   "id": "5dbaad7b-94ef-4084-a5c4-d63110f13698",
   "metadata": {},
   "outputs": [],
   "source": [
    "output = agent_executor.run(\"What about if LGD doubles\")"
   ]
  },
  {
   "cell_type": "code",
   "execution_count": null,
   "id": "0947ec84-bb67-4f65-817c-f1fe91a5cd1d",
   "metadata": {},
   "outputs": [],
   "source": [
    "output = agent_executor.run(\"And if MATURITY becomes 6.23\")"
   ]
  },
  {
   "cell_type": "code",
   "execution_count": null,
   "id": "0922d2c6-c7ee-48f8-9aa3-931256c21c7b",
   "metadata": {},
   "outputs": [],
   "source": [
    "output = agent_executor.run(\"What if all three parameters change like that?\")"
   ]
  },
  {
   "cell_type": "code",
   "execution_count": null,
   "id": "34775e87-4422-4c80-8fe6-e599211f4ece",
   "metadata": {
    "tags": []
   },
   "outputs": [],
   "source": [
    "output = agent_executor.run(\"Start over again and read the all information in table corporate_portfolio for loan id 1439964799kgeq68 but for reporting date 2023-03-31\")"
   ]
  },
  {
   "cell_type": "code",
   "execution_count": null,
   "id": "fe409172-0a05-4942-b747-f5b0ca29c3ad",
   "metadata": {},
   "outputs": [],
   "source": [
    "output = agent_executor.run(\"What is the change in PD for loan id 1439964799kgeq68 between reporting date 2022-12-31 and 2023-03-31\")"
   ]
  },
  {
   "cell_type": "code",
   "execution_count": null,
   "id": "5bc7bcfd-8dab-42d7-9a0e-4231d4aee83c",
   "metadata": {},
   "outputs": [],
   "source": []
  }
 ],
 "metadata": {
  "kernelspec": {
   "display_name": "saturn (Python 3)",
   "language": "python",
   "name": "python3"
  },
  "language_info": {
   "codemirror_mode": {
    "name": "ipython",
    "version": 3
   },
   "file_extension": ".py",
   "mimetype": "text/x-python",
   "name": "python",
   "nbconvert_exporter": "python",
   "pygments_lexer": "ipython3",
   "version": "3.9.15"
  }
 },
 "nbformat": 4,
 "nbformat_minor": 5
}
